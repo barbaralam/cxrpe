{
 "cells": [
  {
   "cell_type": "code",
   "execution_count": null,
   "id": "a2a374c1",
   "metadata": {},
   "outputs": [],
   "source": [
    "import wfdb\n",
    "import numpy as np\n",
    "import matplotlib.pyplot as plt"
   ]
  },
  {
   "cell_type": "code",
   "execution_count": null,
   "id": "40ab6717",
   "metadata": {
    "scrolled": true
   },
   "outputs": [],
   "source": [
    "# Demo 1 - Read a WFDB record using the 'rdrecord' function into a wfdb.Record object.\n",
    "# Plot the signals, and show the data.\n",
    "record = wfdb.rdrecord(path) \n",
    "wfdb.plot_wfdb(record=record, title=f'Record {path}') \n",
    "display(record.__dict__)"
   ]
  },
  {
   "cell_type": "code",
   "execution_count": null,
   "id": "bd07d418",
   "metadata": {
    "scrolled": true
   },
   "outputs": [],
   "source": [
    "\n",
    "fig = wfdb.plot_wfdb(record=record, \n",
    "               title=' ', \n",
    "               time_units='seconds',\n",
    "               return_fig=True,\n",
    "               figsize=(15,15))\n",
    "fig.savefig(f\"/data/vision/polina/scratch/wpq/github/cxrpe/data/{ekg_id}.jpeg\",\n",
    "            dpi=300)"
   ]
  },
  {
   "cell_type": "code",
   "execution_count": null,
   "id": "2979d1ac",
   "metadata": {},
   "outputs": [],
   "source": [
    "df = record.to_dataframe()\n",
    "df"
   ]
  },
  {
   "cell_type": "code",
   "execution_count": null,
   "id": "67e62e58",
   "metadata": {
    "scrolled": true
   },
   "outputs": [],
   "source": [
    "X = record.__dict__['p_signal']\n",
    "\n",
    "fig, axs = plt.subplots(12,1,figsize=(12,12), sharex=True)\n",
    "for i in range(12):\n",
    "    ax = axs[i]\n",
    "    ax.plot(X[:,i])"
   ]
  },
  {
   "cell_type": "code",
   "execution_count": null,
   "id": "aade04bb",
   "metadata": {},
   "outputs": [],
   "source": [
    "# Demo 2 - Read certain channels and sections of the WFDB record using the simplified 'rdsamp' function\n",
    "# which returns a numpy array and a dictionary. Show the data.\n",
    "signals, fields = wfdb.rdsamp(path, channels=[0, 11], sampfrom=0, sampto=5000)\n",
    "display(signals)\n",
    "display(fields)\n",
    "\n",
    "assert(np.all(record.__dict__['p_signal'][:,[0,11]] == signals))"
   ]
  },
  {
   "cell_type": "code",
   "execution_count": null,
   "id": "55a94090",
   "metadata": {},
   "outputs": [],
   "source": [
    "# Demo 3 - Read a WFDB header file only (without the signals)\n",
    "record = wfdb.rdheader(path)\n",
    "display(record.__dict__)\n"
   ]
  }
 ],
 "metadata": {
  "kernelspec": {
   "display_name": "Python [conda env:cxrpe] *",
   "language": "python",
   "name": "conda-env-cxrpe-py"
  },
  "language_info": {
   "codemirror_mode": {
    "name": "ipython",
    "version": 3
   },
   "file_extension": ".py",
   "mimetype": "text/x-python",
   "name": "python",
   "nbconvert_exporter": "python",
   "pygments_lexer": "ipython3",
   "version": "3.10.13"
  }
 },
 "nbformat": 4,
 "nbformat_minor": 5
}
