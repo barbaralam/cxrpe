{
 "cells": [
  {
   "cell_type": "markdown",
   "id": "a7600225",
   "metadata": {},
   "source": [
    "https://huggingface.co/docs/transformers/en/tasks/sequence_classification"
   ]
  },
  {
   "cell_type": "code",
   "execution_count": 1,
   "id": "8c3e2030",
   "metadata": {},
   "outputs": [
    {
     "name": "stderr",
     "output_type": "stream",
     "text": [
      "/data/vision/polina/shared_software/miniconda3/envs/cxrpe/lib/python3.10/site-packages/tqdm/auto.py:21: TqdmWarning: IProgress not found. Please update jupyter and ipywidgets. See https://ipywidgets.readthedocs.io/en/stable/user_install.html\n",
      "  from .autonotebook import tqdm as notebook_tqdm\n"
     ]
    }
   ],
   "source": [
    "import pandas as pd\n",
    "import datasets\n",
    "import evaluate\n",
    "import numpy as np"
   ]
  },
  {
   "cell_type": "code",
   "execution_count": 3,
   "id": "a7d6ffe3",
   "metadata": {},
   "outputs": [],
   "source": [
    "import os"
   ]
  },
  {
   "cell_type": "code",
   "execution_count": 4,
   "id": "1bc405b3",
   "metadata": {},
   "outputs": [
    {
     "data": {
      "text/plain": [
       "'0'"
      ]
     },
     "execution_count": 4,
     "metadata": {},
     "output_type": "execute_result"
    }
   ],
   "source": [
    "os.environ['CUDA_VISIBLE_DEVICES']"
   ]
  },
  {
   "cell_type": "code",
   "execution_count": 5,
   "id": "221cdd66",
   "metadata": {},
   "outputs": [
    {
     "name": "stdout",
     "output_type": "stream",
     "text": [
      "Fri Mar 29 17:14:25 2024       \r\n",
      "+---------------------------------------------------------------------------------------+\r\n",
      "| NVIDIA-SMI 535.129.03             Driver Version: 535.129.03   CUDA Version: 12.2     |\r\n",
      "|-----------------------------------------+----------------------+----------------------+\r\n",
      "| GPU  Name                 Persistence-M | Bus-Id        Disp.A | Volatile Uncorr. ECC |\r\n",
      "| Fan  Temp   Perf          Pwr:Usage/Cap |         Memory-Usage | GPU-Util  Compute M. |\r\n",
      "|                                         |                      |               MIG M. |\r\n",
      "|=========================================+======================+======================|\r\n",
      "|   0  NVIDIA GeForce RTX 2080 Ti     On  | 00000000:3B:00.0 Off |                  N/A |\r\n",
      "| 32%   31C    P8              19W / 250W |      1MiB / 11264MiB |      0%      Default |\r\n",
      "|                                         |                      |                  N/A |\r\n",
      "+-----------------------------------------+----------------------+----------------------+\r\n",
      "|   1  NVIDIA GeForce RTX 2080 Ti     On  | 00000000:5E:00.0 Off |                  N/A |\r\n",
      "| 33%   26C    P8               4W / 250W |      1MiB / 11264MiB |      0%      Default |\r\n",
      "|                                         |                      |                  N/A |\r\n",
      "+-----------------------------------------+----------------------+----------------------+\r\n",
      "|   2  NVIDIA GeForce RTX 2080 Ti     On  | 00000000:86:00.0 Off |                  N/A |\r\n",
      "| 32%   27C    P8              23W / 250W |      1MiB / 11264MiB |      0%      Default |\r\n",
      "|                                         |                      |                  N/A |\r\n",
      "+-----------------------------------------+----------------------+----------------------+\r\n",
      "|   3  NVIDIA GeForce RTX 2080 Ti     On  | 00000000:AF:00.0 Off |                  N/A |\r\n",
      "| 32%   26C    P8              16W / 250W |      1MiB / 11264MiB |      0%      Default |\r\n",
      "|                                         |                      |                  N/A |\r\n",
      "+-----------------------------------------+----------------------+----------------------+\r\n",
      "                                                                                         \r\n",
      "+---------------------------------------------------------------------------------------+\r\n",
      "| Processes:                                                                            |\r\n",
      "|  GPU   GI   CI        PID   Type   Process name                            GPU Memory |\r\n",
      "|        ID   ID                                                             Usage      |\r\n",
      "|=======================================================================================|\r\n",
      "|  No running processes found                                                           |\r\n",
      "+---------------------------------------------------------------------------------------+\r\n"
     ]
    }
   ],
   "source": [
    "!nvidia-smi"
   ]
  },
  {
   "cell_type": "code",
   "execution_count": null,
   "id": "d1040720",
   "metadata": {},
   "outputs": [],
   "source": [
    "# Loading huggingface "
   ]
  },
  {
   "cell_type": "code",
   "execution_count": 6,
   "id": "840d46e4",
   "metadata": {},
   "outputs": [],
   "source": [
    "from transformers import AutoTokenizer\n",
    "from transformers import DataCollatorWithPadding"
   ]
  },
  {
   "cell_type": "code",
   "execution_count": 17,
   "id": "791c6f02",
   "metadata": {},
   "outputs": [],
   "source": [
    "from transformers import AutoModelForSequenceClassification, TrainingArguments, Trainer"
   ]
  },
  {
   "cell_type": "code",
   "execution_count": 10,
   "id": "eee3d9ca",
   "metadata": {},
   "outputs": [
    {
     "data": {
      "text/plain": [
       "2392"
      ]
     },
     "execution_count": 10,
     "metadata": {},
     "output_type": "execute_result"
    }
   ],
   "source": [
    "df1 = pd.read_csv('../data/Modeling/EKGneg48.csv')\n",
    "df2 = pd.read_csv('../data/Modeling/EKGpos48.csv')\n",
    "\n",
    "# convert 'PE' from bool to int\n",
    "df1['PE'] = 0\n",
    "df2['PE'] = 1\n",
    "\n",
    "# some text=NaN drop these rows\n",
    "df1 = df1.dropna(subset=['text_y'])\n",
    "df2 = df2.dropna(subset=['text_y'])\n",
    "\n",
    "# some text=ECG interpreted by ordering physician, contains no information about the EKG, remove\n",
    "interp_by_doctor = lambda x: 'ECG interpreted by ordering physician' in x\n",
    "df1 = df1[~df1['text_y'].apply(interp_by_doctor)]\n",
    "df2 = df2[~df2['text_y'].apply(interp_by_doctor)]\n",
    "\n",
    "\n",
    "Np = len(df2)\n",
    "df1 = df1.sample(n=Np, random_state=42)\n",
    "\n",
    "df = pd.concat([df1, df2], axis=0)\n",
    "cols = {'text_y': 'text', 'PE': 'label'}\n",
    "df = df[list(cols.keys())].rename(columns=cols)\n",
    "len(df)"
   ]
  },
  {
   "cell_type": "code",
   "execution_count": 11,
   "id": "144b7c4f",
   "metadata": {},
   "outputs": [
    {
     "data": {
      "text/plain": [
       "{'text': ['Sinus tachycardia.  Left ventricular hypertrophy with secondary repolarization\\nabnormalities.  Lateral myocardial infarction of indeterminate age.  Compared\\nto the previous tracing evidence of left ventricular hypertrophy is new.  The\\nsinus rate has increased.  The Q-T interval has shortened.  \\nTRACING #4\\n\\n',\n",
       "  'Sinus rhythm. Left axis deviation. Left anterior fascicular block.\\nNon-diagnostic repolarization abnormalities. Compared to the ___ there is no diagnostic change.\\nTRACING #1\\n\\n',\n",
       "  'Probable atypical atrial flutter with variable conduction and occasional\\nuniform ventricular premature beats.  There is low limb lead voltage.\\nOthewise, normal intervals and normal axis.  Compared to the ___ the atial flutter persists but now conducts in a variable fashion.\\n\\n'],\n",
       " 'label': [1, 0, 0]}"
      ]
     },
     "execution_count": 11,
     "metadata": {},
     "output_type": "execute_result"
    }
   ],
   "source": [
    "# This converts your dataframe to datasets and shows you the first 3 rows\n",
    "ds = datasets.Dataset.from_pandas(df, preserve_index=False)\n",
    "ds = ds.train_test_split(test_size=0.3)\n",
    "ds['train'][:3]"
   ]
  },
  {
   "cell_type": "code",
   "execution_count": 12,
   "id": "200e997c",
   "metadata": {},
   "outputs": [],
   "source": [
    "# This identifies which model you want to use\n",
    "model_name = \"distilbert/distilbert-base-uncased\"\n",
    "model_name = \"emilyalsentzer/Bio_ClinicalBERT\""
   ]
  },
  {
   "cell_type": "code",
   "execution_count": 13,
   "id": "1f491983",
   "metadata": {},
   "outputs": [
    {
     "name": "stderr",
     "output_type": "stream",
     "text": [
      "Map:   0%|          | 0/1674 [00:00<?, ? examples/s]Asking to truncate to max_length but no maximum length is provided and the model has no predefined maximum length. Default to no truncation.\n",
      "Map: 100%|██████████| 1674/1674 [00:00<00:00, 9203.07 examples/s]\n",
      "Map: 100%|██████████| 718/718 [00:00<00:00, 12525.67 examples/s]\n"
     ]
    }
   ],
   "source": [
    "# This converts text to tokens\n",
    "def preprocess_function(examples):\n",
    "    return tokenizer(examples[\"text\"], truncation=True)\n",
    "\n",
    "tokenizer = AutoTokenizer.from_pretrained(model_name)\n",
    "train_ds = ds.map(preprocess_function, batched=True)"
   ]
  },
  {
   "cell_type": "code",
   "execution_count": 14,
   "id": "54798861",
   "metadata": {
    "scrolled": true
   },
   "outputs": [
    {
     "data": {
      "text/plain": [
       "{'text': 'Sinus tachycardia.  Left ventricular hypertrophy with secondary repolarization\\nabnormalities.  Lateral myocardial infarction of indeterminate age.  Compared\\nto the previous tracing evidence of left ventricular hypertrophy is new.  The\\nsinus rate has increased.  The Q-T interval has shortened.  \\nTRACING #4\\n\\n',\n",
       " 'label': 1,\n",
       " 'input_ids': [101,\n",
       "  11850,\n",
       "  1361,\n",
       "  27629,\n",
       "  8992,\n",
       "  10542,\n",
       "  1465,\n",
       "  119,\n",
       "  1286,\n",
       "  21828,\n",
       "  4907,\n",
       "  5552,\n",
       "  177,\n",
       "  24312,\n",
       "  8005,\n",
       "  22192,\n",
       "  1114,\n",
       "  3718,\n",
       "  1231,\n",
       "  23043,\n",
       "  7710,\n",
       "  8569,\n",
       "  22832,\n",
       "  4233,\n",
       "  119,\n",
       "  11937,\n",
       "  1139,\n",
       "  13335,\n",
       "  2881,\n",
       "  2916,\n",
       "  1107,\n",
       "  14794,\n",
       "  5796,\n",
       "  1104,\n",
       "  1107,\n",
       "  26514,\n",
       "  1200,\n",
       "  17379,\n",
       "  1425,\n",
       "  119,\n",
       "  3402,\n",
       "  1106,\n",
       "  1103,\n",
       "  2166,\n",
       "  19225,\n",
       "  2554,\n",
       "  1104,\n",
       "  1286,\n",
       "  21828,\n",
       "  4907,\n",
       "  5552,\n",
       "  177,\n",
       "  24312,\n",
       "  8005,\n",
       "  22192,\n",
       "  1110,\n",
       "  1207,\n",
       "  119,\n",
       "  1103,\n",
       "  11850,\n",
       "  1361,\n",
       "  2603,\n",
       "  1144,\n",
       "  2569,\n",
       "  119,\n",
       "  1103,\n",
       "  186,\n",
       "  118,\n",
       "  189,\n",
       "  14235,\n",
       "  1144,\n",
       "  12898,\n",
       "  119,\n",
       "  19225,\n",
       "  108,\n",
       "  125,\n",
       "  102],\n",
       " 'token_type_ids': [0,\n",
       "  0,\n",
       "  0,\n",
       "  0,\n",
       "  0,\n",
       "  0,\n",
       "  0,\n",
       "  0,\n",
       "  0,\n",
       "  0,\n",
       "  0,\n",
       "  0,\n",
       "  0,\n",
       "  0,\n",
       "  0,\n",
       "  0,\n",
       "  0,\n",
       "  0,\n",
       "  0,\n",
       "  0,\n",
       "  0,\n",
       "  0,\n",
       "  0,\n",
       "  0,\n",
       "  0,\n",
       "  0,\n",
       "  0,\n",
       "  0,\n",
       "  0,\n",
       "  0,\n",
       "  0,\n",
       "  0,\n",
       "  0,\n",
       "  0,\n",
       "  0,\n",
       "  0,\n",
       "  0,\n",
       "  0,\n",
       "  0,\n",
       "  0,\n",
       "  0,\n",
       "  0,\n",
       "  0,\n",
       "  0,\n",
       "  0,\n",
       "  0,\n",
       "  0,\n",
       "  0,\n",
       "  0,\n",
       "  0,\n",
       "  0,\n",
       "  0,\n",
       "  0,\n",
       "  0,\n",
       "  0,\n",
       "  0,\n",
       "  0,\n",
       "  0,\n",
       "  0,\n",
       "  0,\n",
       "  0,\n",
       "  0,\n",
       "  0,\n",
       "  0,\n",
       "  0,\n",
       "  0,\n",
       "  0,\n",
       "  0,\n",
       "  0,\n",
       "  0,\n",
       "  0,\n",
       "  0,\n",
       "  0,\n",
       "  0,\n",
       "  0,\n",
       "  0,\n",
       "  0],\n",
       " 'attention_mask': [1,\n",
       "  1,\n",
       "  1,\n",
       "  1,\n",
       "  1,\n",
       "  1,\n",
       "  1,\n",
       "  1,\n",
       "  1,\n",
       "  1,\n",
       "  1,\n",
       "  1,\n",
       "  1,\n",
       "  1,\n",
       "  1,\n",
       "  1,\n",
       "  1,\n",
       "  1,\n",
       "  1,\n",
       "  1,\n",
       "  1,\n",
       "  1,\n",
       "  1,\n",
       "  1,\n",
       "  1,\n",
       "  1,\n",
       "  1,\n",
       "  1,\n",
       "  1,\n",
       "  1,\n",
       "  1,\n",
       "  1,\n",
       "  1,\n",
       "  1,\n",
       "  1,\n",
       "  1,\n",
       "  1,\n",
       "  1,\n",
       "  1,\n",
       "  1,\n",
       "  1,\n",
       "  1,\n",
       "  1,\n",
       "  1,\n",
       "  1,\n",
       "  1,\n",
       "  1,\n",
       "  1,\n",
       "  1,\n",
       "  1,\n",
       "  1,\n",
       "  1,\n",
       "  1,\n",
       "  1,\n",
       "  1,\n",
       "  1,\n",
       "  1,\n",
       "  1,\n",
       "  1,\n",
       "  1,\n",
       "  1,\n",
       "  1,\n",
       "  1,\n",
       "  1,\n",
       "  1,\n",
       "  1,\n",
       "  1,\n",
       "  1,\n",
       "  1,\n",
       "  1,\n",
       "  1,\n",
       "  1,\n",
       "  1,\n",
       "  1,\n",
       "  1,\n",
       "  1,\n",
       "  1]}"
      ]
     },
     "execution_count": 14,
     "metadata": {},
     "output_type": "execute_result"
    }
   ],
   "source": [
    "# Showing the tokenization of the first row in the text column\n",
    "train_ds['train'][0]"
   ]
  },
  {
   "cell_type": "code",
   "execution_count": 15,
   "id": "8d3f9d1e",
   "metadata": {
    "scrolled": true
   },
   "outputs": [],
   "source": [
    "# Pulls your data together into your batch size as input into the model\n",
    "data_collator = DataCollatorWithPadding(tokenizer=tokenizer)"
   ]
  },
  {
   "cell_type": "code",
   "execution_count": 16,
   "id": "0b8b1372",
   "metadata": {},
   "outputs": [
    {
     "name": "stderr",
     "output_type": "stream",
     "text": [
      "Downloading builder script: 100%|██████████| 4.20k/4.20k [00:00<00:00, 8.55MB/s]\n"
     ]
    }
   ],
   "source": [
    "# Set which evaluation metrics you want to use\n",
    "accuracy = evaluate.load(\"accuracy\")\n",
    "\n",
    "def compute_metrics(eval_pred):\n",
    "    predictions, labels = eval_pred\n",
    "    predictions = np.argmax(predictions, axis=1)\n",
    "    return accuracy.compute(predictions=predictions, references=labels)"
   ]
  },
  {
   "cell_type": "code",
   "execution_count": 18,
   "id": "043b48de",
   "metadata": {},
   "outputs": [
    {
     "name": "stderr",
     "output_type": "stream",
     "text": [
      "Some weights of BertForSequenceClassification were not initialized from the model checkpoint at emilyalsentzer/Bio_ClinicalBERT and are newly initialized: ['classifier.bias', 'classifier.weight']\n",
      "You should probably TRAIN this model on a down-stream task to be able to use it for predictions and inference.\n"
     ]
    }
   ],
   "source": [
    "id2label = {0: \"NEGATIVE\", 1: \"POSITIVE\"}\n",
    "label2id = {\"NEGATIVE\": 0, \"POSITIVE\": 1}\n",
    "\n",
    "model = AutoModelForSequenceClassification.from_pretrained(\n",
    "    model_name, num_labels=2, id2label=id2label, label2id=label2id\n",
    ")"
   ]
  },
  {
   "cell_type": "code",
   "execution_count": 25,
   "id": "d3a9e342",
   "metadata": {},
   "outputs": [
    {
     "name": "stderr",
     "output_type": "stream",
     "text": [
      "/data/vision/polina/shared_software/miniconda3/envs/cxrpe/lib/python3.10/site-packages/accelerate/accelerator.py:432: FutureWarning: Passing the following arguments to `Accelerator` is deprecated and will be removed in version 1.0 of Accelerate: dict_keys(['dispatch_batches', 'split_batches', 'even_batches', 'use_seedable_sampler']). Please pass an `accelerate.DataLoaderConfiguration` instead: \n",
      "dataloader_config = DataLoaderConfiguration(dispatch_batches=None, split_batches=False, even_batches=True, use_seedable_sampler=True)\n",
      "  warnings.warn(\n"
     ]
    },
    {
     "data": {
      "text/html": [
       "\n",
       "    <div>\n",
       "      \n",
       "      <progress value='1575' max='1575' style='width:300px; height:20px; vertical-align: middle;'></progress>\n",
       "      [1575/1575 04:29, Epoch 15/15]\n",
       "    </div>\n",
       "    <table border=\"1\" class=\"dataframe\">\n",
       "  <thead>\n",
       " <tr style=\"text-align: left;\">\n",
       "      <th>Epoch</th>\n",
       "      <th>Training Loss</th>\n",
       "      <th>Validation Loss</th>\n",
       "      <th>Accuracy</th>\n",
       "    </tr>\n",
       "  </thead>\n",
       "  <tbody>\n",
       "    <tr>\n",
       "      <td>1</td>\n",
       "      <td>No log</td>\n",
       "      <td>0.698152</td>\n",
       "      <td>0.502786</td>\n",
       "    </tr>\n",
       "    <tr>\n",
       "      <td>2</td>\n",
       "      <td>No log</td>\n",
       "      <td>0.692021</td>\n",
       "      <td>0.519499</td>\n",
       "    </tr>\n",
       "    <tr>\n",
       "      <td>3</td>\n",
       "      <td>No log</td>\n",
       "      <td>0.726923</td>\n",
       "      <td>0.520891</td>\n",
       "    </tr>\n",
       "    <tr>\n",
       "      <td>4</td>\n",
       "      <td>No log</td>\n",
       "      <td>0.714685</td>\n",
       "      <td>0.536212</td>\n",
       "    </tr>\n",
       "    <tr>\n",
       "      <td>5</td>\n",
       "      <td>0.657800</td>\n",
       "      <td>0.745918</td>\n",
       "      <td>0.564067</td>\n",
       "    </tr>\n",
       "    <tr>\n",
       "      <td>6</td>\n",
       "      <td>0.657800</td>\n",
       "      <td>1.020749</td>\n",
       "      <td>0.545961</td>\n",
       "    </tr>\n",
       "    <tr>\n",
       "      <td>7</td>\n",
       "      <td>0.657800</td>\n",
       "      <td>1.323951</td>\n",
       "      <td>0.540390</td>\n",
       "    </tr>\n",
       "    <tr>\n",
       "      <td>8</td>\n",
       "      <td>0.657800</td>\n",
       "      <td>1.525181</td>\n",
       "      <td>0.527855</td>\n",
       "    </tr>\n",
       "    <tr>\n",
       "      <td>9</td>\n",
       "      <td>0.657800</td>\n",
       "      <td>1.715344</td>\n",
       "      <td>0.520891</td>\n",
       "    </tr>\n",
       "    <tr>\n",
       "      <td>10</td>\n",
       "      <td>0.304200</td>\n",
       "      <td>2.119939</td>\n",
       "      <td>0.548747</td>\n",
       "    </tr>\n",
       "    <tr>\n",
       "      <td>11</td>\n",
       "      <td>0.304200</td>\n",
       "      <td>2.158388</td>\n",
       "      <td>0.554318</td>\n",
       "    </tr>\n",
       "    <tr>\n",
       "      <td>12</td>\n",
       "      <td>0.304200</td>\n",
       "      <td>2.264288</td>\n",
       "      <td>0.548747</td>\n",
       "    </tr>\n",
       "    <tr>\n",
       "      <td>13</td>\n",
       "      <td>0.304200</td>\n",
       "      <td>2.570921</td>\n",
       "      <td>0.541783</td>\n",
       "    </tr>\n",
       "    <tr>\n",
       "      <td>14</td>\n",
       "      <td>0.304200</td>\n",
       "      <td>2.680368</td>\n",
       "      <td>0.541783</td>\n",
       "    </tr>\n",
       "    <tr>\n",
       "      <td>15</td>\n",
       "      <td>0.103900</td>\n",
       "      <td>2.734240</td>\n",
       "      <td>0.545961</td>\n",
       "    </tr>\n",
       "  </tbody>\n",
       "</table><p>"
      ],
      "text/plain": [
       "<IPython.core.display.HTML object>"
      ]
     },
     "metadata": {},
     "output_type": "display_data"
    },
    {
     "name": "stderr",
     "output_type": "stream",
     "text": [
      "Checkpoint destination directory results/note_text_classifier/checkpoint-105 already exists and is non-empty. Saving will proceed but saved results may be invalid.\n",
      "Checkpoint destination directory results/note_text_classifier/checkpoint-210 already exists and is non-empty. Saving will proceed but saved results may be invalid.\n",
      "Checkpoint destination directory results/note_text_classifier/checkpoint-315 already exists and is non-empty. Saving will proceed but saved results may be invalid.\n",
      "Checkpoint destination directory results/note_text_classifier/checkpoint-420 already exists and is non-empty. Saving will proceed but saved results may be invalid.\n",
      "Checkpoint destination directory results/note_text_classifier/checkpoint-525 already exists and is non-empty. Saving will proceed but saved results may be invalid.\n",
      "Checkpoint destination directory results/note_text_classifier/checkpoint-630 already exists and is non-empty. Saving will proceed but saved results may be invalid.\n",
      "Checkpoint destination directory results/note_text_classifier/checkpoint-735 already exists and is non-empty. Saving will proceed but saved results may be invalid.\n",
      "Checkpoint destination directory results/note_text_classifier/checkpoint-840 already exists and is non-empty. Saving will proceed but saved results may be invalid.\n",
      "Checkpoint destination directory results/note_text_classifier/checkpoint-945 already exists and is non-empty. Saving will proceed but saved results may be invalid.\n",
      "Checkpoint destination directory results/note_text_classifier/checkpoint-1050 already exists and is non-empty. Saving will proceed but saved results may be invalid.\n",
      "Checkpoint destination directory results/note_text_classifier/checkpoint-1155 already exists and is non-empty. Saving will proceed but saved results may be invalid.\n",
      "Checkpoint destination directory results/note_text_classifier/checkpoint-1260 already exists and is non-empty. Saving will proceed but saved results may be invalid.\n"
     ]
    }
   ],
   "source": [
    "training_args = TrainingArguments(\n",
    "    output_dir=\"results/note_text_classifier\",\n",
    "    learning_rate=1e-4,\n",
    "    per_device_train_batch_size=16,\n",
    "    per_device_eval_batch_size=16,\n",
    "    num_train_epochs=15,\n",
    "    weight_decay=0.01,\n",
    "    evaluation_strategy=\"epoch\",\n",
    "    save_strategy=\"epoch\",\n",
    "    load_best_model_at_end=True,\n",
    ")\n",
    "\n",
    "trainer = Trainer(\n",
    "    model=model,\n",
    "    args=training_args,\n",
    "    train_dataset=train_ds[\"train\"],\n",
    "    eval_dataset=train_ds[\"test\"],\n",
    "    tokenizer=tokenizer,\n",
    "    data_collator=data_collator,\n",
    "    compute_metrics=compute_metrics,\n",
    ")\n",
    "\n",
    "train_result = trainer.train()"
   ]
  },
  {
   "cell_type": "code",
   "execution_count": 23,
   "id": "30074346",
   "metadata": {},
   "outputs": [
    {
     "data": {
      "text/plain": [
       "{'train_runtime': 213.6955,\n",
       " 'train_samples_per_second': 94.003,\n",
       " 'train_steps_per_second': 5.896,\n",
       " 'total_flos': 1121302234627320.0,\n",
       " 'train_loss': 0.43640918428935704,\n",
       " 'epoch': 12.0}"
      ]
     },
     "execution_count": 23,
     "metadata": {},
     "output_type": "execute_result"
    }
   ],
   "source": [
    "train_result.metrics"
   ]
  },
  {
   "cell_type": "code",
   "execution_count": 24,
   "id": "a6cda2ad",
   "metadata": {},
   "outputs": [
    {
     "data": {
      "text/html": [
       "\n",
       "    <div>\n",
       "      \n",
       "      <progress value='45' max='45' style='width:300px; height:20px; vertical-align: middle;'></progress>\n",
       "      [45/45 00:01]\n",
       "    </div>\n",
       "    "
      ],
      "text/plain": [
       "<IPython.core.display.HTML object>"
      ]
     },
     "metadata": {},
     "output_type": "display_data"
    },
    {
     "data": {
      "text/plain": [
       "{'eval_loss': 0.7217142581939697,\n",
       " 'eval_accuracy': 0.5292479108635098,\n",
       " 'eval_runtime': 1.7269,\n",
       " 'eval_samples_per_second': 415.782,\n",
       " 'eval_steps_per_second': 26.059,\n",
       " 'epoch': 12.0}"
      ]
     },
     "execution_count": 24,
     "metadata": {},
     "output_type": "execute_result"
    }
   ],
   "source": [
    "metrics = trainer.evaluate(eval_dataset=train_ds['test'])\n",
    "metrics"
   ]
  },
  {
   "cell_type": "code",
   "execution_count": null,
   "id": "a4c2f0df",
   "metadata": {},
   "outputs": [],
   "source": []
  }
 ],
 "metadata": {
  "kernelspec": {
   "display_name": "Python [conda env:cxrpe] *",
   "language": "python",
   "name": "conda-env-cxrpe-py"
  },
  "language_info": {
   "codemirror_mode": {
    "name": "ipython",
    "version": 3
   },
   "file_extension": ".py",
   "mimetype": "text/x-python",
   "name": "python",
   "nbconvert_exporter": "python",
   "pygments_lexer": "ipython3",
   "version": "3.10.13"
  }
 },
 "nbformat": 4,
 "nbformat_minor": 5
}
