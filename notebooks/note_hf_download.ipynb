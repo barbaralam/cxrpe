{
 "cells": [
  {
   "cell_type": "code",
   "execution_count": null,
   "id": "e1c22983",
   "metadata": {},
   "outputs": [],
   "source": [
    "import platform\n",
    "import sys\n",
    "from huggingface_hub import snapshot_download\n",
    "import os\n",
    "\n",
    "!echo $HF_HOME\n",
    "!df -h"
   ]
  },
  {
   "cell_type": "code",
   "execution_count": null,
   "id": "f82e3e39",
   "metadata": {},
   "outputs": [],
   "source": [
    "with open('/data/vision/polina/scratch/wpq/.hf_token', 'r') as f:\n",
    "    token = f.read().strip()"
   ]
  },
  {
   "cell_type": "code",
   "execution_count": null,
   "id": "6dd54d1e",
   "metadata": {},
   "outputs": [],
   "source": [
    "save_dir = './results/baselines/'\n",
    "os.makedirs(save_dir, exist_ok=True)\n",
    "\n",
    "repo_ids = [ \n",
    "    'unsloth/llama-3-8b',\n",
    "    'google/gemma-2b',\n",
    "    'openai-community/gpt2',\n",
    "]\n",
    "for repo_id in repo_ids:\n",
    "    snapshot_download(repo_id=repo_id, \n",
    "                      local_dir=os.path.realpath(os.path.join(save_dir, repo_id)),\n",
    "                      token=token\n",
    "                     )"
   ]
  }
 ],
 "metadata": {
  "kernelspec": {
   "display_name": "Python 3 (ipykernel)",
   "language": "python",
   "name": "python3"
  },
  "language_info": {
   "codemirror_mode": {
    "name": "ipython",
    "version": 3
   },
   "file_extension": ".py",
   "mimetype": "text/x-python",
   "name": "python",
   "nbconvert_exporter": "python",
   "pygments_lexer": "ipython3",
   "version": "3.10.13"
  }
 },
 "nbformat": 4,
 "nbformat_minor": 5
}
