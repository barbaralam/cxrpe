{
 "cells": [
  {
   "cell_type": "code",
   "execution_count": 1,
   "id": "a2a374c1",
   "metadata": {},
   "outputs": [],
   "source": [
    "import wfdb\n",
    "import numpy as np\n",
    "import matplotlib.pyplot as plt\n",
    "from tqdm import tqdm\n",
    "import json\n",
    "import torch\n",
    "import pandas as pd\n",
    "import os"
   ]
  },
  {
   "cell_type": "code",
   "execution_count": 2,
   "id": "9e59b725",
   "metadata": {},
   "outputs": [
    {
     "name": "stderr",
     "output_type": "stream",
     "text": [
      "/data/vision/polina/shared_software/miniconda3/envs/cxrpe/lib/python3.10/site-packages/tqdm/auto.py:21: TqdmWarning: IProgress not found. Please update jupyter and ipywidgets. See https://ipywidgets.readthedocs.io/en/stable/user_install.html\n",
      "  from .autonotebook import tqdm as notebook_tqdm\n"
     ]
    },
    {
     "data": {
      "text/plain": [
       "Namespace(epochs=70, seed=2, sample_freq=400, seq_length=4096, scale_multiplier=10, batch_size=32, lr=0.001, patience=7, min_lr=1e-07, lr_factor=0.1, net_filter_size=[64, 128, 196, 256, 320], net_seq_lengh=[4096, 1024, 256, 64, 16], dropout_rate=0.8, kernel_size=17, folder='results/note_ecg_classification/resnet1d', traces_dset='tracings', ids_dset='', age_col='age', ids_col=None, cuda=True, n_valid=100, path_to_traces='1', path_to_csv='1')"
      ]
     },
     "execution_count": 2,
     "metadata": {},
     "output_type": "execute_result"
    }
   ],
   "source": [
    "from train_ecg_classifier import get_parser, get_df\n",
    "from rosemary import jpt_parse_args\n",
    "\n",
    "CUDA_VISIBLE_DEVICES=1 python train_ecg_classifier.py --folder=results/note_ecg_classification/resnet1d  --cuda\n",
    "\n",
    "cmd = \"\"\"\n",
    "--seq_length=4096 \\\n",
    "--folder=results/note_ecg_classification/resnet1d \\\n",
    "--lr=0.001 \\\n",
    "--cuda \\\n",
    "'1' \\\n",
    "'1' \\\n",
    "\"\"\".strip()\n",
    "\n",
    "parser = get_parser()\n",
    "args = jpt_parse_args(parser, cmd=cmd)\n",
    "args"
   ]
  },
  {
   "cell_type": "code",
   "execution_count": 5,
   "id": "2f031a15",
   "metadata": {},
   "outputs": [
    {
     "name": "stdout",
     "output_type": "stream",
     "text": [
      "Namespace(epochs=70, seed=2, sample_freq=400, seq_length=4096, scale_multiplier=10, batch_size=32, lr=0.001, patience=7, min_lr=1e-07, lr_factor=0.1, net_filter_size=[64, 128, 196, 256, 320], net_seq_lengh=[4096, 1024, 256, 64, 16], dropout_rate=0.8, kernel_size=17, folder='results/note_ecg_classification/resnet1d', traces_dset='tracings', ids_dset='', age_col='age', ids_col=None, cuda=True, n_valid=100, path_to_traces='1', path_to_csv='1')\n"
     ]
    }
   ],
   "source": [
    "torch.manual_seed(args.seed)\n",
    "print(args)\n",
    "# Set device\n",
    "device = torch.device('cuda:0' if args.cuda else 'cpu')\n",
    "folder = args.folder\n",
    "\n",
    "# Generate output folder if needed\n",
    "if not os.path.exists(args.folder):\n",
    "    os.makedirs(args.folder)\n",
    "# Save config file\n",
    "with open(os.path.join(args.folder, 'args.json'), 'w') as f:\n",
    "    json.dump(vars(args), f, indent='\\t')\n"
   ]
  },
  {
   "cell_type": "code",
   "execution_count": 6,
   "id": "86624755",
   "metadata": {},
   "outputs": [
    {
     "name": "stdout",
     "output_type": "stream",
     "text": [
      "(3352, 12, 4096) (3352,)\n",
      "(2681, 12, 4096) (2681,) (671, 12, 4096) (671,)\n"
     ]
    }
   ],
   "source": [
    "from sklearn.model_selection import train_test_split\n",
    "\n",
    "X = np.stack([x.T for x in ecgs])\n",
    "y = np.array(df['label'].tolist())\n",
    "# fill nan with 0\n",
    "X = np.nan_to_num(X, nan=0.0)\n",
    "# take the middle portion of the signal\n",
    "l = (X.shape[2] - args.seq_length)//2\n",
    "r = l + args.seq_length\n",
    "X = X[:,:,l:r]\n",
    "print(X.shape, y.shape)\n",
    "\n",
    "X_train, X_test, y_train, y_test = train_test_split(X, y, test_size=0.2, random_state=42)\n",
    "print('after train_test_split: ' X_train.shape, y_train.shape, X_test.shape, y_test.shape)\n"
   ]
  },
  {
   "cell_type": "code",
   "execution_count": 7,
   "id": "a6962244",
   "metadata": {},
   "outputs": [
    {
     "name": "stdout",
     "output_type": "stream",
     "text": [
      "84 21\n"
     ]
    }
   ],
   "source": [
    "train_loader = BatchDataloader(X_train, y_train, bs=args.batch_size, mask=np.ones(len(X_train)).astype(bool))\n",
    "valid_loader = BatchDataloader(X_test, y_test, bs=args.batch_size, mask=np.ones(len(X_test)).astype(bool))\n",
    "print('train/val loader len: ' len(train_loader), len(valid_loader))"
   ]
  },
  {
   "cell_type": "code",
   "execution_count": 8,
   "id": "e86752fd",
   "metadata": {},
   "outputs": [
    {
     "name": "stdout",
     "output_type": "stream",
     "text": [
      "Define model...\n",
      "4096 4096\n",
      "Done!\n",
      "Define optimizer...\n",
      "Done!\n",
      "Define scheduler...\n",
      "Done!\n"
     ]
    }
   ],
   "source": [
    "\n",
    "tqdm.write(\"Define model...\")\n",
    "N_LEADS = 12  # the 12 leads\n",
    "N_CLASSES = 1  # just the age\n",
    "model = ResNet1d(input_dim=(N_LEADS, args.seq_length),\n",
    "                 blocks_dim=list(zip(args.net_filter_size, args.net_seq_lengh)),\n",
    "                 n_classes=N_CLASSES,\n",
    "                 kernel_size=args.kernel_size,\n",
    "                 dropout_rate=args.dropout_rate)\n",
    "model.to(device=device)\n",
    "tqdm.write(\"Done!\")\n",
    "\n",
    "tqdm.write(\"Define optimizer...\")\n",
    "optimizer = torch.optim.Adam(model.parameters(), args.lr)\n",
    "tqdm.write(\"Done!\")\n",
    "\n",
    "tqdm.write(\"Define scheduler...\")\n",
    "scheduler = torch.optim.lr_scheduler.ReduceLROnPlateau(optimizer, patience=args.patience,\n",
    "                                                 min_lr=args.lr_factor * args.min_lr,\n",
    "                                                 factor=args.lr_factor)\n",
    "tqdm.write(\"Done!\")"
   ]
  },
  {
   "cell_type": "code",
   "execution_count": 4,
   "id": "11b54f43",
   "metadata": {},
   "outputs": [
    {
     "ename": "ImportError",
     "evalue": "cannot import name 'train' from 'train_ecg_classifier' (/data/vision/polina/scratch/wpq/github/cxrpe/notebooks/train_ecg_classifier.py)",
     "output_type": "error",
     "traceback": [
      "\u001b[0;31m---------------------------------------------------------------------------\u001b[0m",
      "\u001b[0;31mImportError\u001b[0m                               Traceback (most recent call last)",
      "Cell \u001b[0;32mIn[4], line 1\u001b[0m\n\u001b[0;32m----> 1\u001b[0m \u001b[38;5;28;01mfrom\u001b[39;00m \u001b[38;5;21;01mtrain_ecg_classifier\u001b[39;00m \u001b[38;5;28;01mimport\u001b[39;00m train, evaluate\n",
      "\u001b[0;31mImportError\u001b[0m: cannot import name 'train' from 'train_ecg_classifier' (/data/vision/polina/scratch/wpq/github/cxrpe/notebooks/train_ecg_classifier.py)"
     ]
    }
   ],
   "source": [
    "from train_ecg_classifier import train, evaluate"
   ]
  },
  {
   "cell_type": "code",
   "execution_count": 10,
   "id": "40ab6717",
   "metadata": {
    "scrolled": true
   },
   "outputs": [
    {
     "name": "stdout",
     "output_type": "stream",
     "text": [
      "Training...\n"
     ]
    },
    {
     "name": "stderr",
     "output_type": "stream",
     "text": [
      "Epoch  0: train - Loss: 0.025641: 100%|██████████| 84/84 [00:09<00:00,  8.97it/s]\n",
      "Epoch  0: valid - Loss: 0.023507: 100%|██████████| 21/21 [00:00<00:00, 44.57it/s]\n",
      "/tmp/ipykernel_456207/1188268041.py:31: FutureWarning: The behavior of DataFrame concatenation with empty or all-NA entries is deprecated. In a future version, this will no longer exclude empty or all-NA columns when determining the result dtypes. To retain the old behavior, exclude the relevant entries before the concat operation.\n",
      "  history = pd.concat([history, row], ignore_index=True)\n"
     ]
    },
    {
     "name": "stdout",
     "output_type": "stream",
     "text": [
      "Epoch  0:  l_train=0.025641    l_valid=0.023507    lr=0.0010000\t    acc/auc=0.496/0.557\n"
     ]
    },
    {
     "name": "stderr",
     "output_type": "stream",
     "text": [
      "Epoch  1: train - Loss: 0.026264: 100%|██████████| 84/84 [00:04<00:00, 17.45it/s]\n",
      "Epoch  1: valid - Loss: 0.023695: 100%|██████████| 21/21 [00:00<00:00, 53.86it/s]\n"
     ]
    },
    {
     "name": "stdout",
     "output_type": "stream",
     "text": [
      "Epoch  1:  l_train=0.026264    l_valid=0.023695    lr=0.0010000\t    acc/auc=0.474/0.521\n"
     ]
    },
    {
     "name": "stderr",
     "output_type": "stream",
     "text": [
      "Epoch  2: train - Loss: 0.026616: 100%|██████████| 84/84 [00:04<00:00, 17.54it/s]\n",
      "Epoch  2: valid - Loss: 0.023199: 100%|██████████| 21/21 [00:00<00:00, 54.26it/s]\n"
     ]
    },
    {
     "name": "stdout",
     "output_type": "stream",
     "text": [
      "Epoch  2:  l_train=0.026616    l_valid=0.023199    lr=0.0010000\t    acc/auc=0.468/0.519\n"
     ]
    },
    {
     "name": "stderr",
     "output_type": "stream",
     "text": [
      "Epoch  3: train - Loss: 0.026271: 100%|██████████| 84/84 [00:04<00:00, 17.38it/s]\n",
      "Epoch  3: valid - Loss: 0.024569: 100%|██████████| 21/21 [00:00<00:00, 54.09it/s]\n"
     ]
    },
    {
     "name": "stdout",
     "output_type": "stream",
     "text": [
      "Epoch  3:  l_train=0.026271    l_valid=0.024569    lr=0.0010000\t    acc/auc=0.492/0.562\n"
     ]
    },
    {
     "name": "stderr",
     "output_type": "stream",
     "text": [
      "Epoch  4: train - Loss: 0.026882: 100%|██████████| 84/84 [00:04<00:00, 17.42it/s]\n",
      "Epoch  4: valid - Loss: 0.025494: 100%|██████████| 21/21 [00:00<00:00, 53.83it/s]\n"
     ]
    },
    {
     "name": "stdout",
     "output_type": "stream",
     "text": [
      "Epoch  4:  l_train=0.026882    l_valid=0.025494    lr=0.0010000\t    acc/auc=0.493/0.532\n"
     ]
    },
    {
     "name": "stderr",
     "output_type": "stream",
     "text": [
      "Epoch  5: train - Loss: 0.026010: 100%|██████████| 84/84 [00:04<00:00, 17.30it/s]\n",
      "Epoch  5: valid - Loss: 0.023241: 100%|██████████| 21/21 [00:00<00:00, 53.44it/s]\n"
     ]
    },
    {
     "name": "stdout",
     "output_type": "stream",
     "text": [
      "Epoch  5:  l_train=0.026010    l_valid=0.023241    lr=0.0010000\t    acc/auc=0.483/0.563\n"
     ]
    },
    {
     "name": "stderr",
     "output_type": "stream",
     "text": [
      "Epoch  6: train - Loss: 0.026295: 100%|██████████| 84/84 [00:04<00:00, 17.21it/s]\n",
      "Epoch  6: valid - Loss: 0.024521: 100%|██████████| 21/21 [00:00<00:00, 53.33it/s]\n"
     ]
    },
    {
     "name": "stdout",
     "output_type": "stream",
     "text": [
      "Epoch  6:  l_train=0.026295    l_valid=0.024521    lr=0.0010000\t    acc/auc=0.505/0.563\n"
     ]
    },
    {
     "name": "stderr",
     "output_type": "stream",
     "text": [
      "Epoch  7: train - Loss: 0.025994: 100%|██████████| 84/84 [00:04<00:00, 17.23it/s]\n",
      "Epoch  7: valid - Loss: 0.023032: 100%|██████████| 21/21 [00:00<00:00, 53.45it/s]\n"
     ]
    },
    {
     "name": "stdout",
     "output_type": "stream",
     "text": [
      "Epoch  7:  l_train=0.025994    l_valid=0.023032    lr=0.0010000\t    acc/auc=0.519/0.589\n"
     ]
    },
    {
     "name": "stderr",
     "output_type": "stream",
     "text": [
      "Epoch  8: train - Loss: 0.026773: 100%|██████████| 84/84 [00:04<00:00, 17.04it/s]\n",
      "Epoch  8: valid - Loss: 0.022789: 100%|██████████| 21/21 [00:00<00:00, 52.89it/s]\n"
     ]
    },
    {
     "name": "stdout",
     "output_type": "stream",
     "text": [
      "Epoch  8:  l_train=0.026773    l_valid=0.022789    lr=0.0010000\t    acc/auc=0.522/0.579\n"
     ]
    },
    {
     "name": "stderr",
     "output_type": "stream",
     "text": [
      "Epoch  9: train - Loss: 0.027954: 100%|██████████| 84/84 [00:04<00:00, 17.06it/s]\n",
      "Epoch  9: valid - Loss: 0.022792: 100%|██████████| 21/21 [00:00<00:00, 52.93it/s]\n"
     ]
    },
    {
     "name": "stdout",
     "output_type": "stream",
     "text": [
      "Epoch  9:  l_train=0.027954    l_valid=0.022792    lr=0.0010000\t    acc/auc=0.502/0.596\n"
     ]
    },
    {
     "name": "stderr",
     "output_type": "stream",
     "text": [
      "Epoch 10: train - Loss: 0.026875: 100%|██████████| 84/84 [00:04<00:00, 17.03it/s]\n",
      "Epoch 10: valid - Loss: 0.023300: 100%|██████████| 21/21 [00:00<00:00, 53.29it/s]\n"
     ]
    },
    {
     "name": "stdout",
     "output_type": "stream",
     "text": [
      "Epoch 10:  l_train=0.026875    l_valid=0.023300    lr=0.0010000\t    acc/auc=0.489/0.570\n"
     ]
    },
    {
     "name": "stderr",
     "output_type": "stream",
     "text": [
      "Epoch 11: train - Loss: 0.026787: 100%|██████████| 84/84 [00:04<00:00, 17.00it/s]\n",
      "Epoch 11: valid - Loss: 0.022318: 100%|██████████| 21/21 [00:00<00:00, 53.20it/s]\n"
     ]
    },
    {
     "name": "stdout",
     "output_type": "stream",
     "text": [
      "Epoch 11:  l_train=0.026787    l_valid=0.022318    lr=0.0010000\t    acc/auc=0.545/0.557\n"
     ]
    },
    {
     "name": "stderr",
     "output_type": "stream",
     "text": [
      "Epoch 12: train - Loss: 0.026998: 100%|██████████| 84/84 [00:05<00:00, 15.42it/s]\n",
      "Epoch 12: valid - Loss: 0.023980: 100%|██████████| 21/21 [00:00<00:00, 39.77it/s]\n"
     ]
    },
    {
     "name": "stdout",
     "output_type": "stream",
     "text": [
      "Epoch 12:  l_train=0.026998    l_valid=0.023980    lr=0.0010000\t    acc/auc=0.565/0.580\n"
     ]
    },
    {
     "name": "stderr",
     "output_type": "stream",
     "text": [
      "Epoch 13: train - Loss: 0.025817: 100%|██████████| 84/84 [00:04<00:00, 17.00it/s]\n",
      "Epoch 13: valid - Loss: 0.023189: 100%|██████████| 21/21 [00:00<00:00, 53.62it/s]\n"
     ]
    },
    {
     "name": "stdout",
     "output_type": "stream",
     "text": [
      "Epoch 13:  l_train=0.025817    l_valid=0.023189    lr=0.0010000\t    acc/auc=0.550/0.572\n"
     ]
    },
    {
     "name": "stderr",
     "output_type": "stream",
     "text": [
      "Epoch 14: train - Loss: 0.026190: 100%|██████████| 84/84 [00:04<00:00, 16.98it/s]\n",
      "Epoch 14: valid - Loss: 0.022323: 100%|██████████| 21/21 [00:00<00:00, 53.97it/s]\n"
     ]
    },
    {
     "name": "stdout",
     "output_type": "stream",
     "text": [
      "Epoch 14:  l_train=0.026190    l_valid=0.022323    lr=0.0010000\t    acc/auc=0.560/0.567\n"
     ]
    },
    {
     "name": "stderr",
     "output_type": "stream",
     "text": [
      "Epoch 15: train - Loss: 0.026364: 100%|██████████| 84/84 [00:04<00:00, 16.92it/s]\n",
      "Epoch 15: valid - Loss: 0.022440: 100%|██████████| 21/21 [00:00<00:00, 53.49it/s]\n"
     ]
    },
    {
     "name": "stdout",
     "output_type": "stream",
     "text": [
      "Epoch 15:  l_train=0.026364    l_valid=0.022440    lr=0.0010000\t    acc/auc=0.535/0.559\n"
     ]
    },
    {
     "name": "stderr",
     "output_type": "stream",
     "text": [
      "Epoch 16: train - Loss: 0.026201: 100%|██████████| 84/84 [00:04<00:00, 16.87it/s]\n",
      "Epoch 16: valid - Loss: 0.023088: 100%|██████████| 21/21 [00:00<00:00, 51.24it/s]\n"
     ]
    },
    {
     "name": "stdout",
     "output_type": "stream",
     "text": [
      "Epoch 16:  l_train=0.026201    l_valid=0.023088    lr=0.0010000\t    acc/auc=0.525/0.549\n"
     ]
    },
    {
     "name": "stderr",
     "output_type": "stream",
     "text": [
      "Epoch 17: train - Loss: 0.026069: 100%|██████████| 84/84 [00:05<00:00, 16.76it/s]\n",
      "Epoch 17: valid - Loss: 0.022125: 100%|██████████| 21/21 [00:00<00:00, 53.21it/s]\n"
     ]
    },
    {
     "name": "stdout",
     "output_type": "stream",
     "text": [
      "Epoch 17:  l_train=0.026069    l_valid=0.022125    lr=0.0010000\t    acc/auc=0.534/0.556\n"
     ]
    },
    {
     "name": "stderr",
     "output_type": "stream",
     "text": [
      "Epoch 18: train - Loss: 0.025563: 100%|██████████| 84/84 [00:04<00:00, 16.80it/s]\n",
      "Epoch 18: valid - Loss: 0.023415: 100%|██████████| 21/21 [00:00<00:00, 52.68it/s]\n"
     ]
    },
    {
     "name": "stdout",
     "output_type": "stream",
     "text": [
      "Epoch 18:  l_train=0.025563    l_valid=0.023415    lr=0.0010000\t    acc/auc=0.553/0.572\n"
     ]
    },
    {
     "name": "stderr",
     "output_type": "stream",
     "text": [
      "Epoch 19: train - Loss: 0.024814: 100%|██████████| 84/84 [00:05<00:00, 16.74it/s]\n",
      "Epoch 19: valid - Loss: 0.022014: 100%|██████████| 21/21 [00:00<00:00, 52.64it/s]\n"
     ]
    },
    {
     "name": "stdout",
     "output_type": "stream",
     "text": [
      "Epoch 19:  l_train=0.024814    l_valid=0.022014    lr=0.0010000\t    acc/auc=0.554/0.574\n"
     ]
    },
    {
     "name": "stderr",
     "output_type": "stream",
     "text": [
      "Epoch 20: train - Loss: 0.024642: 100%|██████████| 84/84 [00:05<00:00, 16.70it/s]\n",
      "Epoch 20: valid - Loss: 0.023904: 100%|██████████| 21/21 [00:00<00:00, 52.60it/s]\n"
     ]
    },
    {
     "name": "stdout",
     "output_type": "stream",
     "text": [
      "Epoch 20:  l_train=0.024642    l_valid=0.023904    lr=0.0010000\t    acc/auc=0.563/0.583\n"
     ]
    },
    {
     "name": "stderr",
     "output_type": "stream",
     "text": [
      "Epoch 21: train - Loss: 0.025276: 100%|██████████| 84/84 [00:05<00:00, 16.67it/s]\n",
      "Epoch 21: valid - Loss: 0.022775: 100%|██████████| 21/21 [00:00<00:00, 52.71it/s]\n"
     ]
    },
    {
     "name": "stdout",
     "output_type": "stream",
     "text": [
      "Epoch 21:  l_train=0.025276    l_valid=0.022775    lr=0.0010000\t    acc/auc=0.556/0.577\n"
     ]
    },
    {
     "name": "stderr",
     "output_type": "stream",
     "text": [
      "Epoch 22: train - Loss: 0.024940: 100%|██████████| 84/84 [00:05<00:00, 16.52it/s]\n",
      "Epoch 22: valid - Loss: 0.023406: 100%|██████████| 21/21 [00:00<00:00, 52.05it/s]\n"
     ]
    },
    {
     "name": "stdout",
     "output_type": "stream",
     "text": [
      "Epoch 22:  l_train=0.024940    l_valid=0.023406    lr=0.0010000\t    acc/auc=0.550/0.570\n"
     ]
    },
    {
     "name": "stderr",
     "output_type": "stream",
     "text": [
      "Epoch 23: train - Loss: 0.024923: 100%|██████████| 84/84 [00:05<00:00, 16.29it/s]\n",
      "Epoch 23: valid - Loss: 0.026951: 100%|██████████| 21/21 [00:00<00:00, 52.03it/s]\n"
     ]
    },
    {
     "name": "stdout",
     "output_type": "stream",
     "text": [
      "Epoch 23:  l_train=0.024923    l_valid=0.026951    lr=0.0010000\t    acc/auc=0.563/0.581\n"
     ]
    },
    {
     "name": "stderr",
     "output_type": "stream",
     "text": [
      "Epoch 24: train - Loss: 0.024525: 100%|██████████| 84/84 [00:05<00:00, 16.04it/s]\n",
      "Epoch 24: valid - Loss: 0.022429: 100%|██████████| 21/21 [00:00<00:00, 51.55it/s]\n"
     ]
    },
    {
     "name": "stdout",
     "output_type": "stream",
     "text": [
      "Epoch 24:  l_train=0.024525    l_valid=0.022429    lr=0.0010000\t    acc/auc=0.574/0.588\n"
     ]
    },
    {
     "name": "stderr",
     "output_type": "stream",
     "text": [
      "Epoch 25: train - Loss: 0.023929: 100%|██████████| 84/84 [00:05<00:00, 16.00it/s]\n",
      "Epoch 25: valid - Loss: 0.024275: 100%|██████████| 21/21 [00:00<00:00, 52.18it/s]\n"
     ]
    },
    {
     "name": "stdout",
     "output_type": "stream",
     "text": [
      "Epoch 25:  l_train=0.023929    l_valid=0.024275    lr=0.0010000\t    acc/auc=0.559/0.585\n"
     ]
    },
    {
     "name": "stderr",
     "output_type": "stream",
     "text": [
      "Epoch 26: train - Loss: 0.023612: 100%|██████████| 84/84 [00:05<00:00, 15.98it/s]\n",
      "Epoch 26: valid - Loss: 0.023571: 100%|██████████| 21/21 [00:00<00:00, 50.58it/s]\n"
     ]
    },
    {
     "name": "stdout",
     "output_type": "stream",
     "text": [
      "Epoch 26:  l_train=0.023612    l_valid=0.023571    lr=0.0010000\t    acc/auc=0.574/0.613\n"
     ]
    },
    {
     "name": "stderr",
     "output_type": "stream",
     "text": [
      "Epoch 27: train - Loss: 0.023805: 100%|██████████| 84/84 [00:05<00:00, 15.93it/s]\n",
      "Epoch 27: valid - Loss: 0.026889: 100%|██████████| 21/21 [00:00<00:00, 50.95it/s]\n"
     ]
    },
    {
     "name": "stdout",
     "output_type": "stream",
     "text": [
      "Epoch 27:  l_train=0.023805    l_valid=0.026889    lr=0.0010000\t    acc/auc=0.569/0.596\n"
     ]
    },
    {
     "name": "stderr",
     "output_type": "stream",
     "text": [
      "Epoch 28: train - Loss: 0.023681: 100%|██████████| 84/84 [00:05<00:00, 15.87it/s]\n",
      "Epoch 28: valid - Loss: 0.023437: 100%|██████████| 21/21 [00:00<00:00, 50.47it/s]\n"
     ]
    },
    {
     "name": "stdout",
     "output_type": "stream",
     "text": [
      "Epoch 28:  l_train=0.023681    l_valid=0.023437    lr=0.0001000\t    acc/auc=0.569/0.602\n"
     ]
    },
    {
     "name": "stderr",
     "output_type": "stream",
     "text": [
      "Epoch 29: train - Loss: 0.022635: 100%|██████████| 84/84 [00:05<00:00, 15.88it/s]\n",
      "Epoch 29: valid - Loss: 0.023205: 100%|██████████| 21/21 [00:00<00:00, 49.72it/s]\n"
     ]
    },
    {
     "name": "stdout",
     "output_type": "stream",
     "text": [
      "Epoch 29:  l_train=0.022635    l_valid=0.023205    lr=0.0001000\t    acc/auc=0.568/0.600\n"
     ]
    },
    {
     "name": "stderr",
     "output_type": "stream",
     "text": [
      "Epoch 30: train - Loss: 0.023538: 100%|██████████| 84/84 [00:05<00:00, 15.86it/s]\n",
      "Epoch 30: valid - Loss: 0.023095: 100%|██████████| 21/21 [00:00<00:00, 50.33it/s]\n"
     ]
    },
    {
     "name": "stdout",
     "output_type": "stream",
     "text": [
      "Epoch 30:  l_train=0.023538    l_valid=0.023095    lr=0.0001000\t    acc/auc=0.569/0.605\n"
     ]
    },
    {
     "name": "stderr",
     "output_type": "stream",
     "text": [
      "Epoch 31: train - Loss: 0.022223: 100%|██████████| 84/84 [00:05<00:00, 15.78it/s]\n",
      "Epoch 31: valid - Loss: 0.023385: 100%|██████████| 21/21 [00:00<00:00, 50.91it/s]\n"
     ]
    },
    {
     "name": "stdout",
     "output_type": "stream",
     "text": [
      "Epoch 31:  l_train=0.022223    l_valid=0.023385    lr=0.0001000\t    acc/auc=0.566/0.606\n"
     ]
    },
    {
     "name": "stderr",
     "output_type": "stream",
     "text": [
      "Epoch 32: train - Loss: 0.022378: 100%|██████████| 84/84 [00:05<00:00, 15.78it/s]\n",
      "Epoch 32: valid - Loss: 0.023538: 100%|██████████| 21/21 [00:00<00:00, 51.08it/s]\n"
     ]
    },
    {
     "name": "stdout",
     "output_type": "stream",
     "text": [
      "Epoch 32:  l_train=0.022378    l_valid=0.023538    lr=0.0001000\t    acc/auc=0.566/0.607\n"
     ]
    },
    {
     "name": "stderr",
     "output_type": "stream",
     "text": [
      "Epoch 33: train - Loss: 0.022629: 100%|██████████| 84/84 [00:05<00:00, 15.81it/s]\n",
      "Epoch 33: valid - Loss: 0.023325: 100%|██████████| 21/21 [00:00<00:00, 50.81it/s]\n"
     ]
    },
    {
     "name": "stdout",
     "output_type": "stream",
     "text": [
      "Epoch 33:  l_train=0.022629    l_valid=0.023325    lr=0.0001000\t    acc/auc=0.557/0.602\n"
     ]
    },
    {
     "name": "stderr",
     "output_type": "stream",
     "text": [
      "Epoch 34: train - Loss: 0.021928: 100%|██████████| 84/84 [00:05<00:00, 15.82it/s]\n",
      "Epoch 34: valid - Loss: 0.023986: 100%|██████████| 21/21 [00:00<00:00, 51.13it/s]\n"
     ]
    },
    {
     "name": "stdout",
     "output_type": "stream",
     "text": [
      "Epoch 34:  l_train=0.021928    l_valid=0.023986    lr=0.0001000\t    acc/auc=0.568/0.605\n"
     ]
    },
    {
     "name": "stderr",
     "output_type": "stream",
     "text": [
      "Epoch 35: train - Loss: 0.022784: 100%|██████████| 84/84 [00:05<00:00, 15.82it/s]\n",
      "Epoch 35: valid - Loss: 0.023449: 100%|██████████| 21/21 [00:00<00:00, 51.74it/s]\n"
     ]
    },
    {
     "name": "stdout",
     "output_type": "stream",
     "text": [
      "Epoch 35:  l_train=0.022784    l_valid=0.023449    lr=0.0001000\t    acc/auc=0.556/0.607\n"
     ]
    },
    {
     "name": "stderr",
     "output_type": "stream",
     "text": [
      "Epoch 36: train - Loss: 0.022017: 100%|██████████| 84/84 [00:05<00:00, 15.88it/s]\n",
      "Epoch 36: valid - Loss: 0.023609: 100%|██████████| 21/21 [00:00<00:00, 49.74it/s]\n"
     ]
    },
    {
     "name": "stdout",
     "output_type": "stream",
     "text": [
      "Epoch 36:  l_train=0.022017    l_valid=0.023609    lr=0.0000100\t    acc/auc=0.557/0.607\n"
     ]
    },
    {
     "name": "stderr",
     "output_type": "stream",
     "text": [
      "Epoch 37: train - Loss: 0.022285: 100%|██████████| 84/84 [00:05<00:00, 15.92it/s]\n",
      "Epoch 37: valid - Loss: 0.023664: 100%|██████████| 21/21 [00:00<00:00, 52.19it/s]\n"
     ]
    },
    {
     "name": "stdout",
     "output_type": "stream",
     "text": [
      "Epoch 37:  l_train=0.022285    l_valid=0.023664    lr=0.0000100\t    acc/auc=0.560/0.606\n"
     ]
    },
    {
     "name": "stderr",
     "output_type": "stream",
     "text": [
      "Epoch 38: train - Loss: 0.022380: 100%|██████████| 84/84 [00:05<00:00, 15.82it/s]\n",
      "Epoch 38: valid - Loss: 0.023510: 100%|██████████| 21/21 [00:00<00:00, 51.18it/s]\n"
     ]
    },
    {
     "name": "stdout",
     "output_type": "stream",
     "text": [
      "Epoch 38:  l_train=0.022380    l_valid=0.023510    lr=0.0000100\t    acc/auc=0.560/0.607\n"
     ]
    },
    {
     "name": "stderr",
     "output_type": "stream",
     "text": [
      "Epoch 39: train - Loss: 0.022308: 100%|██████████| 84/84 [00:05<00:00, 15.83it/s]\n",
      "Epoch 39: valid - Loss: 0.023632: 100%|██████████| 21/21 [00:00<00:00, 50.03it/s]\n"
     ]
    },
    {
     "name": "stdout",
     "output_type": "stream",
     "text": [
      "Epoch 39:  l_train=0.022308    l_valid=0.023632    lr=0.0000100\t    acc/auc=0.559/0.606\n"
     ]
    },
    {
     "name": "stderr",
     "output_type": "stream",
     "text": [
      "Epoch 40: train - Loss: 0.023391: 100%|██████████| 84/84 [00:05<00:00, 15.85it/s]\n",
      "Epoch 40: valid - Loss: 0.023830: 100%|██████████| 21/21 [00:00<00:00, 50.93it/s]\n"
     ]
    },
    {
     "name": "stdout",
     "output_type": "stream",
     "text": [
      "Epoch 40:  l_train=0.023391    l_valid=0.023830    lr=0.0000100\t    acc/auc=0.559/0.605\n"
     ]
    },
    {
     "name": "stderr",
     "output_type": "stream",
     "text": [
      "Epoch 41: train - Loss: 0.022895: 100%|██████████| 84/84 [00:05<00:00, 15.85it/s]\n",
      "Epoch 41: valid - Loss: 0.023910: 100%|██████████| 21/21 [00:00<00:00, 50.35it/s]\n"
     ]
    },
    {
     "name": "stdout",
     "output_type": "stream",
     "text": [
      "Epoch 41:  l_train=0.022895    l_valid=0.023910    lr=0.0000100\t    acc/auc=0.563/0.606\n"
     ]
    },
    {
     "name": "stderr",
     "output_type": "stream",
     "text": [
      "Epoch 42: train - Loss: 0.022295: 100%|██████████| 84/84 [00:05<00:00, 15.86it/s]\n",
      "Epoch 42: valid - Loss: 0.023958: 100%|██████████| 21/21 [00:00<00:00, 50.39it/s]\n"
     ]
    },
    {
     "name": "stdout",
     "output_type": "stream",
     "text": [
      "Epoch 42:  l_train=0.022295    l_valid=0.023958    lr=0.0000100\t    acc/auc=0.560/0.606\n"
     ]
    },
    {
     "name": "stderr",
     "output_type": "stream",
     "text": [
      "Epoch 43: train - Loss: 0.022305: 100%|██████████| 84/84 [00:05<00:00, 15.88it/s]\n",
      "Epoch 43: valid - Loss: 0.023947: 100%|██████████| 21/21 [00:00<00:00, 50.37it/s]\n"
     ]
    },
    {
     "name": "stdout",
     "output_type": "stream",
     "text": [
      "Epoch 43:  l_train=0.022305    l_valid=0.023947    lr=0.0000100\t    acc/auc=0.562/0.606\n"
     ]
    },
    {
     "name": "stderr",
     "output_type": "stream",
     "text": [
      "Epoch 44: train - Loss: 0.022088: 100%|██████████| 84/84 [00:05<00:00, 15.85it/s]\n",
      "Epoch 44: valid - Loss: 0.023897: 100%|██████████| 21/21 [00:00<00:00, 50.09it/s]\n"
     ]
    },
    {
     "name": "stdout",
     "output_type": "stream",
     "text": [
      "Epoch 44:  l_train=0.022088    l_valid=0.023897    lr=0.0000010\t    acc/auc=0.557/0.605\n"
     ]
    },
    {
     "name": "stderr",
     "output_type": "stream",
     "text": [
      "Epoch 45: train - Loss: 0.022071: 100%|██████████| 84/84 [00:05<00:00, 15.89it/s]\n",
      "Epoch 45: valid - Loss: 0.024045: 100%|██████████| 21/21 [00:00<00:00, 50.51it/s]\n"
     ]
    },
    {
     "name": "stdout",
     "output_type": "stream",
     "text": [
      "Epoch 45:  l_train=0.022071    l_valid=0.024045    lr=0.0000010\t    acc/auc=0.560/0.605\n"
     ]
    },
    {
     "name": "stderr",
     "output_type": "stream",
     "text": [
      "Epoch 46: train - Loss: 0.022456: 100%|██████████| 84/84 [00:05<00:00, 15.89it/s]\n",
      "Epoch 46: valid - Loss: 0.024173: 100%|██████████| 21/21 [00:00<00:00, 51.08it/s]\n"
     ]
    },
    {
     "name": "stdout",
     "output_type": "stream",
     "text": [
      "Epoch 46:  l_train=0.022456    l_valid=0.024173    lr=0.0000010\t    acc/auc=0.559/0.605\n"
     ]
    },
    {
     "name": "stderr",
     "output_type": "stream",
     "text": [
      "Epoch 47: train - Loss: 0.021774: 100%|██████████| 84/84 [00:05<00:00, 15.89it/s]\n",
      "Epoch 47: valid - Loss: 0.024027: 100%|██████████| 21/21 [00:00<00:00, 50.23it/s]\n"
     ]
    },
    {
     "name": "stdout",
     "output_type": "stream",
     "text": [
      "Epoch 47:  l_train=0.021774    l_valid=0.024027    lr=0.0000010\t    acc/auc=0.559/0.605\n"
     ]
    },
    {
     "name": "stderr",
     "output_type": "stream",
     "text": [
      "Epoch 48: train - Loss: 0.021535: 100%|██████████| 84/84 [00:05<00:00, 15.86it/s]\n",
      "Epoch 48: valid - Loss: 0.023980: 100%|██████████| 21/21 [00:00<00:00, 50.41it/s]\n"
     ]
    },
    {
     "name": "stdout",
     "output_type": "stream",
     "text": [
      "Epoch 48:  l_train=0.021535    l_valid=0.023980    lr=0.0000010\t    acc/auc=0.556/0.605\n"
     ]
    },
    {
     "name": "stderr",
     "output_type": "stream",
     "text": [
      "Epoch 49: train - Loss: 0.022600: 100%|██████████| 84/84 [00:05<00:00, 15.88it/s]\n",
      "Epoch 49: valid - Loss: 0.024306: 100%|██████████| 21/21 [00:00<00:00, 51.77it/s]\n"
     ]
    },
    {
     "name": "stdout",
     "output_type": "stream",
     "text": [
      "Epoch 49:  l_train=0.022600    l_valid=0.024306    lr=0.0000010\t    acc/auc=0.557/0.605\n"
     ]
    },
    {
     "name": "stderr",
     "output_type": "stream",
     "text": [
      "Epoch 50: train - Loss: 0.021780: 100%|██████████| 84/84 [00:05<00:00, 15.78it/s]\n",
      "Epoch 50: valid - Loss: 0.024034: 100%|██████████| 21/21 [00:00<00:00, 50.66it/s]\n"
     ]
    },
    {
     "name": "stdout",
     "output_type": "stream",
     "text": [
      "Epoch 50:  l_train=0.021780    l_valid=0.024034    lr=0.0000010\t    acc/auc=0.559/0.605\n"
     ]
    },
    {
     "name": "stderr",
     "output_type": "stream",
     "text": [
      "Epoch 51: train - Loss: 0.021859: 100%|██████████| 84/84 [00:05<00:00, 15.84it/s]\n",
      "Epoch 51: valid - Loss: 0.024054: 100%|██████████| 21/21 [00:00<00:00, 51.59it/s]\n"
     ]
    },
    {
     "name": "stdout",
     "output_type": "stream",
     "text": [
      "Epoch 51:  l_train=0.021859    l_valid=0.024054    lr=0.0000010\t    acc/auc=0.559/0.605\n"
     ]
    },
    {
     "name": "stderr",
     "output_type": "stream",
     "text": [
      "Epoch 52: train - Loss: 0.022299: 100%|██████████| 84/84 [00:05<00:00, 15.86it/s]\n",
      "Epoch 52: valid - Loss: 0.024051: 100%|██████████| 21/21 [00:00<00:00, 51.60it/s]\n"
     ]
    },
    {
     "name": "stdout",
     "output_type": "stream",
     "text": [
      "Epoch 52:  l_train=0.022299    l_valid=0.024051    lr=0.0000001\t    acc/auc=0.557/0.605\n"
     ]
    },
    {
     "name": "stderr",
     "output_type": "stream",
     "text": [
      "Epoch 53: train - Loss: 0.022232: 100%|██████████| 84/84 [00:05<00:00, 15.84it/s]\n",
      "Epoch 53: valid - Loss: 0.024141: 100%|██████████| 21/21 [00:00<00:00, 50.56it/s]\n"
     ]
    },
    {
     "name": "stdout",
     "output_type": "stream",
     "text": [
      "Epoch 53:  l_train=0.022232    l_valid=0.024141    lr=0.0000001\t    acc/auc=0.559/0.605\n"
     ]
    },
    {
     "name": "stderr",
     "output_type": "stream",
     "text": [
      "Epoch 54: train - Loss: 0.021072: 100%|██████████| 84/84 [00:05<00:00, 15.85it/s]\n",
      "Epoch 54: valid - Loss: 0.024215: 100%|██████████| 21/21 [00:00<00:00, 50.01it/s]\n"
     ]
    },
    {
     "name": "stdout",
     "output_type": "stream",
     "text": [
      "Epoch 54:  l_train=0.021072    l_valid=0.024215    lr=0.0000001\t    acc/auc=0.557/0.605\n"
     ]
    },
    {
     "name": "stderr",
     "output_type": "stream",
     "text": [
      "Epoch 55: train - Loss: 0.022098: 100%|██████████| 84/84 [00:05<00:00, 15.81it/s]\n",
      "Epoch 55: valid - Loss: 0.024176: 100%|██████████| 21/21 [00:00<00:00, 50.51it/s]\n"
     ]
    },
    {
     "name": "stdout",
     "output_type": "stream",
     "text": [
      "Epoch 55:  l_train=0.022098    l_valid=0.024176    lr=0.0000001\t    acc/auc=0.557/0.605\n"
     ]
    },
    {
     "name": "stderr",
     "output_type": "stream",
     "text": [
      "Epoch 56: train - Loss: 0.021960: 100%|██████████| 84/84 [00:05<00:00, 15.83it/s]\n",
      "Epoch 56: valid - Loss: 0.024371: 100%|██████████| 21/21 [00:00<00:00, 51.32it/s]\n"
     ]
    },
    {
     "name": "stdout",
     "output_type": "stream",
     "text": [
      "Epoch 56:  l_train=0.021960    l_valid=0.024371    lr=0.0000001\t    acc/auc=0.557/0.605\n"
     ]
    },
    {
     "name": "stderr",
     "output_type": "stream",
     "text": [
      "Epoch 57: train - Loss: 0.022590: 100%|██████████| 84/84 [00:05<00:00, 15.86it/s]\n",
      "Epoch 57: valid - Loss: 0.024402: 100%|██████████| 21/21 [00:00<00:00, 51.50it/s]\n"
     ]
    },
    {
     "name": "stdout",
     "output_type": "stream",
     "text": [
      "Epoch 57:  l_train=0.022590    l_valid=0.024402    lr=0.0000001\t    acc/auc=0.559/0.605\n"
     ]
    },
    {
     "name": "stderr",
     "output_type": "stream",
     "text": [
      "Epoch 58: train - Loss: 0.021491: 100%|██████████| 84/84 [00:05<00:00, 15.79it/s]\n",
      "Epoch 58: valid - Loss: 0.023920: 100%|██████████| 21/21 [00:00<00:00, 49.79it/s]\n"
     ]
    },
    {
     "name": "stdout",
     "output_type": "stream",
     "text": [
      "Epoch 58:  l_train=0.021491    l_valid=0.023920    lr=0.0000001\t    acc/auc=0.557/0.605\n"
     ]
    },
    {
     "name": "stderr",
     "output_type": "stream",
     "text": [
      "Epoch 59: train - Loss: 0.021903: 100%|██████████| 84/84 [00:05<00:00, 15.87it/s]\n",
      "Epoch 59: valid - Loss: 0.024434: 100%|██████████| 21/21 [00:00<00:00, 49.47it/s]\n"
     ]
    },
    {
     "name": "stdout",
     "output_type": "stream",
     "text": [
      "Epoch 59:  l_train=0.021903    l_valid=0.024434    lr=0.0000001\t    acc/auc=0.557/0.605\n"
     ]
    },
    {
     "name": "stderr",
     "output_type": "stream",
     "text": [
      "Epoch 60: train - Loss: 0.022395: 100%|██████████| 84/84 [00:05<00:00, 15.86it/s]\n",
      "Epoch 60: valid - Loss: 0.023923: 100%|██████████| 21/21 [00:00<00:00, 51.05it/s]"
     ]
    },
    {
     "name": "stdout",
     "output_type": "stream",
     "text": [
      "Done!\n"
     ]
    },
    {
     "name": "stderr",
     "output_type": "stream",
     "text": [
      "\n"
     ]
    }
   ],
   "source": [
    "\n",
    "tqdm.write(\"Training...\")\n",
    "start_epoch = 0\n",
    "best_loss = np.Inf\n",
    "history = pd.DataFrame(columns=['epoch', 'train_loss', 'valid_loss', 'lr',\n",
    "                                'accuracy', 'auroc', 'precision', 'recall', \n",
    "                               ])\n",
    "for ep in range(start_epoch, args.epochs):\n",
    "    train_loss = train(ep, train_loader)\n",
    "    valid_metrics = evaluate(ep, valid_loader)\n",
    "    valid_loss = valid_metrics['eval_loss']\n",
    "    # Save best model\n",
    "    if valid_loss < best_loss:\n",
    "        # Save model\n",
    "        torch.save({'epoch': ep,\n",
    "                    'model': model.state_dict(),\n",
    "                    'valid_loss': valid_loss,\n",
    "                    'optimizer': optimizer.state_dict()},\n",
    "                   os.path.join(folder, 'model.pth'))\n",
    "        # Update best validation loss\n",
    "        best_loss = valid_loss\n",
    "    # Get learning rate\n",
    "    for param_group in optimizer.param_groups:\n",
    "        learning_rate = param_group[\"lr\"]\n",
    "    # Interrupt for minimum learning rate\n",
    "    if learning_rate < args.min_lr:\n",
    "        break\n",
    "    # Save history\n",
    "    row = pd.DataFrame([{\"epoch\": ep, \"train_loss\": train_loss,\"valid_loss\": valid_loss, \"lr\": learning_rate,\n",
    "                     'accuracy': valid_metrics['accuracy'], 'auroc': valid_metrics['auroc'],\n",
    "                     'precision': valid_metrics['precision'], 'recall': valid_metrics['recall'], }])\n",
    "    history = pd.concat([history, row], ignore_index=True)\n",
    "    history.to_csv(os.path.join(folder, 'history.csv'), index=False)\n",
    "    # Update learning rate\n",
    "    scheduler.step(valid_loss)\n",
    "    \n",
    "    # Print message\n",
    "    tqdm.write('Epoch {:2d}:  l_train={:.6f}    l_valid={:.6f}    lr={:.7f}\\t    acc/auc={:.3f}/{:.3f}'\n",
    "             .format(ep, train_loss, valid_loss, learning_rate, valid_metrics['accuracy'], valid_metrics['auroc']))\n",
    "tqdm.write(\"Done!\")"
   ]
  },
  {
   "cell_type": "code",
   "execution_count": null,
   "id": "b62d06b4",
   "metadata": {},
   "outputs": [],
   "source": []
  }
 ],
 "metadata": {
  "kernelspec": {
   "display_name": "Python [conda env:cxrpe] *",
   "language": "python",
   "name": "conda-env-cxrpe-py"
  },
  "language_info": {
   "codemirror_mode": {
    "name": "ipython",
    "version": 3
   },
   "file_extension": ".py",
   "mimetype": "text/x-python",
   "name": "python",
   "nbconvert_exporter": "python",
   "pygments_lexer": "ipython3",
   "version": "3.10.13"
  }
 },
 "nbformat": 4,
 "nbformat_minor": 5
}
