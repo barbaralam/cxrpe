{
 "cells": [
  {
   "cell_type": "code",
   "execution_count": 1,
   "id": "49251bd8",
   "metadata": {},
   "outputs": [],
   "source": [
    "import os \n",
    "import pandas as pd\n",
    "import re\n",
    "import matplotlib.pyplot as plt\n",
    "import csv"
   ]
  },
  {
   "cell_type": "code",
   "execution_count": 2,
   "id": "bea14f9c",
   "metadata": {},
   "outputs": [],
   "source": [
    "from google.cloud import bigquery"
   ]
  },
  {
   "cell_type": "code",
   "execution_count": 3,
   "id": "422712c7",
   "metadata": {},
   "outputs": [],
   "source": [
    "from datetime import timedelta"
   ]
  },
  {
   "cell_type": "code",
   "execution_count": 4,
   "id": "6e5ded1a",
   "metadata": {},
   "outputs": [],
   "source": [
    "project_id = 'your-project-here'"
   ]
  },
  {
   "cell_type": "code",
   "execution_count": 5,
   "id": "dd224da1",
   "metadata": {},
   "outputs": [],
   "source": [
    "BigQuery_client = bigquery.Client(project=project_id)"
   ]
  },
  {
   "cell_type": "code",
   "execution_count": 6,
   "id": "3b104223",
   "metadata": {},
   "outputs": [],
   "source": [
    "# This is a practice query to ensure you can pull a short query from lcp-consortium\n",
    "practice = '''SELECT * FROM `lcp-consortium.mimiciv_note.radiology` LIMIT 10;'''"
   ]
  },
  {
   "cell_type": "code",
   "execution_count": 7,
   "id": "84b82533",
   "metadata": {},
   "outputs": [
    {
     "data": {
      "text/html": [
       "<div>\n",
       "<style scoped>\n",
       "    .dataframe tbody tr th:only-of-type {\n",
       "        vertical-align: middle;\n",
       "    }\n",
       "\n",
       "    .dataframe tbody tr th {\n",
       "        vertical-align: top;\n",
       "    }\n",
       "\n",
       "    .dataframe thead th {\n",
       "        text-align: right;\n",
       "    }\n",
       "</style>\n",
       "<table border=\"1\" class=\"dataframe\">\n",
       "  <thead>\n",
       "    <tr style=\"text-align: right;\">\n",
       "      <th></th>\n",
       "      <th>note_id</th>\n",
       "      <th>subject_id</th>\n",
       "      <th>hadm_id</th>\n",
       "      <th>note_type</th>\n",
       "      <th>note_seq</th>\n",
       "      <th>charttime</th>\n",
       "      <th>storetime</th>\n",
       "      <th>text</th>\n",
       "    </tr>\n",
       "  </thead>\n",
       "  <tbody>\n",
       "    <tr>\n",
       "      <th>0</th>\n",
       "      <td>17693798-RR-256</td>\n",
       "      <td>17693798</td>\n",
       "      <td>26855677</td>\n",
       "      <td>RR</td>\n",
       "      <td>256</td>\n",
       "      <td>2125-05-20 21:00:00</td>\n",
       "      <td>2125-05-21 10:03:00</td>\n",
       "      <td>CLINICAL HISTORY:  Patient fell onto right rib...</td>\n",
       "    </tr>\n",
       "    <tr>\n",
       "      <th>1</th>\n",
       "      <td>12165964-RR-256</td>\n",
       "      <td>12165964</td>\n",
       "      <td>29176015</td>\n",
       "      <td>RR</td>\n",
       "      <td>256</td>\n",
       "      <td>2152-07-01 03:52:00</td>\n",
       "      <td>2152-07-01 12:57:00</td>\n",
       "      <td>AP CHEST 4:52 A.M. ON ___\\n\\nHISTORY:  CHF and...</td>\n",
       "    </tr>\n",
       "    <tr>\n",
       "      <th>2</th>\n",
       "      <td>17329106-RR-256</td>\n",
       "      <td>17329106</td>\n",
       "      <td>23935599</td>\n",
       "      <td>RR</td>\n",
       "      <td>256</td>\n",
       "      <td>2158-08-20 19:36:00</td>\n",
       "      <td>2158-08-20 21:16:00</td>\n",
       "      <td>HISTORY:  Altered mental status.\\n\\nCOMPARISON...</td>\n",
       "    </tr>\n",
       "    <tr>\n",
       "      <th>3</th>\n",
       "      <td>16921793-RR-256</td>\n",
       "      <td>16921793</td>\n",
       "      <td>23285822</td>\n",
       "      <td>RR</td>\n",
       "      <td>256</td>\n",
       "      <td>2134-05-01 07:12:00</td>\n",
       "      <td>2134-05-01 08:57:00</td>\n",
       "      <td>INDICATION:  History of end-stage renal diseas...</td>\n",
       "    </tr>\n",
       "    <tr>\n",
       "      <th>4</th>\n",
       "      <td>14867101-RR-257</td>\n",
       "      <td>14867101</td>\n",
       "      <td>24955503</td>\n",
       "      <td>RR</td>\n",
       "      <td>257</td>\n",
       "      <td>2151-01-28 18:42:00</td>\n",
       "      <td>2151-01-28 19:52:00</td>\n",
       "      <td>CHEST RADIOGRAPH\\n\\nComparison is made with a ...</td>\n",
       "    </tr>\n",
       "  </tbody>\n",
       "</table>\n",
       "</div>"
      ],
      "text/plain": [
       "           note_id  subject_id   hadm_id note_type  note_seq  \\\n",
       "0  17693798-RR-256    17693798  26855677        RR       256   \n",
       "1  12165964-RR-256    12165964  29176015        RR       256   \n",
       "2  17329106-RR-256    17329106  23935599        RR       256   \n",
       "3  16921793-RR-256    16921793  23285822        RR       256   \n",
       "4  14867101-RR-257    14867101  24955503        RR       257   \n",
       "\n",
       "            charttime           storetime  \\\n",
       "0 2125-05-20 21:00:00 2125-05-21 10:03:00   \n",
       "1 2152-07-01 03:52:00 2152-07-01 12:57:00   \n",
       "2 2158-08-20 19:36:00 2158-08-20 21:16:00   \n",
       "3 2134-05-01 07:12:00 2134-05-01 08:57:00   \n",
       "4 2151-01-28 18:42:00 2151-01-28 19:52:00   \n",
       "\n",
       "                                                text  \n",
       "0  CLINICAL HISTORY:  Patient fell onto right rib...  \n",
       "1  AP CHEST 4:52 A.M. ON ___\\n\\nHISTORY:  CHF and...  \n",
       "2  HISTORY:  Altered mental status.\\n\\nCOMPARISON...  \n",
       "3  INDICATION:  History of end-stage renal diseas...  \n",
       "4  CHEST RADIOGRAPH\\n\\nComparison is made with a ...  "
      ]
     },
     "execution_count": 7,
     "metadata": {},
     "output_type": "execute_result"
    }
   ],
   "source": [
    "# Put the short practice query into a dataframe\n",
    "dfpractice = BigQuery_client.query(practice).to_dataframe()\n",
    "dfpractice.head()"
   ]
  },
  {
   "cell_type": "code",
   "execution_count": 8,
   "id": "f386ae19",
   "metadata": {},
   "outputs": [],
   "source": [
    "# I want to pull in all EKG images available from MIMIC-CXR\n",
    "EKG = '''--CTE for ekg_note table\n",
    "WITH ekg_note AS\n",
    "(SELECT note_id, subject_id, hadm_id, text\n",
    "FROM `lcp-consortium.mimiciv_note.ecg`),\n",
    "\n",
    "--CTE for ekg table\n",
    "ekg AS\n",
    "(SELECT subject_id, study_id, file_name, ecg_time, path\n",
    "FROM `physionet-data.mimiciv_ecg.record_list`),\n",
    "\n",
    "--CTE for waveform table\n",
    "waveform AS \n",
    "(SELECT study_id, note_id\n",
    "FROM `physionet-data.mimiciv_ecg.waveform_note_links`)\n",
    "\n",
    "SELECT * FROM ekg\n",
    "LEFT JOIN waveform\n",
    "ON ekg.study_id = waveform.study_id\n",
    "LEFT JOIN ekg_note\n",
    "ON waveform.note_id = ekg_note.note_id'''"
   ]
  },
  {
   "cell_type": "code",
   "execution_count": 9,
   "id": "0ab9c1a6",
   "metadata": {},
   "outputs": [],
   "source": [
    "EKG = BigQuery_client.query(EKG).to_dataframe()"
   ]
  },
  {
   "cell_type": "code",
   "execution_count": 10,
   "id": "3aee0014",
   "metadata": {},
   "outputs": [
    {
     "data": {
      "text/plain": [
       "800042"
      ]
     },
     "execution_count": 10,
     "metadata": {},
     "output_type": "execute_result"
    }
   ],
   "source": [
    "len(EKG)"
   ]
  },
  {
   "cell_type": "code",
   "execution_count": 11,
   "id": "791eb70f",
   "metadata": {},
   "outputs": [
    {
     "data": {
      "text/html": [
       "<div>\n",
       "<style scoped>\n",
       "    .dataframe tbody tr th:only-of-type {\n",
       "        vertical-align: middle;\n",
       "    }\n",
       "\n",
       "    .dataframe tbody tr th {\n",
       "        vertical-align: top;\n",
       "    }\n",
       "\n",
       "    .dataframe thead th {\n",
       "        text-align: right;\n",
       "    }\n",
       "</style>\n",
       "<table border=\"1\" class=\"dataframe\">\n",
       "  <thead>\n",
       "    <tr style=\"text-align: right;\">\n",
       "      <th></th>\n",
       "      <th>subject_id</th>\n",
       "      <th>study_id</th>\n",
       "      <th>file_name</th>\n",
       "      <th>ecg_time</th>\n",
       "      <th>path</th>\n",
       "      <th>study_id_1</th>\n",
       "      <th>note_id</th>\n",
       "      <th>note_id_1</th>\n",
       "      <th>subject_id_1</th>\n",
       "      <th>hadm_id</th>\n",
       "      <th>text</th>\n",
       "    </tr>\n",
       "  </thead>\n",
       "  <tbody>\n",
       "    <tr>\n",
       "      <th>0</th>\n",
       "      <td>10000032</td>\n",
       "      <td>40689238</td>\n",
       "      <td>40689238</td>\n",
       "      <td>2180-07-23 08:44:00</td>\n",
       "      <td>files/p1000/p10000032/s40689238/40689238</td>\n",
       "      <td>40689238.0</td>\n",
       "      <td>10000032-EK-4</td>\n",
       "      <td>10000032-EK-4</td>\n",
       "      <td>10000032.0</td>\n",
       "      <td>NaN</td>\n",
       "      <td>Sinus rhythm.  Biatrial abnormality.  Intraven...</td>\n",
       "    </tr>\n",
       "    <tr>\n",
       "      <th>1</th>\n",
       "      <td>10000032</td>\n",
       "      <td>44458630</td>\n",
       "      <td>44458630</td>\n",
       "      <td>2180-07-23 09:54:00</td>\n",
       "      <td>files/p1000/p10000032/s44458630/44458630</td>\n",
       "      <td>44458630.0</td>\n",
       "      <td>10000032-EK-5</td>\n",
       "      <td>10000032-EK-5</td>\n",
       "      <td>10000032.0</td>\n",
       "      <td>NaN</td>\n",
       "      <td>Sinus rhythm.  Biatrial abnormality.  Intraven...</td>\n",
       "    </tr>\n",
       "    <tr>\n",
       "      <th>2</th>\n",
       "      <td>10000032</td>\n",
       "      <td>49036311</td>\n",
       "      <td>49036311</td>\n",
       "      <td>2180-08-06 09:07:00</td>\n",
       "      <td>files/p1000/p10000032/s49036311/49036311</td>\n",
       "      <td>49036311.0</td>\n",
       "      <td>10000032-EK-6</td>\n",
       "      <td>10000032-EK-6</td>\n",
       "      <td>10000032.0</td>\n",
       "      <td>25742920.0</td>\n",
       "      <td>Sinus tachycardia.  Compared to the ___ the fi...</td>\n",
       "    </tr>\n",
       "    <tr>\n",
       "      <th>3</th>\n",
       "      <td>10000560</td>\n",
       "      <td>41445586</td>\n",
       "      <td>41445586</td>\n",
       "      <td>2189-10-03 12:54:00</td>\n",
       "      <td>files/p1000/p10000560/s41445586/41445586</td>\n",
       "      <td>41445586.0</td>\n",
       "      <td>10000560-EK-12</td>\n",
       "      <td>10000560-EK-12</td>\n",
       "      <td>10000560.0</td>\n",
       "      <td>NaN</td>\n",
       "      <td>Sinus rhythm. Rightward axis is non-specific a...</td>\n",
       "    </tr>\n",
       "    <tr>\n",
       "      <th>4</th>\n",
       "      <td>10000635</td>\n",
       "      <td>40067704</td>\n",
       "      <td>40067704</td>\n",
       "      <td>2136-06-19 07:24:00</td>\n",
       "      <td>files/p1000/p10000635/s40067704/40067704</td>\n",
       "      <td>40067704.0</td>\n",
       "      <td>10000635-EK-12</td>\n",
       "      <td>10000635-EK-12</td>\n",
       "      <td>10000635.0</td>\n",
       "      <td>NaN</td>\n",
       "      <td>Sinus rhythm.  Left ventricular hypertrophy.  ...</td>\n",
       "    </tr>\n",
       "  </tbody>\n",
       "</table>\n",
       "</div>"
      ],
      "text/plain": [
       "   subject_id  study_id file_name            ecg_time  \\\n",
       "0    10000032  40689238  40689238 2180-07-23 08:44:00   \n",
       "1    10000032  44458630  44458630 2180-07-23 09:54:00   \n",
       "2    10000032  49036311  49036311 2180-08-06 09:07:00   \n",
       "3    10000560  41445586  41445586 2189-10-03 12:54:00   \n",
       "4    10000635  40067704  40067704 2136-06-19 07:24:00   \n",
       "\n",
       "                                       path  study_id_1         note_id  \\\n",
       "0  files/p1000/p10000032/s40689238/40689238  40689238.0   10000032-EK-4   \n",
       "1  files/p1000/p10000032/s44458630/44458630  44458630.0   10000032-EK-5   \n",
       "2  files/p1000/p10000032/s49036311/49036311  49036311.0   10000032-EK-6   \n",
       "3  files/p1000/p10000560/s41445586/41445586  41445586.0  10000560-EK-12   \n",
       "4  files/p1000/p10000635/s40067704/40067704  40067704.0  10000635-EK-12   \n",
       "\n",
       "        note_id_1  subject_id_1     hadm_id  \\\n",
       "0   10000032-EK-4    10000032.0         NaN   \n",
       "1   10000032-EK-5    10000032.0         NaN   \n",
       "2   10000032-EK-6    10000032.0  25742920.0   \n",
       "3  10000560-EK-12    10000560.0         NaN   \n",
       "4  10000635-EK-12    10000635.0         NaN   \n",
       "\n",
       "                                                text  \n",
       "0  Sinus rhythm.  Biatrial abnormality.  Intraven...  \n",
       "1  Sinus rhythm.  Biatrial abnormality.  Intraven...  \n",
       "2  Sinus tachycardia.  Compared to the ___ the fi...  \n",
       "3  Sinus rhythm. Rightward axis is non-specific a...  \n",
       "4  Sinus rhythm.  Left ventricular hypertrophy.  ...  "
      ]
     },
     "execution_count": 11,
     "metadata": {},
     "output_type": "execute_result"
    }
   ],
   "source": [
    "EKG.head()"
   ]
  },
  {
   "cell_type": "code",
   "execution_count": 25,
   "id": "679770a2",
   "metadata": {},
   "outputs": [
    {
     "name": "stdout",
     "output_type": "stream",
     "text": [
      "Number of unique study IDs: 800035\n"
     ]
    }
   ],
   "source": [
    "# How many unique values are there in study_id in the EKG dataframe?\n",
    "unique_studyid = EKG['study_id'].nunique()\n",
    "print(\"Number of unique study IDs:\", unique_studyid)"
   ]
  },
  {
   "cell_type": "code",
   "execution_count": 12,
   "id": "cd3af3f9",
   "metadata": {},
   "outputs": [],
   "source": [
    "# Import the file of all CTPAs, including both positive and negative PE\n",
    "AllCTPA = pd.read_csv(\"/Users/Desktop/CXRPE/AllCTPA.csv\")"
   ]
  },
  {
   "cell_type": "code",
   "execution_count": 13,
   "id": "bfb3b2bc",
   "metadata": {},
   "outputs": [
    {
     "data": {
      "text/plain": [
       "17417"
      ]
     },
     "execution_count": 13,
     "metadata": {},
     "output_type": "execute_result"
    }
   ],
   "source": [
    "len(AllCTPA)"
   ]
  },
  {
   "cell_type": "code",
   "execution_count": 14,
   "id": "15c6ab6f",
   "metadata": {},
   "outputs": [
    {
     "data": {
      "text/plain": [
       "216681"
      ]
     },
     "execution_count": 14,
     "metadata": {},
     "output_type": "execute_result"
    }
   ],
   "source": [
    "# Merge the EKG dataframe with the dataframe containing all CTPAs\n",
    "EKGallCTA = AllCTPA.merge(EKG, on='subject_id', how='left')\n",
    "len(EKGallCTA)"
   ]
  },
  {
   "cell_type": "code",
   "execution_count": 17,
   "id": "b37dd46f",
   "metadata": {},
   "outputs": [],
   "source": [
    "# Make a copy to work with datetime\n",
    "EKGtoallCTA = EKGallCTA.copy()"
   ]
  },
  {
   "cell_type": "code",
   "execution_count": 18,
   "id": "62533d26",
   "metadata": {},
   "outputs": [],
   "source": [
    "# Ensure everything is in datetime format\n",
    "EKGtoallCTA['charttime'] = pd.to_datetime(EKGtoallCTA['charttime'])\n",
    "EKGtoallCTA['storetime'] = pd.to_datetime(EKGtoallCTA['storetime'])\n",
    "EKGtoallCTA['ecg_time'] = pd.to_datetime(EKGtoallCTA['ecg_time'])"
   ]
  },
  {
   "cell_type": "code",
   "execution_count": 19,
   "id": "75fec94b",
   "metadata": {},
   "outputs": [],
   "source": [
    "# Calculate time difference between EKG time and CTA order time \n",
    "EKGtoallCTA['EKGtoCTA'] = EKGtoallCTA['ecg_time'] - EKGtoallCTA['charttime']"
   ]
  },
  {
   "cell_type": "code",
   "execution_count": 20,
   "id": "4b7727bf",
   "metadata": {},
   "outputs": [],
   "source": [
    "# Create a new column that is the time difference in hours\n",
    "EKGtoallCTA['time_elapsed_hours'] = EKGtoallCTA['EKGtoCTA'].dt.total_seconds()/3600"
   ]
  },
  {
   "cell_type": "code",
   "execution_count": 21,
   "id": "4b0234da",
   "metadata": {},
   "outputs": [],
   "source": [
    "# Create a new column that evalutes to true if the time difference is within 24 hours\n",
    "EKGtoallCTA['within_24'] = abs(EKGtoallCTA['time_elapsed_hours']) <= 24"
   ]
  },
  {
   "cell_type": "code",
   "execution_count": 22,
   "id": "64e1a434",
   "metadata": {},
   "outputs": [],
   "source": [
    "# Create a new column that evalutes to true if the time difference is 24 hours before and up to 48 hours after\n",
    "EKGtoallCTA['and_48_hours'] = (EKGtoallCTA['time_elapsed_hours'] >= -24) & (EKGtoallCTA['time_elapsed_hours'] <= 48)"
   ]
  },
  {
   "cell_type": "code",
   "execution_count": 23,
   "id": "dfc86de7",
   "metadata": {},
   "outputs": [
    {
     "name": "stdout",
     "output_type": "stream",
     "text": [
      "Number of True values in 'within_24' column: 17529\n"
     ]
    }
   ],
   "source": [
    "# How many EKGs are there within 24 hours? \n",
    "EKG_within_24h = EKGtoallCTA['within_24'].sum()\n",
    "print(\"Number of True values in 'within_24' column:\", EKG_within_24h)"
   ]
  },
  {
   "cell_type": "code",
   "execution_count": 24,
   "id": "a43284fa",
   "metadata": {},
   "outputs": [
    {
     "name": "stdout",
     "output_type": "stream",
     "text": [
      "Number of True values in 'and_48_hours' column: 19211\n"
     ]
    }
   ],
   "source": [
    "# How many CXRs are there within -24 hours and +48 hours?\n",
    "EKG_within_48h = EKGtoallCTA['and_48_hours'].sum()\n",
    "print(\"Number of True values in 'and_48_hours' column:\", EKG_within_48h)"
   ]
  },
  {
   "cell_type": "code",
   "execution_count": 30,
   "id": "5887901a",
   "metadata": {},
   "outputs": [],
   "source": [
    "# Can we convert the amount of time between CXR to CTA to days so that we can see a histogram of the distribution\n",
    "EKGtoallCTA['time_elapsed_days'] = EKGtoallCTA['EKGtoCTA'].dt.days"
   ]
  },
  {
   "cell_type": "code",
   "execution_count": 31,
   "id": "e8f4d488",
   "metadata": {},
   "outputs": [
    {
     "data": {
      "image/png": "[encoded data removed]",
      "text/plain": [
       "<Figure size 640x480 with 1 Axes>"
      ]
     },
     "metadata": {},
     "output_type": "display_data"
    }
   ],
   "source": [
    "# Define the range for x-axis ticks (-10 to +10 days)\n",
    "x_ticks_range = range(-10, 10)\n",
    "\n",
    "# Count the occurrences of each day within the specified range\n",
    "day_counts = EKGtoallCTA['time_elapsed_days'].value_counts().reindex(x_ticks_range, fill_value=0)\n",
    "\n",
    "# Plotting the bar graph\n",
    "plt.bar(day_counts.index, day_counts.values)\n",
    "\n",
    "# Adding labels and title\n",
    "plt.xlabel('Days')\n",
    "plt.ylabel('Count')\n",
    "plt.title('Distribution of Time Elapsed (Days) within -10 to +10 days')\n",
    "\n",
    "# Display the plot\n",
    "plt.show()"
   ]
  },
  {
   "cell_type": "code",
   "execution_count": 32,
   "id": "767c0cca",
   "metadata": {},
   "outputs": [],
   "source": [
    "## Code below here deals with CTAs that are POSITIVE for PE only"
   ]
  },
  {
   "cell_type": "code",
   "execution_count": 33,
   "id": "a0fe1516",
   "metadata": {},
   "outputs": [],
   "source": [
    "# Import the file of positive CTPAs only\n",
    "PosCTA = pd.read_csv(\"/Users/Desktop/CXRPE/PosPE.csv\")"
   ]
  },
  {
   "cell_type": "code",
   "execution_count": 34,
   "id": "f95af09d",
   "metadata": {},
   "outputs": [
    {
     "data": {
      "text/plain": [
       "1531"
      ]
     },
     "execution_count": 34,
     "metadata": {},
     "output_type": "execute_result"
    }
   ],
   "source": [
    "len(PosCTA)"
   ]
  },
  {
   "cell_type": "code",
   "execution_count": 35,
   "id": "a0d66cd1",
   "metadata": {},
   "outputs": [],
   "source": [
    "EKGposCTA = PosCTA.merge(EKG, on='subject_id', how='left')"
   ]
  },
  {
   "cell_type": "code",
   "execution_count": 36,
   "id": "a7797139",
   "metadata": {},
   "outputs": [],
   "source": [
    "# Ensure everything is in datetime format\n",
    "EKGposCTA['charttime'] = pd.to_datetime(EKGposCTA['charttime'])\n",
    "EKGposCTA['storetime'] = pd.to_datetime(EKGposCTA['storetime'])\n",
    "EKGposCTA['ecg_time'] = pd.to_datetime(EKGposCTA['ecg_time'])"
   ]
  },
  {
   "cell_type": "code",
   "execution_count": 37,
   "id": "21989455",
   "metadata": {},
   "outputs": [],
   "source": [
    "# Calculate time difference between EKG time and CTA order time \n",
    "EKGposCTA['EKGtoCTA'] = EKGposCTA['ecg_time'] - EKGposCTA['charttime']"
   ]
  },
  {
   "cell_type": "code",
   "execution_count": 38,
   "id": "915639db",
   "metadata": {},
   "outputs": [],
   "source": [
    "# Create a new column that is the time difference in hours\n",
    "EKGposCTA['time_elapsed_hours'] = EKGposCTA['EKGtoCTA'].dt.total_seconds()/3600"
   ]
  },
  {
   "cell_type": "code",
   "execution_count": 39,
   "id": "83397933",
   "metadata": {},
   "outputs": [],
   "source": [
    "# Create a new column that evalutes to true if the time difference is within 24 hours\n",
    "EKGposCTA['within_24'] = abs(EKGposCTA['time_elapsed_hours']) <= 24"
   ]
  },
  {
   "cell_type": "code",
   "execution_count": 40,
   "id": "d807d5fa",
   "metadata": {},
   "outputs": [],
   "source": [
    "# Create a new column that evalutes to true if the time difference is 24 hours before and up to 48 hours after\n",
    "EKGposCTA['and_48_hours'] = (EKGposCTA['time_elapsed_hours'] >= -24) & (EKGposCTA['time_elapsed_hours'] <= 48)"
   ]
  },
  {
   "cell_type": "code",
   "execution_count": 47,
   "id": "005f1b20",
   "metadata": {},
   "outputs": [],
   "source": [
    "# Create a dataframe that only includes EKGs within 24 hours of positive CTAs\n",
    "EKGposCTA24 = EKGposCTA[EKGposCTA['within_24']]"
   ]
  },
  {
   "cell_type": "code",
   "execution_count": 48,
   "id": "ac0284db",
   "metadata": {},
   "outputs": [
    {
     "name": "stdout",
     "output_type": "stream",
     "text": [
      "Number of unique study IDs: 1481\n"
     ]
    }
   ],
   "source": [
    "# How many unique values are there in study_id in this 24h dataframe?\n",
    "EKGposCTA24unique = EKGposCTA24['study_id'].nunique()\n",
    "print(\"Number of unique study IDs:\", EKGposCTA24unique)"
   ]
  },
  {
   "cell_type": "code",
   "execution_count": 41,
   "id": "095ebd07",
   "metadata": {},
   "outputs": [],
   "source": [
    "# Create a dataframe that only includes EKGs that are within -24h and +48h of positive CTAs\n",
    "EKGposCTA48 = EKGposCTA[EKGposCTA['and_48_hours']]"
   ]
  },
  {
   "cell_type": "code",
   "execution_count": 49,
   "id": "656ed8e7",
   "metadata": {},
   "outputs": [
    {
     "name": "stdout",
     "output_type": "stream",
     "text": [
      "Number of unique study IDs: 1676\n"
     ]
    }
   ],
   "source": [
    "# How many unique values are there in study_id in this -24h to +48h dataframe?\n",
    "EKGposCTA48unique = EKGposCTA48['study_id'].nunique()\n",
    "print(\"Number of unique study IDs:\", EKGposCTA48unique)"
   ]
  },
  {
   "cell_type": "code",
   "execution_count": 77,
   "id": "bc766453",
   "metadata": {},
   "outputs": [],
   "source": [
    "# Export for modeling\n",
    "EKGposCTA48.to_csv('/Users/Desktop/CXRPE/Modeling/EKGpos48.csv', index=False)"
   ]
  },
  {
   "cell_type": "code",
   "execution_count": 50,
   "id": "4741d550",
   "metadata": {},
   "outputs": [],
   "source": [
    "## Code below here deals with CTAs that show negative PEs only"
   ]
  },
  {
   "cell_type": "code",
   "execution_count": 51,
   "id": "b37334b0",
   "metadata": {},
   "outputs": [],
   "source": [
    "# Import the file of negative CTPAs only\n",
    "NegCTA = pd.read_csv(\"/Users/Desktop/CXRPE/NegPE.csv\")"
   ]
  },
  {
   "cell_type": "code",
   "execution_count": 52,
   "id": "b0b4b17e",
   "metadata": {},
   "outputs": [
    {
     "data": {
      "text/plain": [
       "15886"
      ]
     },
     "execution_count": 52,
     "metadata": {},
     "output_type": "execute_result"
    }
   ],
   "source": [
    "len(NegCTA)"
   ]
  },
  {
   "cell_type": "code",
   "execution_count": 53,
   "id": "bcf316f9",
   "metadata": {},
   "outputs": [],
   "source": [
    "EKGnegCTA = NegCTA.merge(EKG, on='subject_id', how='left')"
   ]
  },
  {
   "cell_type": "code",
   "execution_count": 54,
   "id": "7692a6e6",
   "metadata": {},
   "outputs": [],
   "source": [
    "# Ensure everything is in datetime format\n",
    "EKGnegCTA['charttime'] = pd.to_datetime(EKGnegCTA['charttime'])\n",
    "EKGnegCTA['storetime'] = pd.to_datetime(EKGnegCTA['storetime'])\n",
    "EKGnegCTA['ecg_time'] = pd.to_datetime(EKGnegCTA['ecg_time'])"
   ]
  },
  {
   "cell_type": "code",
   "execution_count": 55,
   "id": "dd0a0cd6",
   "metadata": {},
   "outputs": [],
   "source": [
    "# Calculate time difference between EKG time and CTA order time \n",
    "EKGnegCTA['EKGtoCTA'] = EKGnegCTA['ecg_time'] - EKGnegCTA['charttime']"
   ]
  },
  {
   "cell_type": "code",
   "execution_count": 56,
   "id": "01938c8a",
   "metadata": {},
   "outputs": [],
   "source": [
    "# Create a new column that is the time difference in hours\n",
    "EKGnegCTA['time_elapsed_hours'] = EKGnegCTA['EKGtoCTA'].dt.total_seconds()/3600"
   ]
  },
  {
   "cell_type": "code",
   "execution_count": 57,
   "id": "8ff0e46a",
   "metadata": {},
   "outputs": [],
   "source": [
    "# Create a new column that evalutes to true if the time difference is within 24 hours\n",
    "EKGnegCTA['within_24'] = abs(EKGnegCTA['time_elapsed_hours']) <= 24"
   ]
  },
  {
   "cell_type": "code",
   "execution_count": 58,
   "id": "5bc4e8e3",
   "metadata": {},
   "outputs": [],
   "source": [
    "# Create a new column that evalutes to true if the time difference is 24 hours before and up to 48 hours after\n",
    "EKGnegCTA['and_48_hours'] = (EKGnegCTA['time_elapsed_hours'] >= -24) & (EKGnegCTA['time_elapsed_hours'] <= 48)"
   ]
  },
  {
   "cell_type": "code",
   "execution_count": 59,
   "id": "26b09cfa",
   "metadata": {},
   "outputs": [],
   "source": [
    "# Create a dataframe that only includes EKGs within 24 hours of positive CTAs\n",
    "EKGnegCTA24 = EKGnegCTA[EKGnegCTA['within_24']]"
   ]
  },
  {
   "cell_type": "code",
   "execution_count": 60,
   "id": "cefbc1d4",
   "metadata": {},
   "outputs": [
    {
     "name": "stdout",
     "output_type": "stream",
     "text": [
      "Number of unique study IDs: 16026\n"
     ]
    }
   ],
   "source": [
    "# How many unique values are there in study_id in this 24h dataframe?\n",
    "EKGnegCTA24unique = EKGnegCTA24['study_id'].nunique()\n",
    "print(\"Number of unique study IDs:\", EKGnegCTA24unique)"
   ]
  },
  {
   "cell_type": "code",
   "execution_count": 61,
   "id": "89d4196d",
   "metadata": {},
   "outputs": [],
   "source": [
    "# Create a dataframe that only includes EKGs that are within -24h and +48h of positive CTAs\n",
    "EKGnegCTA48 = EKGnegCTA[EKGnegCTA['and_48_hours']]"
   ]
  },
  {
   "cell_type": "code",
   "execution_count": 62,
   "id": "95fb65e6",
   "metadata": {},
   "outputs": [
    {
     "name": "stdout",
     "output_type": "stream",
     "text": [
      "Number of unique study IDs: 17504\n"
     ]
    }
   ],
   "source": [
    "# How many unique values are there in study_id in this -24h to +48h dataframe?\n",
    "EKGnegCTA48unique = EKGnegCTA48['study_id'].nunique()\n",
    "print(\"Number of unique study IDs:\", EKGnegCTA48unique)"
   ]
  },
  {
   "cell_type": "code",
   "execution_count": 78,
   "id": "4f03ed62",
   "metadata": {},
   "outputs": [],
   "source": [
    "# Export for modeling\n",
    "EKGnegCTA48.to_csv('/Users/Desktop/CXRPE/Modeling/EKGneg48.csv', index=False)"
   ]
  },
  {
   "cell_type": "code",
   "execution_count": 63,
   "id": "1e43ba7b",
   "metadata": {},
   "outputs": [],
   "source": [
    "## The below is an accuracy check"
   ]
  },
  {
   "cell_type": "code",
   "execution_count": 75,
   "id": "115b4390",
   "metadata": {},
   "outputs": [],
   "source": [
    "# Check to see if there are any overlapping study_id between the positives and negatives\n",
    "# Start by vertically concatenating the two dataframes\n",
    "PosAndNeg48EKG = pd.concat([EKGposCTA48, EKGnegCTA48], ignore_index=True)"
   ]
  },
  {
   "cell_type": "code",
   "execution_count": 76,
   "id": "c742face",
   "metadata": {},
   "outputs": [],
   "source": [
    "# Are there any duplicate study IDs?\n",
    "study_dupes = PosAndNeg48EKG[PosAndNeg48EKG.duplicated(subset=['study_id'], keep=False)]"
   ]
  },
  {
   "cell_type": "code",
   "execution_count": 73,
   "id": "05c42225",
   "metadata": {},
   "outputs": [],
   "source": [
    "# Export to evaluate\n",
    "study_dupes.to_csv('/Users/Desktop/CXRPE/Modeling/ekgdupe.csv', index=False)"
   ]
  }
 ],
 "metadata": {
  "kernelspec": {
   "display_name": "Python 3 (ipykernel)",
   "language": "python",
   "name": "python3"
  },
  "language_info": {
   "codemirror_mode": {
    "name": "ipython",
    "version": 3
   },
   "file_extension": ".py",
   "mimetype": "text/x-python",
   "name": "python",
   "nbconvert_exporter": "python",
   "pygments_lexer": "ipython3",
   "version": "3.9.13"
  }
 },
 "nbformat": 4,
 "nbformat_minor": 5
}
