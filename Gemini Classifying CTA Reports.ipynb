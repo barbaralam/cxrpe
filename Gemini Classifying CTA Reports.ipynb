{
 "cells": [
  {
   "cell_type": "code",
   "execution_count": 12,
   "id": "823713b0",
   "metadata": {},
   "outputs": [
    {
     "name": "stdout",
     "output_type": "stream",
     "text": [
      "/shells/bash: line 1: gcloud: command not found\r\n"
     ]
    }
   ],
   "source": [
    "!gcloud auth login --no-browser"
   ]
  },
  {
   "cell_type": "code",
   "execution_count": 7,
   "id": "e016c207",
   "metadata": {},
   "outputs": [],
   "source": [
    "PROJECT_ID = \"project-name\"  # @param {type:\"string\"}\n",
    "LOCATION = \"us-central1\"  # @param {type:\"string\"}\n",
    "\n",
    "import vertexai\n",
    "\n",
    "vertexai.init(project=PROJECT_ID, location=LOCATION)"
   ]
  },
  {
   "cell_type": "code",
   "execution_count": 8,
   "id": "ddf676e2",
   "metadata": {},
   "outputs": [],
   "source": [
    "# Import libraries\n",
    "import IPython.display\n",
    "from IPython.core.interactiveshell import InteractiveShell\n",
    "\n",
    "InteractiveShell.ast_node_interactivity = \"all\"\n",
    "\n",
    "from vertexai.generative_models import (\n",
    "    GenerationConfig,\n",
    "    GenerativeModel,\n",
    "    HarmBlockThreshold,\n",
    "    HarmCategory,\n",
    "    Part,\n",
    ")"
   ]
  },
  {
   "cell_type": "code",
   "execution_count": 9,
   "id": "73a2652f",
   "metadata": {},
   "outputs": [],
   "source": [
    "# Load the Gemini model\n",
    "MODEL_ID = \"gemini-1.5-pro-preview-0409\"  # @param {type:\"string\"}\n",
    "\n",
    "model = GenerativeModel(MODEL_ID)"
   ]
  },
  {
   "cell_type": "code",
   "execution_count": 10,
   "id": "386d5980",
   "metadata": {},
   "outputs": [
    {
     "ename": "DefaultCredentialsError",
     "evalue": "Your default credentials were not found. To set up Application Default Credentials, see https://cloud.google.com/docs/authentication/external/set-up-adc for more information.",
     "output_type": "error",
     "traceback": [
      "\u001b[0;31m---------------------------------------------------------------------------\u001b[0m",
      "\u001b[0;31mDefaultCredentialsError\u001b[0m                   Traceback (most recent call last)",
      "Cell \u001b[0;32mIn[10], line 93\u001b[0m\n\u001b[1;32m     90\u001b[0m contents \u001b[38;5;241m=\u001b[39m [prompt]\n\u001b[1;32m     92\u001b[0m \u001b[38;5;66;03m# Counts tokens\u001b[39;00m\n\u001b[0;32m---> 93\u001b[0m \u001b[38;5;28mprint\u001b[39m(\u001b[43mexample_model\u001b[49m\u001b[38;5;241;43m.\u001b[39;49m\u001b[43mcount_tokens\u001b[49m\u001b[43m(\u001b[49m\u001b[43mcontents\u001b[49m\u001b[43m)\u001b[49m)\n\u001b[1;32m     95\u001b[0m \u001b[38;5;66;03m# Prompt the model to generate content\u001b[39;00m\n\u001b[1;32m     96\u001b[0m response \u001b[38;5;241m=\u001b[39m example_model\u001b[38;5;241m.\u001b[39mgenerate_content(\n\u001b[1;32m     97\u001b[0m     contents,\n\u001b[1;32m     98\u001b[0m     generation_config\u001b[38;5;241m=\u001b[39mgeneration_config,\n\u001b[1;32m     99\u001b[0m     safety_settings\u001b[38;5;241m=\u001b[39msafety_settings,\n\u001b[1;32m    100\u001b[0m )\n",
      "File \u001b[0;32m~/.local/lib/python3.10/site-packages/vertexai/generative_models/_generative_models.py:639\u001b[0m, in \u001b[0;36m_GenerativeModel.count_tokens\u001b[0;34m(self, contents)\u001b[0m\n\u001b[1;32m    620\u001b[0m \u001b[38;5;28;01mdef\u001b[39;00m \u001b[38;5;21mcount_tokens\u001b[39m(\n\u001b[1;32m    621\u001b[0m     \u001b[38;5;28mself\u001b[39m, contents: ContentsType\n\u001b[1;32m    622\u001b[0m ) \u001b[38;5;241m-\u001b[39m\u001b[38;5;241m>\u001b[39m gapic_prediction_service_types\u001b[38;5;241m.\u001b[39mCountTokensResponse:\n\u001b[1;32m    623\u001b[0m \u001b[38;5;250m    \u001b[39m\u001b[38;5;124;03m\"\"\"Counts tokens.\u001b[39;00m\n\u001b[1;32m    624\u001b[0m \n\u001b[1;32m    625\u001b[0m \u001b[38;5;124;03m    Args:\u001b[39;00m\n\u001b[0;32m   (...)\u001b[0m\n\u001b[1;32m    637\u001b[0m \u001b[38;5;124;03m            total_billable_characters: The total number of billable characters counted across all instances from the request.\u001b[39;00m\n\u001b[1;32m    638\u001b[0m \u001b[38;5;124;03m    \"\"\"\u001b[39;00m\n\u001b[0;32m--> 639\u001b[0m     \u001b[38;5;28;01mreturn\u001b[39;00m \u001b[38;5;28;43mself\u001b[39;49m\u001b[38;5;241;43m.\u001b[39;49m\u001b[43m_prediction_client\u001b[49m\u001b[38;5;241m.\u001b[39mcount_tokens(\n\u001b[1;32m    640\u001b[0m         request\u001b[38;5;241m=\u001b[39mgapic_prediction_service_types\u001b[38;5;241m.\u001b[39mCountTokensRequest(\n\u001b[1;32m    641\u001b[0m             endpoint\u001b[38;5;241m=\u001b[39m\u001b[38;5;28mself\u001b[39m\u001b[38;5;241m.\u001b[39m_prediction_resource_name,\n\u001b[1;32m    642\u001b[0m             model\u001b[38;5;241m=\u001b[39m\u001b[38;5;28mself\u001b[39m\u001b[38;5;241m.\u001b[39m_prediction_resource_name,\n\u001b[1;32m    643\u001b[0m             contents\u001b[38;5;241m=\u001b[39m\u001b[38;5;28mself\u001b[39m\u001b[38;5;241m.\u001b[39m_prepare_request(contents\u001b[38;5;241m=\u001b[39mcontents)\u001b[38;5;241m.\u001b[39mcontents,\n\u001b[1;32m    644\u001b[0m         )\n\u001b[1;32m    645\u001b[0m     )\n",
      "File \u001b[0;32m~/.local/lib/python3.10/site-packages/vertexai/generative_models/_generative_models.py:208\u001b[0m, in \u001b[0;36m_GenerativeModel._prediction_client\u001b[0;34m(self)\u001b[0m\n\u001b[1;32m    203\u001b[0m \u001b[38;5;129m@property\u001b[39m\n\u001b[1;32m    204\u001b[0m \u001b[38;5;28;01mdef\u001b[39;00m \u001b[38;5;21m_prediction_client\u001b[39m(\u001b[38;5;28mself\u001b[39m) \u001b[38;5;241m-\u001b[39m\u001b[38;5;241m>\u001b[39m prediction_service\u001b[38;5;241m.\u001b[39mPredictionServiceClient:\n\u001b[1;32m    205\u001b[0m     \u001b[38;5;66;03m# Switch to @functools.cached_property once its available.\u001b[39;00m\n\u001b[1;32m    206\u001b[0m     \u001b[38;5;28;01mif\u001b[39;00m \u001b[38;5;129;01mnot\u001b[39;00m \u001b[38;5;28mgetattr\u001b[39m(\u001b[38;5;28mself\u001b[39m, \u001b[38;5;124m\"\u001b[39m\u001b[38;5;124m_prediction_client_value\u001b[39m\u001b[38;5;124m\"\u001b[39m, \u001b[38;5;28;01mNone\u001b[39;00m):\n\u001b[1;32m    207\u001b[0m         \u001b[38;5;28mself\u001b[39m\u001b[38;5;241m.\u001b[39m_prediction_client_value \u001b[38;5;241m=\u001b[39m (\n\u001b[0;32m--> 208\u001b[0m             \u001b[43maiplatform_initializer\u001b[49m\u001b[38;5;241;43m.\u001b[39;49m\u001b[43mglobal_config\u001b[49m\u001b[38;5;241;43m.\u001b[39;49m\u001b[43mcreate_client\u001b[49m\u001b[43m(\u001b[49m\n\u001b[1;32m    209\u001b[0m \u001b[43m                \u001b[49m\u001b[43mclient_class\u001b[49m\u001b[38;5;241;43m=\u001b[39;49m\u001b[43mprediction_service\u001b[49m\u001b[38;5;241;43m.\u001b[39;49m\u001b[43mPredictionServiceClient\u001b[49m\u001b[43m,\u001b[49m\n\u001b[1;32m    210\u001b[0m \u001b[43m                \u001b[49m\u001b[43mlocation_override\u001b[49m\u001b[38;5;241;43m=\u001b[39;49m\u001b[38;5;28;43mself\u001b[39;49m\u001b[38;5;241;43m.\u001b[39;49m\u001b[43m_location\u001b[49m\u001b[43m,\u001b[49m\n\u001b[1;32m    211\u001b[0m \u001b[43m                \u001b[49m\u001b[43mprediction_client\u001b[49m\u001b[38;5;241;43m=\u001b[39;49m\u001b[38;5;28;43;01mTrue\u001b[39;49;00m\u001b[43m,\u001b[49m\n\u001b[1;32m    212\u001b[0m \u001b[43m            \u001b[49m\u001b[43m)\u001b[49m\n\u001b[1;32m    213\u001b[0m         )\n\u001b[1;32m    214\u001b[0m     \u001b[38;5;28;01mreturn\u001b[39;00m \u001b[38;5;28mself\u001b[39m\u001b[38;5;241m.\u001b[39m_prediction_client_value\n",
      "File \u001b[0;32m~/.local/lib/python3.10/site-packages/google/cloud/aiplatform/initializer.py:496\u001b[0m, in \u001b[0;36m_Config.create_client\u001b[0;34m(self, client_class, credentials, location_override, prediction_client, api_base_path_override, api_path_override, appended_user_agent, appended_gapic_version)\u001b[0m\n\u001b[1;32m    488\u001b[0m     user_agent \u001b[38;5;241m=\u001b[39m \u001b[38;5;124mf\u001b[39m\u001b[38;5;124m\"\u001b[39m\u001b[38;5;132;01m{\u001b[39;00muser_agent\u001b[38;5;132;01m}\u001b[39;00m\u001b[38;5;124m \u001b[39m\u001b[38;5;132;01m{\u001b[39;00m\u001b[38;5;124m'\u001b[39m\u001b[38;5;124m \u001b[39m\u001b[38;5;124m'\u001b[39m\u001b[38;5;241m.\u001b[39mjoin(appended_user_agent)\u001b[38;5;132;01m}\u001b[39;00m\u001b[38;5;124m\"\u001b[39m\n\u001b[1;32m    490\u001b[0m client_info \u001b[38;5;241m=\u001b[39m gapic_v1\u001b[38;5;241m.\u001b[39mclient_info\u001b[38;5;241m.\u001b[39mClientInfo(\n\u001b[1;32m    491\u001b[0m     gapic_version\u001b[38;5;241m=\u001b[39mgapic_version,\n\u001b[1;32m    492\u001b[0m     user_agent\u001b[38;5;241m=\u001b[39muser_agent,\n\u001b[1;32m    493\u001b[0m )\n\u001b[1;32m    495\u001b[0m kwargs \u001b[38;5;241m=\u001b[39m {\n\u001b[0;32m--> 496\u001b[0m     \u001b[38;5;124m\"\u001b[39m\u001b[38;5;124mcredentials\u001b[39m\u001b[38;5;124m\"\u001b[39m: credentials \u001b[38;5;129;01mor\u001b[39;00m \u001b[38;5;28;43mself\u001b[39;49m\u001b[38;5;241;43m.\u001b[39;49m\u001b[43mcredentials\u001b[49m,\n\u001b[1;32m    497\u001b[0m     \u001b[38;5;124m\"\u001b[39m\u001b[38;5;124mclient_options\u001b[39m\u001b[38;5;124m\"\u001b[39m: \u001b[38;5;28mself\u001b[39m\u001b[38;5;241m.\u001b[39mget_client_options(\n\u001b[1;32m    498\u001b[0m         location_override\u001b[38;5;241m=\u001b[39mlocation_override,\n\u001b[1;32m    499\u001b[0m         prediction_client\u001b[38;5;241m=\u001b[39mprediction_client,\n\u001b[1;32m    500\u001b[0m         api_base_path_override\u001b[38;5;241m=\u001b[39mapi_base_path_override,\n\u001b[1;32m    501\u001b[0m         api_path_override\u001b[38;5;241m=\u001b[39mapi_path_override,\n\u001b[1;32m    502\u001b[0m     ),\n\u001b[1;32m    503\u001b[0m     \u001b[38;5;124m\"\u001b[39m\u001b[38;5;124mclient_info\u001b[39m\u001b[38;5;124m\"\u001b[39m: client_info,\n\u001b[1;32m    504\u001b[0m }\n\u001b[1;32m    506\u001b[0m \u001b[38;5;66;03m# Do not pass \"grpc\", rely on gapic defaults unless \"rest\" is specified\u001b[39;00m\n\u001b[1;32m    507\u001b[0m \u001b[38;5;28;01mif\u001b[39;00m \u001b[38;5;28mself\u001b[39m\u001b[38;5;241m.\u001b[39m_api_transport \u001b[38;5;241m==\u001b[39m \u001b[38;5;124m\"\u001b[39m\u001b[38;5;124mrest\u001b[39m\u001b[38;5;124m\"\u001b[39m:\n",
      "File \u001b[0;32m~/.local/lib/python3.10/site-packages/google/cloud/aiplatform/initializer.py:338\u001b[0m, in \u001b[0;36m_Config.credentials\u001b[0;34m(self)\u001b[0m\n\u001b[1;32m    336\u001b[0m logging_warning_filter \u001b[38;5;241m=\u001b[39m utils\u001b[38;5;241m.\u001b[39mLoggingFilter(logging\u001b[38;5;241m.\u001b[39mWARNING)\n\u001b[1;32m    337\u001b[0m logger\u001b[38;5;241m.\u001b[39maddFilter(logging_warning_filter)\n\u001b[0;32m--> 338\u001b[0m \u001b[38;5;28;43mself\u001b[39;49m\u001b[38;5;241;43m.\u001b[39;49m\u001b[43m_set_project_as_env_var_or_google_auth_default\u001b[49m\u001b[43m(\u001b[49m\u001b[43m)\u001b[49m\n\u001b[1;32m    339\u001b[0m credentials \u001b[38;5;241m=\u001b[39m \u001b[38;5;28mself\u001b[39m\u001b[38;5;241m.\u001b[39m_credentials\n\u001b[1;32m    340\u001b[0m logger\u001b[38;5;241m.\u001b[39mremoveFilter(logging_warning_filter)\n",
      "File \u001b[0;32m~/.local/lib/python3.10/site-packages/google/cloud/aiplatform/initializer.py:98\u001b[0m, in \u001b[0;36m_Config._set_project_as_env_var_or_google_auth_default\u001b[0;34m(self)\u001b[0m\n\u001b[1;32m     95\u001b[0m         \u001b[38;5;28mself\u001b[39m\u001b[38;5;241m.\u001b[39m_project \u001b[38;5;241m=\u001b[39m project\n\u001b[1;32m     97\u001b[0m \u001b[38;5;28;01mif\u001b[39;00m \u001b[38;5;129;01mnot\u001b[39;00m \u001b[38;5;28mself\u001b[39m\u001b[38;5;241m.\u001b[39m_credentials:\n\u001b[0;32m---> 98\u001b[0m     credentials, _ \u001b[38;5;241m=\u001b[39m \u001b[43mgoogle\u001b[49m\u001b[38;5;241;43m.\u001b[39;49m\u001b[43mauth\u001b[49m\u001b[38;5;241;43m.\u001b[39;49m\u001b[43mdefault\u001b[49m\u001b[43m(\u001b[49m\u001b[43m)\u001b[49m\n\u001b[1;32m     99\u001b[0m     \u001b[38;5;28mself\u001b[39m\u001b[38;5;241m.\u001b[39m_credentials \u001b[38;5;241m=\u001b[39m credentials\n",
      "File \u001b[0;32m~/.local/lib/python3.10/site-packages/google/auth/_default.py:691\u001b[0m, in \u001b[0;36mdefault\u001b[0;34m(scopes, request, quota_project_id, default_scopes)\u001b[0m\n\u001b[1;32m    683\u001b[0m             _LOGGER\u001b[38;5;241m.\u001b[39mwarning(\n\u001b[1;32m    684\u001b[0m                 \u001b[38;5;124m\"\u001b[39m\u001b[38;5;124mNo project ID could be determined. Consider running \u001b[39m\u001b[38;5;124m\"\u001b[39m\n\u001b[1;32m    685\u001b[0m                 \u001b[38;5;124m\"\u001b[39m\u001b[38;5;124m`gcloud config set project` or setting the \u001b[39m\u001b[38;5;132;01m%s\u001b[39;00m\u001b[38;5;124m \u001b[39m\u001b[38;5;124m\"\u001b[39m\n\u001b[1;32m    686\u001b[0m                 \u001b[38;5;124m\"\u001b[39m\u001b[38;5;124menvironment variable\u001b[39m\u001b[38;5;124m\"\u001b[39m,\n\u001b[1;32m    687\u001b[0m                 environment_vars\u001b[38;5;241m.\u001b[39mPROJECT,\n\u001b[1;32m    688\u001b[0m             )\n\u001b[1;32m    689\u001b[0m         \u001b[38;5;28;01mreturn\u001b[39;00m credentials, effective_project_id\n\u001b[0;32m--> 691\u001b[0m \u001b[38;5;28;01mraise\u001b[39;00m exceptions\u001b[38;5;241m.\u001b[39mDefaultCredentialsError(_CLOUD_SDK_MISSING_CREDENTIALS)\n",
      "\u001b[0;31mDefaultCredentialsError\u001b[0m: Your default credentials were not found. To set up Application Default Credentials, see https://cloud.google.com/docs/authentication/external/set-up-adc for more information."
     ]
    }
   ],
   "source": [
    "# Load a example model with system instructions\n",
    "example_model = GenerativeModel(\n",
    "    MODEL_ID,\n",
    "    system_instruction=[\n",
    "        \"You are a physician.\",\n",
    "        \"Your mission is to determine if the radiology report describes an acute pulmonary embolism (positive) or not (negative).\",\n",
    "    ],\n",
    ")\n",
    "\n",
    "# Set model parameters\n",
    "generation_config = GenerationConfig(\n",
    "    temperature=0,\n",
    "    max_output_tokens=100,\n",
    ")\n",
    "\n",
    "# Set safety settings\n",
    "safety_settings = {\n",
    "    HarmCategory.HARM_CATEGORY_HARASSMENT: HarmBlockThreshold.BLOCK_LOW_AND_ABOVE,\n",
    "    HarmCategory.HARM_CATEGORY_HATE_SPEECH: HarmBlockThreshold.BLOCK_LOW_AND_ABOVE,\n",
    "    HarmCategory.HARM_CATEGORY_SEXUALLY_EXPLICIT: HarmBlockThreshold.BLOCK_LOW_AND_ABOVE,\n",
    "    HarmCategory.HARM_CATEGORY_DANGEROUS_CONTENT: HarmBlockThreshold.BLOCK_LOW_AND_ABOVE,\n",
    "}\n",
    "\n",
    "prompt = \"\"\"\n",
    "EXAMINATION:  CTA CHEST WANDW/O CANDRECONS, NON-CORONARY\n",
    "\n",
    "INDICATION:  ___ year old man s/p spinal surgery now w/ fever, new hypoxia,\n",
    "tachycardia persistent for > 6 hrs  // evaluate for postoperative PE; less\n",
    "likely marked atelectasis from ileus and postop pain.\n",
    "\n",
    "TECHNIQUE:  Axial multidetector CT images were obtained through the thorax\n",
    "after the uneventful administration of 100 cc of Omnipaque intravenous\n",
    "contrast.\n",
    "Reformatted coronal, sagittal, thin slice axial images, and oblique maximal\n",
    "intensity projection images were submitted to PACS and reviewed.\n",
    "\n",
    "DOSE:  DLP: Acquisition sequence:\n",
    "   1) CT Localizer Radiograph\n",
    "   2) CT Localizer Radiograph\n",
    "   3) Stationary Acquisition 3.5 s, 0.5 cm; CTDIvol = 10.6 mGy (Body) DLP =\n",
    "5.3 mGy-cm.\n",
    "   4) Spiral Acquisition 3.9 s, 30.4 cm; CTDIvol = 14.7 mGy (Body) DLP = 447.2\n",
    "mGy-cm.\n",
    " Total DLP (Body) = 453 mGy-cm.  mGy-cm\n",
    "\n",
    "COMPARISON:  CT abdomen pelvis dated ___.\n",
    "MRI L-spine dated ___.\n",
    "\n",
    "FINDINGS: \n",
    "\n",
    "The aorta and its major branch vessels are patent, with no evidence of\n",
    "stenosis, occlusion, dissection, or aneurysmal formation.  There is no\n",
    "evidence of penetrating atherosclerotic ulcer or aortic arch atheroma present.\n",
    "\n",
    "The pulmonary arteries are well opacified to the subsegmental level.  There is\n",
    "a right lower lobe segmental filling defect/vessel expansion with extension\n",
    "into the associated subsegmental branches.  No other pulmonary embolism is\n",
    "identified.  There is no evidence of right heart strain.  The heart is normal\n",
    "in size without pericardial effusion.\n",
    "\n",
    "There is no supraclavicular, axillary, mediastinal, or hilar lymphadenopathy. \n",
    "The thyroid gland appears unremarkable.\n",
    "\n",
    "There are small bilateral pleural effusions with overlying atelectasis. \n",
    "Linear subpleural based opacities in the right middle and left lower lobe are\n",
    "consistent with linear atelectasis.\n",
    "\n",
    "The airways are patent to the subsegmental level.\n",
    "\n",
    "Limited images of the upper abdomen are grossly unremarkable.  The spleen has\n",
    "a 9 mm hypodensity, present on ___ exam, most consistent with a\n",
    "cyst or hemangioma.  The liver has attenuation consistent with hepatic\n",
    "steatosis.  Partially imaged portal hepatis nodes are nonspecific (02:104) and\n",
    "can be seen in the setting of liver inflammation.\n",
    "\n",
    "No lytic or blastic osseous lesion suspicious for malignancy is identified.\n",
    "\n",
    "IMPRESSION:\n",
    "\n",
    "\n",
    "1. Segmental/subsegmental right lower lobe pulmonary embolism without heart\n",
    "strain.  No other pulmonary embolism is identified.\n",
    "2. No acute aortic abnormality.\n",
    "3. Hepatic steatosis and mildly prominent periportal lymph nodes, which can be\n",
    "seen in the setting of underlying liver disease.\n",
    "4. Small bilateral pleural effusions.\n",
    "\"\"\"\n",
    "\n",
    "# Set contents to send to the model\n",
    "contents = [prompt]\n",
    "\n",
    "# Counts tokens\n",
    "print(example_model.count_tokens(contents))\n",
    "\n",
    "# Prompt the model to generate content\n",
    "response = example_model.generate_content(\n",
    "    contents,\n",
    "    generation_config=generation_config,\n",
    "    safety_settings=safety_settings,\n",
    ")\n",
    "\n",
    "# Print the model response\n",
    "print(f\"\\nAnswer:\\n{response.text}\")\n",
    "print(f'\\nUsage metadata:\\n{response.to_dict().get(\"usage_metadata\")}')\n",
    "print(f\"\\nFinish reason:\\n{response.candidates[0].finish_reason}\")\n",
    "print(f\"\\nSafety settings:\\n{response.candidates[0].safety_ratings}\")"
   ]
  },
  {
   "cell_type": "code",
   "execution_count": null,
   "id": "8a7b5889",
   "metadata": {},
   "outputs": [],
   "source": []
  }
 ],
 "metadata": {
  "kernelspec": {
   "display_name": "Python [conda env:cxrpe] *",
   "language": "python",
   "name": "conda-env-cxrpe-py"
  },
  "language_info": {
   "codemirror_mode": {
    "name": "ipython",
    "version": 3
   },
   "file_extension": ".py",
   "mimetype": "text/x-python",
   "name": "python",
   "nbconvert_exporter": "python",
   "pygments_lexer": "ipython3",
   "version": "3.10.13"
  }
 },
 "nbformat": 4,
 "nbformat_minor": 5
}
