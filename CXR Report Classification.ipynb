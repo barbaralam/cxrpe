{
 "cells": [
  {
   "cell_type": "code",
   "execution_count": 1,
   "id": "f270ebdc",
   "metadata": {},
   "outputs": [
    {
     "name": "stderr",
     "output_type": "stream",
     "text": [
      "/data/vision/polina/shared_software/miniconda3/envs/cxrpe/lib/python3.10/site-packages/tqdm/auto.py:21: TqdmWarning: IProgress not found. Please update jupyter and ipywidgets. See https://ipywidgets.readthedocs.io/en/stable/user_install.html\n",
      "  from .autonotebook import tqdm as notebook_tqdm\n"
     ]
    }
   ],
   "source": [
    "import pandas as pd\n",
    "import datasets\n",
    "import evaluate\n",
    "import numpy as np"
   ]
  },
  {
   "cell_type": "code",
   "execution_count": 2,
   "id": "7f18ab38",
   "metadata": {},
   "outputs": [],
   "source": [
    "import os"
   ]
  },
  {
   "cell_type": "code",
   "execution_count": 3,
   "id": "5101d9f8",
   "metadata": {},
   "outputs": [
    {
     "data": {
      "text/plain": [
       "'0'"
      ]
     },
     "execution_count": 3,
     "metadata": {},
     "output_type": "execute_result"
    }
   ],
   "source": [
    "os.environ['CUDA_VISIBLE_DEVICES']"
   ]
  },
  {
   "cell_type": "code",
   "execution_count": 4,
   "id": "fa079316",
   "metadata": {},
   "outputs": [],
   "source": [
    "# Loading huggingface \n",
    "from transformers import AutoTokenizer\n",
    "from transformers import DataCollatorWithPadding\n",
    "from transformers import AutoModelForSequenceClassification, TrainingArguments, Trainer"
   ]
  },
  {
   "cell_type": "code",
   "execution_count": 5,
   "id": "2f5378c6",
   "metadata": {},
   "outputs": [
    {
     "data": {
      "text/plain": [
       "1106"
      ]
     },
     "execution_count": 5,
     "metadata": {},
     "output_type": "execute_result"
    }
   ],
   "source": [
    "df1 = pd.read_csv('/data/vision/polina/scratch/barbaralam/cxrpe/data/Modeling/CXRneg48.csv')\n",
    "df2 = pd.read_csv('/data/vision/polina/scratch/barbaralam/cxrpe/data/Modeling/CXRpos48.csv')\n",
    "\n",
    "# convert 'PE' from bool to int\n",
    "df1['Type_of_PE'] = 0\n",
    "df2['Type_of_PE'] = 1\n",
    "\n",
    "Np = len(df2)\n",
    "df1 = df1.sample(n=Np, random_state=42)\n",
    "\n",
    "df = pd.concat([df1, df2], axis=0)\n",
    "cols = {'text_y': 'text', 'Type_of_PE': 'label'}\n",
    "df = df[list(cols.keys())].rename(columns=cols)\n",
    "len(df)"
   ]
  },
  {
   "cell_type": "code",
   "execution_count": 6,
   "id": "52f9de81",
   "metadata": {},
   "outputs": [
    {
     "data": {
      "text/plain": [
       "{'text': ['                                 FINAL REPORT\\n HISTORY:  Possible pneumonia or fluid overload.\\n \\n FINDINGS:  In comparison with the study of ___, there is again enlargement of\\n the cardiac silhouette with pulmonary vascular congestion and bilateral\\n pleural effusions with compressive atelectasis at the bases.\\n \\n Monitoring and support devices remain in place.\\n',\n",
       "  '                                 FINAL REPORT\\n EXAMINATION:  CHEST (PORTABLE AP)\\n \\n INDICATION:  ___ year old woman with new ETT  // Confirm placement\\n \\n COMPARISON:  ___.\\n \\n IMPRESSION: \\n \\n As compared to the previous radiograph, the patient has received a nasogastric\\n tube. The tip of the tube projects over the pre-pyloric region of the stomach.\\n The course of the tube is unremarkable. The patient has also been intubated.\\n The tip of the endotracheal tube is approximately 1 cm above the carinal, next\\n to the orifice of the right main bronchus. The tube should be pulled back by 2\\n cm.  No evidence of complications, notably no pneumothorax. No pleural\\n effusions. No pulmonary edema.\\n',\n",
       "  '                                 FINAL REPORT\\n HISTORY:  History of PE, eclampsia, HELLP, DIC, current acute hypoxia to ___%.\\n \\n CHEST, SINGLE AP PORTABLE VIEW.  \\n \\n Compared with ___ at 7:33 a.m., the inspiratory volumes are slightly\\n lower.  Minimal patchy opacity in the right cardiophrenic region is new. \\n Slight increased retrocardiac density is similar to the prior film.  \\n \\n Elsewhere, the lungs are grossly clear, without CHF, focal infiltrate,\\n effusion or pneumothorax.  The cardiomediastinal silhouette is unchanged\\n allowing for technical differences and the mediastinum remains midline.  \\n \\n Left-sided indwelling catheter and right IJ sheath tips both overlie the\\n proximal SVC, essentially unchanged.  \\n \\n Equivocal slight prominence of the mid abdominal bowel loops.  Right upper\\n quadrant cholecystectomy clips noted.\\n'],\n",
       " 'label': [1, 1, 1]}"
      ]
     },
     "execution_count": 6,
     "metadata": {},
     "output_type": "execute_result"
    }
   ],
   "source": [
    "# This converts your dataframe to datasets and shows you the first 3 rows\n",
    "ds = datasets.Dataset.from_pandas(df, preserve_index=False)\n",
    "ds = ds.train_test_split(test_size=0.3)\n",
    "ds['train'][:3]"
   ]
  },
  {
   "cell_type": "code",
   "execution_count": 7,
   "id": "389bbc15",
   "metadata": {},
   "outputs": [
    {
     "name": "stderr",
     "output_type": "stream",
     "text": [
      "Map: 100%|██████████| 774/774 [00:00<00:00, 8985.70 examples/s]\n",
      "Map: 100%|██████████| 332/332 [00:00<00:00, 8326.81 examples/s]\n"
     ]
    },
    {
     "data": {
      "text/plain": [
       "DatasetDict({\n",
       "    train: Dataset({\n",
       "        features: ['text', 'label', 'text_findings_and_impression'],\n",
       "        num_rows: 774\n",
       "    })\n",
       "    test: Dataset({\n",
       "        features: ['text', 'label', 'text_findings_and_impression'],\n",
       "        num_rows: 332\n",
       "    })\n",
       "})"
      ]
     },
     "execution_count": 7,
     "metadata": {},
     "output_type": "execute_result"
    }
   ],
   "source": [
    "def extract_findings_and_impression(example):\n",
    "    report = example['text']\n",
    "    from section_parser import section_text\n",
    "    sections, section_names, section_idx = section_text(report)\n",
    "    d = dict(zip(section_names, sections))\n",
    "    s = ''\n",
    "    if 'findings' in d:\n",
    "        s += d['findings'] + '\\n'\n",
    "    if 'impression' in d:\n",
    "        s += d['impression'] + '\\n'\n",
    "    s = s.strip()\n",
    "    return {'text_findings_and_impression': s}\n",
    "\n",
    "ds = ds.map(extract_findings_and_impression)\n",
    "ds"
   ]
  },
  {
   "cell_type": "code",
   "execution_count": 8,
   "id": "14a88e4b",
   "metadata": {},
   "outputs": [],
   "source": [
    "# This identifies which model you want to use\n",
    "model_name = \"distilbert/distilbert-base-uncased\"\n",
    "model_name = \"emilyalsentzer/Bio_ClinicalBERT\""
   ]
  },
  {
   "cell_type": "code",
   "execution_count": 9,
   "id": "0ed239e3",
   "metadata": {},
   "outputs": [
    {
     "name": "stderr",
     "output_type": "stream",
     "text": [
      "Map:   0%|          | 0/774 [00:00<?, ? examples/s]Asking to truncate to max_length but no maximum length is provided and the model has no predefined maximum length. Default to no truncation.\n",
      "Map: 100%|██████████| 774/774 [00:00<00:00, 8075.04 examples/s]\n",
      "Map: 100%|██████████| 332/332 [00:00<00:00, 8099.80 examples/s]\n"
     ]
    }
   ],
   "source": [
    "# This converts text to tokens\n",
    "def preprocess_function(examples):\n",
    "    return tokenizer(examples[\"text_findings_and_impression\"], truncation=True) # , max_length=256\n",
    "\n",
    "tokenizer = AutoTokenizer.from_pretrained(model_name)\n",
    "train_ds = ds.map(preprocess_function, batched=True)"
   ]
  },
  {
   "cell_type": "code",
   "execution_count": 10,
   "id": "841fccd0",
   "metadata": {},
   "outputs": [
    {
     "name": "stderr",
     "output_type": "stream",
     "text": [
      "Map: 100%|██████████| 774/774 [00:00<00:00, 4666.59 examples/s]\n",
      "Map: 100%|██████████| 332/332 [00:00<00:00, 6132.05 examples/s]\n"
     ]
    },
    {
     "data": {
      "text/plain": [
       "DatasetDict({\n",
       "    train: Dataset({\n",
       "        features: ['text', 'label', 'text_findings_and_impression', 'input_ids', 'token_type_ids', 'attention_mask', 'input_ids_len'],\n",
       "        num_rows: 774\n",
       "    })\n",
       "    test: Dataset({\n",
       "        features: ['text', 'label', 'text_findings_and_impression', 'input_ids', 'token_type_ids', 'attention_mask', 'input_ids_len'],\n",
       "        num_rows: 332\n",
       "    })\n",
       "})"
      ]
     },
     "execution_count": 10,
     "metadata": {},
     "output_type": "execute_result"
    }
   ],
   "source": [
    "train_ds = train_ds.map(lambda x: {'input_ids_len': len(x['input_ids'])})\n",
    "train_ds"
   ]
  },
  {
   "cell_type": "code",
   "execution_count": 11,
   "id": "b575c8bb",
   "metadata": {},
   "outputs": [
    {
     "data": {
      "text/plain": [
       "(array([ 32.,  22., 136., 175., 132., 111.,  69.,  42.,  23.,  21.,   4.,\n",
       "          4.,   2.,   0.,   0.,   0.,   0.,   0.,   0.,   1.]),\n",
       " array([  2.  ,  22.75,  43.5 ,  64.25,  85.  , 105.75, 126.5 , 147.25,\n",
       "        168.  , 188.75, 209.5 , 230.25, 251.  , 271.75, 292.5 , 313.25,\n",
       "        334.  , 354.75, 375.5 , 396.25, 417.  ]),\n",
       " <BarContainer object of 20 artists>)"
      ]
     },
     "execution_count": 11,
     "metadata": {},
     "output_type": "execute_result"
    },
    {
     "data": {
      "image/png": "[encoded data removed]",
      "text/plain": [
       "<Figure size 640x480 with 1 Axes>"
      ]
     },
     "metadata": {},
     "output_type": "display_data"
    }
   ],
   "source": [
    "import matplotlib.pyplot as plt\n",
    "\n",
    "plt.hist(train_ds['train']['input_ids_len'], bins=20)"
   ]
  },
  {
   "cell_type": "code",
   "execution_count": 11,
   "id": "543a0bcb",
   "metadata": {},
   "outputs": [
    {
     "data": {
      "text/plain": [
       "{'text': '                                 FINAL REPORT\\n EXAMINATION:  CHEST (PORTABLE AP)\\n \\n INDICATION:  ___ year old woman s/p LULobectomy. Persistent desats in ICU,\\n ongoing BiPAP, minimal respiratory effort.  // eval infiltrate\\n \\n COMPARISON:  ___\\n \\n IMPRESSION: \\n \\n As compared to the previous radiograph, no relevant change is seen. The\\n extensive right parenchymal opacities as well as the relatively extensive\\n postoperative left upper lung consolidations are constant in extent and\\n severity. Unchanged size of the cardiac silhouette. Unchanged normal\\n monitoring and support devices.\\n',\n",
       " 'label': 0,\n",
       " 'input_ids': [101,\n",
       "  1509,\n",
       "  2592,\n",
       "  8179,\n",
       "  131,\n",
       "  2229,\n",
       "  113,\n",
       "  15139,\n",
       "  170,\n",
       "  1643,\n",
       "  114,\n",
       "  12754,\n",
       "  131,\n",
       "  168,\n",
       "  168,\n",
       "  168,\n",
       "  1214,\n",
       "  1385,\n",
       "  1590,\n",
       "  188,\n",
       "  120,\n",
       "  185,\n",
       "  181,\n",
       "  22806,\n",
       "  3962,\n",
       "  5822,\n",
       "  18574,\n",
       "  119,\n",
       "  15970,\n",
       "  3532,\n",
       "  9971,\n",
       "  1107,\n",
       "  178,\n",
       "  10182,\n",
       "  117,\n",
       "  7173,\n",
       "  16516,\n",
       "  4163,\n",
       "  1643,\n",
       "  117,\n",
       "  10298,\n",
       "  19192,\n",
       "  3098,\n",
       "  119,\n",
       "  120,\n",
       "  120,\n",
       "  174,\n",
       "  7501,\n",
       "  1107,\n",
       "  8702,\n",
       "  6066,\n",
       "  5498,\n",
       "  7577,\n",
       "  131,\n",
       "  168,\n",
       "  168,\n",
       "  168,\n",
       "  8351,\n",
       "  131,\n",
       "  1112,\n",
       "  3402,\n",
       "  1106,\n",
       "  1103,\n",
       "  2166,\n",
       "  2070,\n",
       "  15241,\n",
       "  117,\n",
       "  1185,\n",
       "  7503,\n",
       "  1849,\n",
       "  1110,\n",
       "  1562,\n",
       "  119,\n",
       "  1103,\n",
       "  4154,\n",
       "  1268,\n",
       "  14247,\n",
       "  1424,\n",
       "  8992,\n",
       "  7435,\n",
       "  11769,\n",
       "  7409,\n",
       "  4233,\n",
       "  1112,\n",
       "  1218,\n",
       "  1112,\n",
       "  1103,\n",
       "  3860,\n",
       "  4154,\n",
       "  2112,\n",
       "  19807,\n",
       "  5838,\n",
       "  1286,\n",
       "  3105,\n",
       "  13093,\n",
       "  20994,\n",
       "  1116,\n",
       "  1132,\n",
       "  4836,\n",
       "  1107,\n",
       "  6102,\n",
       "  1105,\n",
       "  20997,\n",
       "  119,\n",
       "  16684,\n",
       "  2060,\n",
       "  1104,\n",
       "  1103,\n",
       "  17688,\n",
       "  27316,\n",
       "  119,\n",
       "  16684,\n",
       "  2999,\n",
       "  9437,\n",
       "  1105,\n",
       "  1619,\n",
       "  5197,\n",
       "  119,\n",
       "  102],\n",
       " 'token_type_ids': [0,\n",
       "  0,\n",
       "  0,\n",
       "  0,\n",
       "  0,\n",
       "  0,\n",
       "  0,\n",
       "  0,\n",
       "  0,\n",
       "  0,\n",
       "  0,\n",
       "  0,\n",
       "  0,\n",
       "  0,\n",
       "  0,\n",
       "  0,\n",
       "  0,\n",
       "  0,\n",
       "  0,\n",
       "  0,\n",
       "  0,\n",
       "  0,\n",
       "  0,\n",
       "  0,\n",
       "  0,\n",
       "  0,\n",
       "  0,\n",
       "  0,\n",
       "  0,\n",
       "  0,\n",
       "  0,\n",
       "  0,\n",
       "  0,\n",
       "  0,\n",
       "  0,\n",
       "  0,\n",
       "  0,\n",
       "  0,\n",
       "  0,\n",
       "  0,\n",
       "  0,\n",
       "  0,\n",
       "  0,\n",
       "  0,\n",
       "  0,\n",
       "  0,\n",
       "  0,\n",
       "  0,\n",
       "  0,\n",
       "  0,\n",
       "  0,\n",
       "  0,\n",
       "  0,\n",
       "  0,\n",
       "  0,\n",
       "  0,\n",
       "  0,\n",
       "  0,\n",
       "  0,\n",
       "  0,\n",
       "  0,\n",
       "  0,\n",
       "  0,\n",
       "  0,\n",
       "  0,\n",
       "  0,\n",
       "  0,\n",
       "  0,\n",
       "  0,\n",
       "  0,\n",
       "  0,\n",
       "  0,\n",
       "  0,\n",
       "  0,\n",
       "  0,\n",
       "  0,\n",
       "  0,\n",
       "  0,\n",
       "  0,\n",
       "  0,\n",
       "  0,\n",
       "  0,\n",
       "  0,\n",
       "  0,\n",
       "  0,\n",
       "  0,\n",
       "  0,\n",
       "  0,\n",
       "  0,\n",
       "  0,\n",
       "  0,\n",
       "  0,\n",
       "  0,\n",
       "  0,\n",
       "  0,\n",
       "  0,\n",
       "  0,\n",
       "  0,\n",
       "  0,\n",
       "  0,\n",
       "  0,\n",
       "  0,\n",
       "  0,\n",
       "  0,\n",
       "  0,\n",
       "  0,\n",
       "  0,\n",
       "  0,\n",
       "  0,\n",
       "  0,\n",
       "  0,\n",
       "  0,\n",
       "  0,\n",
       "  0,\n",
       "  0,\n",
       "  0,\n",
       "  0,\n",
       "  0,\n",
       "  0],\n",
       " 'attention_mask': [1,\n",
       "  1,\n",
       "  1,\n",
       "  1,\n",
       "  1,\n",
       "  1,\n",
       "  1,\n",
       "  1,\n",
       "  1,\n",
       "  1,\n",
       "  1,\n",
       "  1,\n",
       "  1,\n",
       "  1,\n",
       "  1,\n",
       "  1,\n",
       "  1,\n",
       "  1,\n",
       "  1,\n",
       "  1,\n",
       "  1,\n",
       "  1,\n",
       "  1,\n",
       "  1,\n",
       "  1,\n",
       "  1,\n",
       "  1,\n",
       "  1,\n",
       "  1,\n",
       "  1,\n",
       "  1,\n",
       "  1,\n",
       "  1,\n",
       "  1,\n",
       "  1,\n",
       "  1,\n",
       "  1,\n",
       "  1,\n",
       "  1,\n",
       "  1,\n",
       "  1,\n",
       "  1,\n",
       "  1,\n",
       "  1,\n",
       "  1,\n",
       "  1,\n",
       "  1,\n",
       "  1,\n",
       "  1,\n",
       "  1,\n",
       "  1,\n",
       "  1,\n",
       "  1,\n",
       "  1,\n",
       "  1,\n",
       "  1,\n",
       "  1,\n",
       "  1,\n",
       "  1,\n",
       "  1,\n",
       "  1,\n",
       "  1,\n",
       "  1,\n",
       "  1,\n",
       "  1,\n",
       "  1,\n",
       "  1,\n",
       "  1,\n",
       "  1,\n",
       "  1,\n",
       "  1,\n",
       "  1,\n",
       "  1,\n",
       "  1,\n",
       "  1,\n",
       "  1,\n",
       "  1,\n",
       "  1,\n",
       "  1,\n",
       "  1,\n",
       "  1,\n",
       "  1,\n",
       "  1,\n",
       "  1,\n",
       "  1,\n",
       "  1,\n",
       "  1,\n",
       "  1,\n",
       "  1,\n",
       "  1,\n",
       "  1,\n",
       "  1,\n",
       "  1,\n",
       "  1,\n",
       "  1,\n",
       "  1,\n",
       "  1,\n",
       "  1,\n",
       "  1,\n",
       "  1,\n",
       "  1,\n",
       "  1,\n",
       "  1,\n",
       "  1,\n",
       "  1,\n",
       "  1,\n",
       "  1,\n",
       "  1,\n",
       "  1,\n",
       "  1,\n",
       "  1,\n",
       "  1,\n",
       "  1,\n",
       "  1,\n",
       "  1,\n",
       "  1,\n",
       "  1,\n",
       "  1,\n",
       "  1],\n",
       " 'input_ids_len': 119}"
      ]
     },
     "execution_count": 11,
     "metadata": {},
     "output_type": "execute_result"
    }
   ],
   "source": [
    "# Showing the tokenization of the first row in the text column\n",
    "train_ds['train'][0]"
   ]
  },
  {
   "cell_type": "code",
   "execution_count": 12,
   "id": "ffe558b0",
   "metadata": {},
   "outputs": [],
   "source": [
    "# Pulls your data together into your batch size as input into the model\n",
    "data_collator = DataCollatorWithPadding(tokenizer=tokenizer)"
   ]
  },
  {
   "cell_type": "code",
   "execution_count": 13,
   "id": "b514908b",
   "metadata": {},
   "outputs": [],
   "source": [
    "# Set which evaluation metrics you want to use\n",
    "accuracy = evaluate.load(\"accuracy\")\n",
    "\n",
    "def compute_metrics(eval_pred):\n",
    "    predictions, labels = eval_pred\n",
    "    predictions = np.argmax(predictions, axis=1)\n",
    "    return accuracy.compute(predictions=predictions, references=labels)"
   ]
  },
  {
   "cell_type": "code",
   "execution_count": 14,
   "id": "51f63fab",
   "metadata": {},
   "outputs": [
    {
     "name": "stderr",
     "output_type": "stream",
     "text": [
      "Some weights of BertForSequenceClassification were not initialized from the model checkpoint at emilyalsentzer/Bio_ClinicalBERT and are newly initialized: ['classifier.bias', 'classifier.weight']\n",
      "You should probably TRAIN this model on a down-stream task to be able to use it for predictions and inference.\n"
     ]
    }
   ],
   "source": [
    "id2label = {0: \"NEGATIVE\", 1: \"POSITIVE\"}\n",
    "label2id = {\"NEGATIVE\": 0, \"POSITIVE\": 1}\n",
    "\n",
    "model = AutoModelForSequenceClassification.from_pretrained(\n",
    "    model_name, num_labels=2, id2label=id2label, label2id=label2id\n",
    ")"
   ]
  },
  {
   "cell_type": "code",
   "execution_count": 16,
   "id": "dcccf40f",
   "metadata": {},
   "outputs": [
    {
     "name": "stderr",
     "output_type": "stream",
     "text": [
      "/data/vision/polina/shared_software/miniconda3/envs/cxrpe/lib/python3.10/site-packages/accelerate/accelerator.py:432: FutureWarning: Passing the following arguments to `Accelerator` is deprecated and will be removed in version 1.0 of Accelerate: dict_keys(['dispatch_batches', 'split_batches', 'even_batches', 'use_seedable_sampler']). Please pass an `accelerate.DataLoaderConfiguration` instead: \n",
      "dataloader_config = DataLoaderConfiguration(dispatch_batches=None, split_batches=False, even_batches=True, use_seedable_sampler=True)\n",
      "  warnings.warn(\n"
     ]
    },
    {
     "data": {
      "text/html": [
       "\n",
       "    <div>\n",
       "      \n",
       "      <progress value='975' max='975' style='width:300px; height:20px; vertical-align: middle;'></progress>\n",
       "      [975/975 03:33, Epoch 15/15]\n",
       "    </div>\n",
       "    <table border=\"1\" class=\"dataframe\">\n",
       "  <thead>\n",
       " <tr style=\"text-align: left;\">\n",
       "      <th>Epoch</th>\n",
       "      <th>Training Loss</th>\n",
       "      <th>Validation Loss</th>\n",
       "      <th>Accuracy</th>\n",
       "    </tr>\n",
       "  </thead>\n",
       "  <tbody>\n",
       "    <tr>\n",
       "      <td>1</td>\n",
       "      <td>No log</td>\n",
       "      <td>0.814706</td>\n",
       "      <td>0.503012</td>\n",
       "    </tr>\n",
       "    <tr>\n",
       "      <td>2</td>\n",
       "      <td>No log</td>\n",
       "      <td>0.695901</td>\n",
       "      <td>0.503012</td>\n",
       "    </tr>\n",
       "    <tr>\n",
       "      <td>3</td>\n",
       "      <td>No log</td>\n",
       "      <td>0.756275</td>\n",
       "      <td>0.496988</td>\n",
       "    </tr>\n",
       "    <tr>\n",
       "      <td>4</td>\n",
       "      <td>No log</td>\n",
       "      <td>0.701322</td>\n",
       "      <td>0.496988</td>\n",
       "    </tr>\n",
       "    <tr>\n",
       "      <td>5</td>\n",
       "      <td>No log</td>\n",
       "      <td>0.696394</td>\n",
       "      <td>0.503012</td>\n",
       "    </tr>\n",
       "    <tr>\n",
       "      <td>6</td>\n",
       "      <td>No log</td>\n",
       "      <td>0.750228</td>\n",
       "      <td>0.496988</td>\n",
       "    </tr>\n",
       "    <tr>\n",
       "      <td>7</td>\n",
       "      <td>No log</td>\n",
       "      <td>0.693353</td>\n",
       "      <td>0.496988</td>\n",
       "    </tr>\n",
       "    <tr>\n",
       "      <td>8</td>\n",
       "      <td>0.713600</td>\n",
       "      <td>0.699391</td>\n",
       "      <td>0.503012</td>\n",
       "    </tr>\n",
       "    <tr>\n",
       "      <td>9</td>\n",
       "      <td>0.713600</td>\n",
       "      <td>0.696094</td>\n",
       "      <td>0.496988</td>\n",
       "    </tr>\n",
       "    <tr>\n",
       "      <td>10</td>\n",
       "      <td>0.713600</td>\n",
       "      <td>0.693171</td>\n",
       "      <td>0.496988</td>\n",
       "    </tr>\n",
       "    <tr>\n",
       "      <td>11</td>\n",
       "      <td>0.713600</td>\n",
       "      <td>0.693592</td>\n",
       "      <td>0.496988</td>\n",
       "    </tr>\n",
       "    <tr>\n",
       "      <td>12</td>\n",
       "      <td>0.713600</td>\n",
       "      <td>0.693405</td>\n",
       "      <td>0.496988</td>\n",
       "    </tr>\n",
       "    <tr>\n",
       "      <td>13</td>\n",
       "      <td>0.713600</td>\n",
       "      <td>0.696611</td>\n",
       "      <td>0.496988</td>\n",
       "    </tr>\n",
       "    <tr>\n",
       "      <td>14</td>\n",
       "      <td>0.713600</td>\n",
       "      <td>0.693142</td>\n",
       "      <td>0.503012</td>\n",
       "    </tr>\n",
       "    <tr>\n",
       "      <td>15</td>\n",
       "      <td>0.713600</td>\n",
       "      <td>0.693132</td>\n",
       "      <td>0.503012</td>\n",
       "    </tr>\n",
       "  </tbody>\n",
       "</table><p>"
      ],
      "text/plain": [
       "<IPython.core.display.HTML object>"
      ]
     },
     "metadata": {},
     "output_type": "display_data"
    }
   ],
   "source": [
    "training_args = TrainingArguments(\n",
    "    output_dir=\"results/note_text_classifier\",\n",
    "    learning_rate=2e-4,\n",
    "    per_device_train_batch_size=12,\n",
    "    per_device_eval_batch_size=16,\n",
    "    num_train_epochs=15,\n",
    "    weight_decay=0.01,\n",
    "    evaluation_strategy=\"epoch\",\n",
    "    save_strategy=\"epoch\",\n",
    "    load_best_model_at_end=True,\n",
    ")\n",
    "\n",
    "trainer = Trainer(\n",
    "    model=model,\n",
    "    args=training_args,\n",
    "    train_dataset=train_ds[\"train\"],\n",
    "    eval_dataset=train_ds[\"test\"],\n",
    "    tokenizer=tokenizer,\n",
    "    data_collator=data_collator,\n",
    "    compute_metrics=compute_metrics,\n",
    ")\n",
    "\n",
    "train_result = trainer.train()"
   ]
  },
  {
   "cell_type": "code",
   "execution_count": 35,
   "id": "f9969fa1",
   "metadata": {},
   "outputs": [
    {
     "name": "stderr",
     "output_type": "stream",
     "text": [
      "huggingface/tokenizers: The current process just got forked, after parallelism has already been used. Disabling parallelism to avoid deadlocks...\n",
      "To disable this warning, you can either:\n",
      "\t- Avoid using `tokenizers` before the fork if possible\n",
      "\t- Explicitly set the environment variable TOKENIZERS_PARALLELISM=(true | false)\n"
     ]
    },
    {
     "name": "stdout",
     "output_type": "stream",
     "text": [
      "Fri Apr 12 17:25:51 2024       \r\n",
      "+---------------------------------------------------------------------------------------+\r\n",
      "| NVIDIA-SMI 535.129.03             Driver Version: 535.129.03   CUDA Version: 12.2     |\r\n",
      "|-----------------------------------------+----------------------+----------------------+\r\n",
      "| GPU  Name                 Persistence-M | Bus-Id        Disp.A | Volatile Uncorr. ECC |\r\n",
      "| Fan  Temp   Perf          Pwr:Usage/Cap |         Memory-Usage | GPU-Util  Compute M. |\r\n",
      "|                                         |                      |               MIG M. |\r\n",
      "|=========================================+======================+======================|\r\n",
      "|   0  NVIDIA GeForce RTX 2080 Ti     On  | 00000000:3B:00.0 Off |                  N/A |\r\n",
      "| 32%   31C    P8              19W / 250W |   5575MiB / 11264MiB |      0%      Default |\r\n",
      "|                                         |                      |                  N/A |\r\n",
      "+-----------------------------------------+----------------------+----------------------+\r\n",
      "|   1  NVIDIA GeForce RTX 2080 Ti     On  | 00000000:5E:00.0 Off |                  N/A |\r\n",
      "| 33%   26C    P8               4W / 250W |      1MiB / 11264MiB |      0%      Default |\r\n",
      "|                                         |                      |                  N/A |\r\n",
      "+-----------------------------------------+----------------------+----------------------+\r\n",
      "|   2  NVIDIA GeForce RTX 2080 Ti     On  | 00000000:86:00.0 Off |                  N/A |\r\n",
      "| 32%   27C    P8              23W / 250W |      1MiB / 11264MiB |      0%      Default |\r\n",
      "|                                         |                      |                  N/A |\r\n",
      "+-----------------------------------------+----------------------+----------------------+\r\n",
      "|   3  NVIDIA GeForce RTX 2080 Ti     On  | 00000000:AF:00.0 Off |                  N/A |\r\n",
      "| 32%   26C    P8              15W / 250W |      1MiB / 11264MiB |      0%      Default |\r\n",
      "|                                         |                      |                  N/A |\r\n",
      "+-----------------------------------------+----------------------+----------------------+\r\n",
      "                                                                                         \r\n",
      "+---------------------------------------------------------------------------------------+\r\n",
      "| Processes:                                                                            |\r\n",
      "|  GPU   GI   CI        PID   Type   Process name                            GPU Memory |\r\n",
      "|        ID   ID                                                             Usage      |\r\n",
      "|=======================================================================================|\r\n",
      "|    0   N/A  N/A   2663361      C   ...re/miniconda3/envs/cxrpe/bin/python     5572MiB |\r\n",
      "+---------------------------------------------------------------------------------------+\r\n"
     ]
    }
   ],
   "source": [
    "! nvidia-smi"
   ]
  },
  {
   "cell_type": "code",
   "execution_count": null,
   "id": "8231f745",
   "metadata": {},
   "outputs": [],
   "source": []
  }
 ],
 "metadata": {
  "kernelspec": {
   "display_name": "Python [conda env:cxrpe] *",
   "language": "python",
   "name": "conda-env-cxrpe-py"
  },
  "language_info": {
   "codemirror_mode": {
    "name": "ipython",
    "version": 3
   },
   "file_extension": ".py",
   "mimetype": "text/x-python",
   "name": "python",
   "nbconvert_exporter": "python",
   "pygments_lexer": "ipython3",
   "version": "3.10.13"
  }
 },
 "nbformat": 4,
 "nbformat_minor": 5
}
