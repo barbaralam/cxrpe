{
 "cells": [
  {
   "cell_type": "code",
   "execution_count": 1,
   "id": "b029a6c1",
   "metadata": {},
   "outputs": [],
   "source": [
    "import os\n",
    "import pandas as pd\n",
    "import re"
   ]
  },
  {
   "cell_type": "code",
   "execution_count": 2,
   "id": "96f93214",
   "metadata": {},
   "outputs": [],
   "source": [
    "from google.cloud import bigquery"
   ]
  },
  {
   "cell_type": "code",
   "execution_count": 3,
   "id": "0fa6f5d4",
   "metadata": {},
   "outputs": [],
   "source": [
    "project_id = 'mimic-371816'"
   ]
  },
  {
   "cell_type": "code",
   "execution_count": 4,
   "id": "e413401c",
   "metadata": {},
   "outputs": [],
   "source": [
    "BigQuery_client = bigquery.Client(project=project_id)"
   ]
  },
  {
   "cell_type": "code",
   "execution_count": 5,
   "id": "ee61bcd0",
   "metadata": {},
   "outputs": [],
   "source": [
    "# This is a practice query to ensure you can pull a short query from mimic\n",
    "practice = '''SELECT * FROM `lcp-consortium.mimiciv_note.radiology` LIMIT 10;'''"
   ]
  },
  {
   "cell_type": "code",
   "execution_count": 6,
   "id": "34b65282",
   "metadata": {},
   "outputs": [],
   "source": [
    "# Put the short practice query into a dataframe\n",
    "dfpractice = BigQuery_client.query(practice).to_dataframe()"
   ]
  },
  {
   "cell_type": "code",
   "execution_count": 7,
   "id": "d1538370",
   "metadata": {},
   "outputs": [
    {
     "data": {
      "text/html": [
       "<div>\n",
       "<style scoped>\n",
       "    .dataframe tbody tr th:only-of-type {\n",
       "        vertical-align: middle;\n",
       "    }\n",
       "\n",
       "    .dataframe tbody tr th {\n",
       "        vertical-align: top;\n",
       "    }\n",
       "\n",
       "    .dataframe thead th {\n",
       "        text-align: right;\n",
       "    }\n",
       "</style>\n",
       "<table border=\"1\" class=\"dataframe\">\n",
       "  <thead>\n",
       "    <tr style=\"text-align: right;\">\n",
       "      <th></th>\n",
       "      <th>note_id</th>\n",
       "      <th>subject_id</th>\n",
       "      <th>hadm_id</th>\n",
       "      <th>note_type</th>\n",
       "      <th>note_seq</th>\n",
       "      <th>charttime</th>\n",
       "      <th>storetime</th>\n",
       "      <th>text</th>\n",
       "    </tr>\n",
       "  </thead>\n",
       "  <tbody>\n",
       "    <tr>\n",
       "      <th>0</th>\n",
       "      <td>17693798-RR-256</td>\n",
       "      <td>17693798</td>\n",
       "      <td>26855677</td>\n",
       "      <td>RR</td>\n",
       "      <td>256</td>\n",
       "      <td>2125-05-20 21:00:00</td>\n",
       "      <td>2125-05-21 10:03:00</td>\n",
       "      <td>CLINICAL HISTORY:  Patient fell onto right rib...</td>\n",
       "    </tr>\n",
       "    <tr>\n",
       "      <th>1</th>\n",
       "      <td>12165964-RR-256</td>\n",
       "      <td>12165964</td>\n",
       "      <td>29176015</td>\n",
       "      <td>RR</td>\n",
       "      <td>256</td>\n",
       "      <td>2152-07-01 03:52:00</td>\n",
       "      <td>2152-07-01 12:57:00</td>\n",
       "      <td>AP CHEST 4:52 A.M. ON ___\\n\\nHISTORY:  CHF and...</td>\n",
       "    </tr>\n",
       "    <tr>\n",
       "      <th>2</th>\n",
       "      <td>17329106-RR-256</td>\n",
       "      <td>17329106</td>\n",
       "      <td>23935599</td>\n",
       "      <td>RR</td>\n",
       "      <td>256</td>\n",
       "      <td>2158-08-20 19:36:00</td>\n",
       "      <td>2158-08-20 21:16:00</td>\n",
       "      <td>HISTORY:  Altered mental status.\\n\\nCOMPARISON...</td>\n",
       "    </tr>\n",
       "    <tr>\n",
       "      <th>3</th>\n",
       "      <td>16921793-RR-256</td>\n",
       "      <td>16921793</td>\n",
       "      <td>23285822</td>\n",
       "      <td>RR</td>\n",
       "      <td>256</td>\n",
       "      <td>2134-05-01 07:12:00</td>\n",
       "      <td>2134-05-01 08:57:00</td>\n",
       "      <td>INDICATION:  History of end-stage renal diseas...</td>\n",
       "    </tr>\n",
       "    <tr>\n",
       "      <th>4</th>\n",
       "      <td>14867101-RR-257</td>\n",
       "      <td>14867101</td>\n",
       "      <td>24955503</td>\n",
       "      <td>RR</td>\n",
       "      <td>257</td>\n",
       "      <td>2151-01-28 18:42:00</td>\n",
       "      <td>2151-01-28 19:52:00</td>\n",
       "      <td>CHEST RADIOGRAPH\\n\\nComparison is made with a ...</td>\n",
       "    </tr>\n",
       "  </tbody>\n",
       "</table>\n",
       "</div>"
      ],
      "text/plain": [
       "           note_id  subject_id   hadm_id note_type  note_seq  \\\n",
       "0  17693798-RR-256    17693798  26855677        RR       256   \n",
       "1  12165964-RR-256    12165964  29176015        RR       256   \n",
       "2  17329106-RR-256    17329106  23935599        RR       256   \n",
       "3  16921793-RR-256    16921793  23285822        RR       256   \n",
       "4  14867101-RR-257    14867101  24955503        RR       257   \n",
       "\n",
       "            charttime           storetime  \\\n",
       "0 2125-05-20 21:00:00 2125-05-21 10:03:00   \n",
       "1 2152-07-01 03:52:00 2152-07-01 12:57:00   \n",
       "2 2158-08-20 19:36:00 2158-08-20 21:16:00   \n",
       "3 2134-05-01 07:12:00 2134-05-01 08:57:00   \n",
       "4 2151-01-28 18:42:00 2151-01-28 19:52:00   \n",
       "\n",
       "                                                text  \n",
       "0  CLINICAL HISTORY:  Patient fell onto right rib...  \n",
       "1  AP CHEST 4:52 A.M. ON ___\\n\\nHISTORY:  CHF and...  \n",
       "2  HISTORY:  Altered mental status.\\n\\nCOMPARISON...  \n",
       "3  INDICATION:  History of end-stage renal diseas...  \n",
       "4  CHEST RADIOGRAPH\\n\\nComparison is made with a ...  "
      ]
     },
     "execution_count": 7,
     "metadata": {},
     "output_type": "execute_result"
    }
   ],
   "source": [
    "dfpractice.head()"
   ]
  },
  {
   "cell_type": "code",
   "execution_count": 8,
   "id": "ab3a9679",
   "metadata": {},
   "outputs": [],
   "source": [
    "# A SQL query that pulls all radiology reports that have an ICD code related to PE\n",
    "Reports = '''--CTE for diagnosis table\n",
    "WITH dx AS\n",
    "(SELECT subject_id AS dx_MRN, hadm_id AS dx_hadm, icd_code AS dx_icdcode\n",
    "FROM `physionet-data.mimiciv_hosp.diagnoses_icd`),\n",
    "\n",
    "--CTE for radiology table\n",
    "reports AS \n",
    "(SELECT subject_id AS report_MRN, note_id, hadm_id AS report_hadm, charttime, text, note_type\n",
    "FROM `lcp-consortium.mimiciv_note.radiology`)\n",
    "\n",
    "SELECT * from reports\n",
    "LEFT JOIN dx\n",
    "ON reports.report_MRN = dx.dx_MRN\n",
    "WHERE \n",
    "(dx.dx_icdcode LIKE 'I26%'\n",
    "OR dx.dx_icdcode LIKE '415%')\n",
    "AND note_type = 'RR';\n",
    "'''"
   ]
  },
  {
   "cell_type": "code",
   "execution_count": 9,
   "id": "b313ae46",
   "metadata": {},
   "outputs": [],
   "source": [
    "reports = BigQuery_client.query(Reports).to_dataframe()"
   ]
  },
  {
   "cell_type": "code",
   "execution_count": 10,
   "id": "614ac00e",
   "metadata": {},
   "outputs": [
    {
     "data": {
      "text/plain": [
       "147400"
      ]
     },
     "execution_count": 10,
     "metadata": {},
     "output_type": "execute_result"
    }
   ],
   "source": [
    "len(reports)"
   ]
  },
  {
   "cell_type": "code",
   "execution_count": 16,
   "id": "b7961e9b",
   "metadata": {},
   "outputs": [],
   "source": [
    "# Now look for the following PE phrases in the text column\n",
    "PEphrases = ['pulmonary embolism', 'pulmonary emboli', 'pulmonary embolus', 'pulmonary embolic', 'pulmonary thromboembolism', 'pulmonary thromboembolic', 'pulmonary artery embolus', 'pulmonary artery emboli', 'pulmonary artery embolism', 'pulmonary artery embolic', 'pulmonary artery thromboembolism', 'pulmonary artery thromboembolic', 'pulmonary arterial embolus', 'pulmonary arterial emboli', 'pulmonary arterial embolism', 'pulmonary arterial embolic', 'pulmonary arterial thromboembolism', 'pulmonary arterial thromboembolic']\n",
    "# Create a regular expression pattern that matches any of the phrases\n",
    "PEpattern = re.compile('|'.join(PEphrases), flags=re.IGNORECASE)"
   ]
  },
  {
   "cell_type": "code",
   "execution_count": 17,
   "id": "cae4a708",
   "metadata": {},
   "outputs": [],
   "source": [
    "ReportswithPE = reports[reports['text'].str.contains(PEpattern)]"
   ]
  },
  {
   "cell_type": "code",
   "execution_count": 18,
   "id": "d52a13d1",
   "metadata": {},
   "outputs": [
    {
     "data": {
      "text/plain": [
       "11371"
      ]
     },
     "execution_count": 18,
     "metadata": {},
     "output_type": "execute_result"
    }
   ],
   "source": [
    "len(ReportswithPE)"
   ]
  },
  {
   "cell_type": "code",
   "execution_count": 20,
   "id": "615ca926",
   "metadata": {},
   "outputs": [],
   "source": [
    "## A selection of 100 reports from ReportswithPE is assessed to determine the RegEx pattern\n",
    "# for identifying CTA reports"
   ]
  },
  {
   "cell_type": "code",
   "execution_count": 21,
   "id": "e72fbbfb",
   "metadata": {},
   "outputs": [],
   "source": [
    "# Now, a SQL query that will pull all radiology reports\n",
    "RR = '''SELECT * FROM `lcp-consortium.mimiciv_note.radiology`;\n",
    "'''"
   ]
  },
  {
   "cell_type": "code",
   "execution_count": 22,
   "id": "825809fc",
   "metadata": {},
   "outputs": [],
   "source": [
    "RR = BigQuery_client.query(RR).to_dataframe()"
   ]
  },
  {
   "cell_type": "code",
   "execution_count": 47,
   "id": "c760b439",
   "metadata": {},
   "outputs": [
    {
     "data": {
      "text/plain": [
       "2321355"
      ]
     },
     "execution_count": 47,
     "metadata": {},
     "output_type": "execute_result"
    }
   ],
   "source": [
    "len(RR)"
   ]
  },
  {
   "cell_type": "code",
   "execution_count": 23,
   "id": "2b6829fd",
   "metadata": {},
   "outputs": [],
   "source": [
    "# Segment the radiology reports into PROCEDURE, EXAMINATION, STUDY, and TECHNIQUE\n",
    "procedure_pattern = re.compile(r'PROCEDURE:(.*?)(?=\\n\\n[A-Z]+:|\\n\\n|\\n$)', re.DOTALL)\n",
    "examination_pattern = re.compile(r'EXAMINATION:(.*?)(?=\\n\\n[A-Z]+:|\\n\\n|\\n$)', re.DOTALL)\n",
    "study_pattern = re.compile(r'STUDY:(.*?)(?=\\n\\n[A-Z]+:|\\n\\n|\\n$)', re.DOTALL)\n",
    "technique_pattern = re.compile(r'TECHNIQUE:(.*?)(?=\\n\\n[A-Z]+:|\\n\\n|\\n$)', re.DOTALL)"
   ]
  },
  {
   "cell_type": "code",
   "execution_count": 24,
   "id": "b9323c0b",
   "metadata": {},
   "outputs": [],
   "source": [
    "# Create a function to extract both EXAMINATION and STUDY and TECHNIQUE from the text column\n",
    "def extract_exam(text):\n",
    "    examination_match = examination_pattern.search(text)\n",
    "    study_match = study_pattern.search(text)\n",
    "    technique_match = technique_pattern.search(text)\n",
    "    procedure_match = procedure_pattern.search(text)\n",
    "    \n",
    "    examination = examination_match.group(1).strip() if examination_match and examination_match.group(1) else None\n",
    "    study = study_match.group(1).strip() if study_match and study_match.group(1) else None\n",
    "    procedure = procedure_match.group(1).strip() if procedure_match and procedure_match.group(1) else None\n",
    "    technique = technique_match.group(1).strip() if technique_match and technique_match.group(1) else None\n",
    "    \n",
    "    return examination, study, procedure, technique"
   ]
  },
  {
   "cell_type": "code",
   "execution_count": 25,
   "id": "14224da7",
   "metadata": {},
   "outputs": [],
   "source": [
    "# Let's try RegEx on the full dataset now and see how many CTA chests I get\n",
    "RR[['Examination', 'Study', 'Procedure', 'Technique']] = RR['text'].apply(extract_exam).apply(pd.Series)"
   ]
  },
  {
   "cell_type": "code",
   "execution_count": 26,
   "id": "81264d0a",
   "metadata": {},
   "outputs": [],
   "source": [
    "# Now try the string contains search approach\n",
    "terms = ['cta chest', 'cta thorax', 'ct pulmonary angiogram', 'chest cta', 'ctpa', 'cta protocol', 'cta of the chest' 'torso cta', 'cta torso', 'ct pa protocol']\n",
    "RR['cta_chest_string'] = RR['Examination'].str.lower().str.contains('|'.join(terms)) | \\\n",
    "                  RR['Procedure'].str.lower().str.contains('|'.join(terms)) | \\\n",
    "                  RR['Study'].str.lower().str.contains('|'.join(terms)) | \\\n",
    "                  RR['Technique'].str.lower().str.contains('|'.join(terms))"
   ]
  },
  {
   "cell_type": "code",
   "execution_count": 39,
   "id": "feafe6ab",
   "metadata": {},
   "outputs": [],
   "source": [
    "# This dataframe will only include rows where cta chest evaluated to true \n",
    "CTAchest = RR[RR['cta_chest_string'] == True]"
   ]
  },
  {
   "cell_type": "code",
   "execution_count": 28,
   "id": "7e87a5c0",
   "metadata": {},
   "outputs": [
    {
     "data": {
      "text/plain": [
       "17143"
      ]
     },
     "execution_count": 28,
     "metadata": {},
     "output_type": "execute_result"
    }
   ],
   "source": [
    "len(CTAchest)"
   ]
  },
  {
   "cell_type": "code",
   "execution_count": 29,
   "id": "c646e5dd",
   "metadata": {},
   "outputs": [],
   "source": [
    "# Make a copy to work with\n",
    "CTAchestcopy = CTAchest.copy()"
   ]
  },
  {
   "cell_type": "code",
   "execution_count": 30,
   "id": "88406c12",
   "metadata": {},
   "outputs": [],
   "source": [
    "# Remove all of the notes that I identified as CTA chest\n",
    "RRremaining = RR[~RR['note_id'].isin(CTAchest['note_id'])]"
   ]
  },
  {
   "cell_type": "code",
   "execution_count": 32,
   "id": "7d5551d7",
   "metadata": {},
   "outputs": [],
   "source": [
    "# Define three regex patterns for isolated CTA Chest sections\n",
    "ctapatternone = re.compile(r'\\n\\nCTA CHEST\\b')\n",
    "ctapatterntwo = re.compile(r'\\n\\nCTA OF THE CHEST\\b')\n",
    "ctapatternthree = re.compile(r'\\n\\nCTA THORAX\\b')"
   ]
  },
  {
   "cell_type": "code",
   "execution_count": 34,
   "id": "3ad62f4d",
   "metadata": {},
   "outputs": [],
   "source": [
    "# Define patterns\n",
    "patterns = [ctapatternone, ctapatterntwo, ctapatternthree]"
   ]
  },
  {
   "cell_type": "code",
   "execution_count": 35,
   "id": "7603fab2",
   "metadata": {},
   "outputs": [],
   "source": [
    "def find_cta_chest_section(text, patterns):\n",
    "    for pattern in patterns:\n",
    "        if pattern.search(text):\n",
    "            return True\n",
    "    return False"
   ]
  },
  {
   "cell_type": "code",
   "execution_count": 37,
   "id": "bcc37023",
   "metadata": {},
   "outputs": [],
   "source": [
    "# Create a copy of the RRremaining dataframe\n",
    "RRremainingCTAsection = RRremaining.copy()"
   ]
  },
  {
   "cell_type": "code",
   "execution_count": 38,
   "id": "c572c662",
   "metadata": {},
   "outputs": [],
   "source": [
    "# Apply the function to create a new column\n",
    "RRremainingCTAsection['cta_chest_section'] = RRremainingCTAsection['text'].apply(lambda x: find_cta_chest_section(x, patterns))"
   ]
  },
  {
   "cell_type": "code",
   "execution_count": 41,
   "id": "1a149c02",
   "metadata": {},
   "outputs": [],
   "source": [
    "# This dataframe will only include rows where cta chest SECTION evaluated to true \n",
    "CTAsection = RRremainingCTAsection[RRremainingCTAsection['cta_chest_section'] == True]"
   ]
  },
  {
   "cell_type": "code",
   "execution_count": 42,
   "id": "9bda27b4",
   "metadata": {},
   "outputs": [
    {
     "data": {
      "text/plain": [
       "2707"
      ]
     },
     "execution_count": 42,
     "metadata": {},
     "output_type": "execute_result"
    }
   ],
   "source": [
    "len(CTAsection)"
   ]
  },
  {
   "cell_type": "code",
   "execution_count": 43,
   "id": "3ea917b4",
   "metadata": {},
   "outputs": [],
   "source": [
    "# Concactenate CTAchest and CTAsection\n",
    "CTAchestworking = pd.concat([CTAchest, CTAsection], axis=0)"
   ]
  },
  {
   "cell_type": "code",
   "execution_count": 45,
   "id": "8d0f9977",
   "metadata": {},
   "outputs": [],
   "source": [
    "# Remove notes found in CTAchestworking from the original full radiology report dataframe\n",
    "RRfinalremaining = RR[~RR['note_id'].isin(CTAchestworking['note_id'])]"
   ]
  },
  {
   "cell_type": "code",
   "execution_count": 46,
   "id": "0db65836",
   "metadata": {},
   "outputs": [
    {
     "data": {
      "text/plain": [
       "2301505"
      ]
     },
     "execution_count": 46,
     "metadata": {},
     "output_type": "execute_result"
    }
   ],
   "source": [
    "len(RRfinalremaining)"
   ]
  },
  {
   "cell_type": "code",
   "execution_count": 48,
   "id": "e70a820c",
   "metadata": {},
   "outputs": [],
   "source": [
    "# Let's segment to history and indication\n",
    "history_pattern = re.compile(r'HISTORY:(.*?)(?=\\n\\n[A-Z]+:|\\n\\n|\\n$)', re.DOTALL)\n",
    "indication_pattern = re.compile(r'INDICATION:(.*?)(?=\\n\\n[A-Z]+:|\\n\\n|\\n$)', re.DOTALL)"
   ]
  },
  {
   "cell_type": "code",
   "execution_count": 49,
   "id": "dd83dc15",
   "metadata": {},
   "outputs": [],
   "source": [
    "# Create a function to extract both HISTORY and INDICATION from the text column\n",
    "def extract_history(text):\n",
    "    history_match = history_pattern.search(text)\n",
    "    indication_match = indication_pattern.search(text)\n",
    "    \n",
    "    history = history_match.group(1).strip() if history_match and history_match.group(1) else None\n",
    "    indication = indication_match.group(1).strip() if indication_match and indication_match.group(1) else None\n",
    " \n",
    "    return history, indication"
   ]
  },
  {
   "cell_type": "code",
   "execution_count": 50,
   "id": "d7dfb93d",
   "metadata": {},
   "outputs": [],
   "source": [
    "# Make a copy of the RRfinalremaining dataframe\n",
    "RRwithPE = RRfinalremaining.copy()"
   ]
  },
  {
   "cell_type": "code",
   "execution_count": 51,
   "id": "801d9cd3",
   "metadata": {},
   "outputs": [],
   "source": [
    "# Let's apply to above function to extract history and indication\n",
    "RRwithPE[['History', 'Indication']] = RRwithPE['text'].apply(extract_history).apply(pd.Series)"
   ]
  },
  {
   "cell_type": "code",
   "execution_count": 52,
   "id": "54537fee",
   "metadata": {},
   "outputs": [],
   "source": [
    "# Now try the string contains search approach\n",
    "terms = ['pulmonary embolism', 'pulmonary emboli', 'pulmonary embolus', 'pulmonary embolic', 'pulmonary thromboembolism', 'pulmonary thromboembolic', 'pulmonary artery embolus', 'pulmonary artery emboli', 'pulmonary artery embolism', 'pulmonary artery embolic', 'pulmonary artery thromboembolism', 'pulmonary artery thromboembolic', 'pulmonary arterial embolus', 'pulmonary arterial emboli', 'pulmonary arterial embolism', 'pulmonary arterial embolic', 'pulmonary arterial thromboembolism', 'pulmonary arterial thromboembolic']\n",
    "RRwithPE['pe_string'] = RRwithPE['History'].str.lower().str.contains('|'.join(terms)) | \\\n",
    "                  RRwithPE['Indication'].str.lower().str.contains('|'.join(terms))"
   ]
  },
  {
   "cell_type": "code",
   "execution_count": 54,
   "id": "fbd7b417",
   "metadata": {},
   "outputs": [],
   "source": [
    "# This dataframe will only include rows where pe_string evaluates to true\n",
    "RRwithPEtrue = RRwithPE[RRwithPE['pe_string'] == True]"
   ]
  },
  {
   "cell_type": "code",
   "execution_count": 55,
   "id": "6fa22d9d",
   "metadata": {},
   "outputs": [
    {
     "data": {
      "text/plain": [
       "2077"
      ]
     },
     "execution_count": 55,
     "metadata": {},
     "output_type": "execute_result"
    }
   ],
   "source": [
    "len(RRwithPEtrue)"
   ]
  },
  {
   "cell_type": "code",
   "execution_count": 56,
   "id": "3a483c6c",
   "metadata": {},
   "outputs": [],
   "source": [
    "# Concactenate the CTAchestworking dataframe with the RRwithPEtrue dataframe\n",
    "CTAfinal = pd.concat([CTAchestworking, RRwithPEtrue], axis=0)"
   ]
  },
  {
   "cell_type": "code",
   "execution_count": 57,
   "id": "6035e49c",
   "metadata": {},
   "outputs": [
    {
     "data": {
      "text/plain": [
       "21927"
      ]
     },
     "execution_count": 57,
     "metadata": {},
     "output_type": "execute_result"
    }
   ],
   "source": [
    "len(CTAfinal)"
   ]
  },
  {
   "cell_type": "code",
   "execution_count": null,
   "id": "a84c9c08",
   "metadata": {},
   "outputs": [],
   "source": []
  }
 ],
 "metadata": {
  "kernelspec": {
   "display_name": "Python 3 (ipykernel)",
   "language": "python",
   "name": "python3"
  },
  "language_info": {
   "codemirror_mode": {
    "name": "ipython",
    "version": 3
   },
   "file_extension": ".py",
   "mimetype": "text/x-python",
   "name": "python",
   "nbconvert_exporter": "python",
   "pygments_lexer": "ipython3",
   "version": "3.9.13"
  }
 },
 "nbformat": 4,
 "nbformat_minor": 5
}
