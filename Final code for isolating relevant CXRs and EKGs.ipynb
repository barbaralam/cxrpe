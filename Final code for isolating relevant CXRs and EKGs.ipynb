{
 "cells": [
  {
   "cell_type": "code",
   "execution_count": 1,
   "id": "fb99fbf6",
   "metadata": {},
   "outputs": [],
   "source": [
    "import os \n",
    "import pandas as pd\n",
    "import re\n",
    "import matplotlib.pyplot as plt\n",
    "import csv"
   ]
  },
  {
   "cell_type": "code",
   "execution_count": 2,
   "id": "e7b71979",
   "metadata": {},
   "outputs": [],
   "source": [
    "from google.cloud import bigquery"
   ]
  },
  {
   "cell_type": "code",
   "execution_count": 3,
   "id": "1fd7a07c",
   "metadata": {},
   "outputs": [],
   "source": [
    "from datetime import timedelta"
   ]
  },
  {
   "cell_type": "code",
   "execution_count": 4,
   "id": "7db1ae00",
   "metadata": {},
   "outputs": [],
   "source": [
    "project_id = 'your-project-here'"
   ]
  },
  {
   "cell_type": "code",
   "execution_count": 5,
   "id": "9b7b68d2",
   "metadata": {},
   "outputs": [],
   "source": [
    "BigQuery_client = bigquery.Client(project=project_id)"
   ]
  },
  {
   "cell_type": "code",
   "execution_count": 6,
   "id": "bdf59e8f",
   "metadata": {},
   "outputs": [],
   "source": [
    "# This is a practice query to ensure you can pull a short query from lcp-consortium\n",
    "practice = '''SELECT * FROM `lcp-consortium.mimiciv_note.radiology` LIMIT 10;'''"
   ]
  },
  {
   "cell_type": "code",
   "execution_count": 7,
   "id": "754b8a86",
   "metadata": {},
   "outputs": [
    {
     "data": {
      "text/html": [
       "<div>\n",
       "<style scoped>\n",
       "    .dataframe tbody tr th:only-of-type {\n",
       "        vertical-align: middle;\n",
       "    }\n",
       "\n",
       "    .dataframe tbody tr th {\n",
       "        vertical-align: top;\n",
       "    }\n",
       "\n",
       "    .dataframe thead th {\n",
       "        text-align: right;\n",
       "    }\n",
       "</style>\n",
       "<table border=\"1\" class=\"dataframe\">\n",
       "  <thead>\n",
       "    <tr style=\"text-align: right;\">\n",
       "      <th></th>\n",
       "      <th>note_id</th>\n",
       "      <th>subject_id</th>\n",
       "      <th>hadm_id</th>\n",
       "      <th>note_type</th>\n",
       "      <th>note_seq</th>\n",
       "      <th>charttime</th>\n",
       "      <th>storetime</th>\n",
       "      <th>text</th>\n",
       "    </tr>\n",
       "  </thead>\n",
       "  <tbody>\n",
       "    <tr>\n",
       "      <th>0</th>\n",
       "      <td>14923562-RR-256</td>\n",
       "      <td>14923562</td>\n",
       "      <td>23365149</td>\n",
       "      <td>RR</td>\n",
       "      <td>256</td>\n",
       "      <td>2116-02-07 04:07:00</td>\n",
       "      <td>2116-02-07 10:28:00</td>\n",
       "      <td>EXAMINATION:  CHEST (PORTABLE AP)\\n\\nINDICATIO...</td>\n",
       "    </tr>\n",
       "    <tr>\n",
       "      <th>1</th>\n",
       "      <td>14295224-RR-256</td>\n",
       "      <td>14295224</td>\n",
       "      <td>26322817</td>\n",
       "      <td>RR</td>\n",
       "      <td>256</td>\n",
       "      <td>2167-06-01 18:06:00</td>\n",
       "      <td>2167-06-01 19:27:00</td>\n",
       "      <td>EXAMINATION:  CHEST (PORTABLE AP)\\n\\nINDICATIO...</td>\n",
       "    </tr>\n",
       "    <tr>\n",
       "      <th>2</th>\n",
       "      <td>10312715-RR-256</td>\n",
       "      <td>10312715</td>\n",
       "      <td>23111705</td>\n",
       "      <td>RR</td>\n",
       "      <td>256</td>\n",
       "      <td>2183-09-16 13:46:00</td>\n",
       "      <td>2183-09-16 14:35:00</td>\n",
       "      <td>INDICATION:  ___ with injury to L ankle - stru...</td>\n",
       "    </tr>\n",
       "    <tr>\n",
       "      <th>3</th>\n",
       "      <td>15171624-RR-256</td>\n",
       "      <td>15171624</td>\n",
       "      <td>25142670</td>\n",
       "      <td>RR</td>\n",
       "      <td>256</td>\n",
       "      <td>2183-11-29 08:05:00</td>\n",
       "      <td>2183-11-29 10:13:00</td>\n",
       "      <td>REASON FOR EXAM:  ___ man with chest radiograp...</td>\n",
       "    </tr>\n",
       "    <tr>\n",
       "      <th>4</th>\n",
       "      <td>10578325-RR-256</td>\n",
       "      <td>10578325</td>\n",
       "      <td>20206823</td>\n",
       "      <td>RR</td>\n",
       "      <td>256</td>\n",
       "      <td>2147-05-04 15:08:00</td>\n",
       "      <td>2147-05-04 15:53:00</td>\n",
       "      <td>EXAMINATION:  CHEST PORT. LINE PLACEMENT\\n\\nIN...</td>\n",
       "    </tr>\n",
       "  </tbody>\n",
       "</table>\n",
       "</div>"
      ],
      "text/plain": [
       "           note_id  subject_id   hadm_id note_type  note_seq  \\\n",
       "0  14923562-RR-256    14923562  23365149        RR       256   \n",
       "1  14295224-RR-256    14295224  26322817        RR       256   \n",
       "2  10312715-RR-256    10312715  23111705        RR       256   \n",
       "3  15171624-RR-256    15171624  25142670        RR       256   \n",
       "4  10578325-RR-256    10578325  20206823        RR       256   \n",
       "\n",
       "            charttime           storetime  \\\n",
       "0 2116-02-07 04:07:00 2116-02-07 10:28:00   \n",
       "1 2167-06-01 18:06:00 2167-06-01 19:27:00   \n",
       "2 2183-09-16 13:46:00 2183-09-16 14:35:00   \n",
       "3 2183-11-29 08:05:00 2183-11-29 10:13:00   \n",
       "4 2147-05-04 15:08:00 2147-05-04 15:53:00   \n",
       "\n",
       "                                                text  \n",
       "0  EXAMINATION:  CHEST (PORTABLE AP)\\n\\nINDICATIO...  \n",
       "1  EXAMINATION:  CHEST (PORTABLE AP)\\n\\nINDICATIO...  \n",
       "2  INDICATION:  ___ with injury to L ankle - stru...  \n",
       "3  REASON FOR EXAM:  ___ man with chest radiograp...  \n",
       "4  EXAMINATION:  CHEST PORT. LINE PLACEMENT\\n\\nIN...  "
      ]
     },
     "execution_count": 7,
     "metadata": {},
     "output_type": "execute_result"
    }
   ],
   "source": [
    "# Put the short practice query into a dataframe\n",
    "dfpractice = BigQuery_client.query(practice).to_dataframe()\n",
    "dfpractice.head()"
   ]
  },
  {
   "cell_type": "code",
   "execution_count": 8,
   "id": "174d891a",
   "metadata": {},
   "outputs": [],
   "source": [
    "### Code below works with all CTPAs identified ###"
   ]
  },
  {
   "cell_type": "code",
   "execution_count": 9,
   "id": "2c105ddb",
   "metadata": {},
   "outputs": [],
   "source": [
    "# Import the file of all CTPAs, including both positive and negative PE\n",
    "AllCTPA = pd.read_csv(\"/AllCTPA.csv\")"
   ]
  },
  {
   "cell_type": "code",
   "execution_count": 10,
   "id": "2c49d700",
   "metadata": {},
   "outputs": [
    {
     "data": {
      "text/plain": [
       "17417"
      ]
     },
     "execution_count": 10,
     "metadata": {},
     "output_type": "execute_result"
    }
   ],
   "source": [
    "len(AllCTPA)"
   ]
  },
  {
   "cell_type": "code",
   "execution_count": 11,
   "id": "d1c56277",
   "metadata": {},
   "outputs": [],
   "source": [
    "# I want to pull in all XR images available from MIMIC-CXR\n",
    "CXR = '''--CTE for dicom table\n",
    "WITH dicom AS\n",
    "(SELECT dicom, VIEWPOSITION\n",
    "FROM `physionet-data.mimic_cxr.dicom_metadata_string`),\n",
    "\n",
    "--CTE for record table\n",
    "record AS\n",
    "(SELECT study_id, dicom_id\n",
    "FROM `physionet-data.mimic_cxr.record_list`),\n",
    "\n",
    "--CTE for study table\n",
    "study AS\n",
    "(SELECT subject_id, study_id, study_datetime, path, text\n",
    "FROM `physionet-data.mimic_cxr.study`)\n",
    "\n",
    "SELECT * FROM study\n",
    "LEFT JOIN record\n",
    "ON study.study_id = record.study_id\n",
    "LEFT JOIN dicom\n",
    "ON record.dicom_id = dicom.dicom'''"
   ]
  },
  {
   "cell_type": "code",
   "execution_count": 12,
   "id": "1c372718",
   "metadata": {},
   "outputs": [
    {
     "data": {
      "text/html": [
       "<div>\n",
       "<style scoped>\n",
       "    .dataframe tbody tr th:only-of-type {\n",
       "        vertical-align: middle;\n",
       "    }\n",
       "\n",
       "    .dataframe tbody tr th {\n",
       "        vertical-align: top;\n",
       "    }\n",
       "\n",
       "    .dataframe thead th {\n",
       "        text-align: right;\n",
       "    }\n",
       "</style>\n",
       "<table border=\"1\" class=\"dataframe\">\n",
       "  <thead>\n",
       "    <tr style=\"text-align: right;\">\n",
       "      <th></th>\n",
       "      <th>subject_id</th>\n",
       "      <th>study_id</th>\n",
       "      <th>study_datetime</th>\n",
       "      <th>path</th>\n",
       "      <th>text</th>\n",
       "      <th>study_id_1</th>\n",
       "      <th>dicom_id</th>\n",
       "      <th>dicom</th>\n",
       "      <th>VIEWPOSITION</th>\n",
       "    </tr>\n",
       "  </thead>\n",
       "  <tbody>\n",
       "    <tr>\n",
       "      <th>0</th>\n",
       "      <td>11604900</td>\n",
       "      <td>55592749</td>\n",
       "      <td>2118-01-28 11:17:07.546</td>\n",
       "      <td>files/p11/p11604900/s55592749.txt</td>\n",
       "      <td>FINAL REPORT\\...</td>\n",
       "      <td>55592749</td>\n",
       "      <td>ca26a21d-a463ec18-769b3820-6a67408f-88f6d707</td>\n",
       "      <td>ca26a21d-a463ec18-769b3820-6a67408f-88f6d707</td>\n",
       "      <td>RAO</td>\n",
       "    </tr>\n",
       "    <tr>\n",
       "      <th>1</th>\n",
       "      <td>11604900</td>\n",
       "      <td>55592749</td>\n",
       "      <td>2118-01-28 11:17:07.546</td>\n",
       "      <td>files/p11/p11604900/s55592749.txt</td>\n",
       "      <td>FINAL REPORT\\...</td>\n",
       "      <td>55592749</td>\n",
       "      <td>adecfaf9-19607119-492efcb4-893f689d-f3878f72</td>\n",
       "      <td>adecfaf9-19607119-492efcb4-893f689d-f3878f72</td>\n",
       "      <td>LAO</td>\n",
       "    </tr>\n",
       "    <tr>\n",
       "      <th>2</th>\n",
       "      <td>12749637</td>\n",
       "      <td>51366076</td>\n",
       "      <td>2193-11-29 15:55:50.781</td>\n",
       "      <td>files/p12/p12749637/s51366076.txt</td>\n",
       "      <td>WET READ: ___ ___ 4:48 PM\\n  1. Retrocardiac ...</td>\n",
       "      <td>51366076</td>\n",
       "      <td>f5d4e935-ce59dfb8-7e648510-ac5196e8-14cb0997</td>\n",
       "      <td>f5d4e935-ce59dfb8-7e648510-ac5196e8-14cb0997</td>\n",
       "      <td>RAO</td>\n",
       "    </tr>\n",
       "    <tr>\n",
       "      <th>3</th>\n",
       "      <td>12749637</td>\n",
       "      <td>51366076</td>\n",
       "      <td>2193-11-29 15:55:50.781</td>\n",
       "      <td>files/p12/p12749637/s51366076.txt</td>\n",
       "      <td>WET READ: ___ ___ 4:48 PM\\n  1. Retrocardiac ...</td>\n",
       "      <td>51366076</td>\n",
       "      <td>29c5aae9-6673f34e-dabe2bdd-57dcfc41-30f0620c</td>\n",
       "      <td>29c5aae9-6673f34e-dabe2bdd-57dcfc41-30f0620c</td>\n",
       "      <td>RAO</td>\n",
       "    </tr>\n",
       "    <tr>\n",
       "      <th>4</th>\n",
       "      <td>12749637</td>\n",
       "      <td>51366076</td>\n",
       "      <td>2193-11-29 15:55:50.781</td>\n",
       "      <td>files/p12/p12749637/s51366076.txt</td>\n",
       "      <td>WET READ: ___ ___ 4:48 PM\\n  1. Retrocardiac ...</td>\n",
       "      <td>51366076</td>\n",
       "      <td>8dd012e1-61c6e46b-c634921d-c3a11d4e-2046d0e1</td>\n",
       "      <td>8dd012e1-61c6e46b-c634921d-c3a11d4e-2046d0e1</td>\n",
       "      <td>LAO</td>\n",
       "    </tr>\n",
       "  </tbody>\n",
       "</table>\n",
       "</div>"
      ],
      "text/plain": [
       "   subject_id  study_id          study_datetime  \\\n",
       "0    11604900  55592749 2118-01-28 11:17:07.546   \n",
       "1    11604900  55592749 2118-01-28 11:17:07.546   \n",
       "2    12749637  51366076 2193-11-29 15:55:50.781   \n",
       "3    12749637  51366076 2193-11-29 15:55:50.781   \n",
       "4    12749637  51366076 2193-11-29 15:55:50.781   \n",
       "\n",
       "                                path  \\\n",
       "0  files/p11/p11604900/s55592749.txt   \n",
       "1  files/p11/p11604900/s55592749.txt   \n",
       "2  files/p12/p12749637/s51366076.txt   \n",
       "3  files/p12/p12749637/s51366076.txt   \n",
       "4  files/p12/p12749637/s51366076.txt   \n",
       "\n",
       "                                                text  study_id_1  \\\n",
       "0                                   FINAL REPORT\\...    55592749   \n",
       "1                                   FINAL REPORT\\...    55592749   \n",
       "2   WET READ: ___ ___ 4:48 PM\\n  1. Retrocardiac ...    51366076   \n",
       "3   WET READ: ___ ___ 4:48 PM\\n  1. Retrocardiac ...    51366076   \n",
       "4   WET READ: ___ ___ 4:48 PM\\n  1. Retrocardiac ...    51366076   \n",
       "\n",
       "                                       dicom_id  \\\n",
       "0  ca26a21d-a463ec18-769b3820-6a67408f-88f6d707   \n",
       "1  adecfaf9-19607119-492efcb4-893f689d-f3878f72   \n",
       "2  f5d4e935-ce59dfb8-7e648510-ac5196e8-14cb0997   \n",
       "3  29c5aae9-6673f34e-dabe2bdd-57dcfc41-30f0620c   \n",
       "4  8dd012e1-61c6e46b-c634921d-c3a11d4e-2046d0e1   \n",
       "\n",
       "                                          dicom VIEWPOSITION  \n",
       "0  ca26a21d-a463ec18-769b3820-6a67408f-88f6d707          RAO  \n",
       "1  adecfaf9-19607119-492efcb4-893f689d-f3878f72          LAO  \n",
       "2  f5d4e935-ce59dfb8-7e648510-ac5196e8-14cb0997          RAO  \n",
       "3  29c5aae9-6673f34e-dabe2bdd-57dcfc41-30f0620c          RAO  \n",
       "4  8dd012e1-61c6e46b-c634921d-c3a11d4e-2046d0e1          LAO  "
      ]
     },
     "execution_count": 12,
     "metadata": {},
     "output_type": "execute_result"
    }
   ],
   "source": [
    "CXR = BigQuery_client.query(CXR).to_dataframe()\n",
    "CXR.head()"
   ]
  },
  {
   "cell_type": "code",
   "execution_count": 13,
   "id": "b130c052",
   "metadata": {},
   "outputs": [
    {
     "data": {
      "text/plain": [
       "377110"
      ]
     },
     "execution_count": 13,
     "metadata": {},
     "output_type": "execute_result"
    }
   ],
   "source": [
    "len(CXR)"
   ]
  },
  {
   "cell_type": "code",
   "execution_count": 14,
   "id": "57f76418",
   "metadata": {},
   "outputs": [
    {
     "name": "stdout",
     "output_type": "stream",
     "text": [
      "Number of unique study IDs: 227835\n"
     ]
    }
   ],
   "source": [
    "# How many unique values are there in study_id in the CXR dataframe?\n",
    "unique_studyid = CXR['study_id'].nunique()\n",
    "print(\"Number of unique study IDs:\", unique_studyid)"
   ]
  },
  {
   "cell_type": "code",
   "execution_count": 15,
   "id": "6701426f",
   "metadata": {},
   "outputs": [
    {
     "data": {
      "text/plain": [
       "122166"
      ]
     },
     "execution_count": 15,
     "metadata": {},
     "output_type": "execute_result"
    }
   ],
   "source": [
    "# Merge the CXR dataframe with the dataframe containing all CTPAs\n",
    "CXRallCTA = AllCTPA.merge(CXR, on='subject_id', how='left')\n",
    "len(CXRallCTA)"
   ]
  },
  {
   "cell_type": "code",
   "execution_count": 16,
   "id": "8a640f0e",
   "metadata": {},
   "outputs": [
    {
     "data": {
      "text/plain": [
       "113523"
      ]
     },
     "execution_count": 16,
     "metadata": {},
     "output_type": "execute_result"
    }
   ],
   "source": [
    "# Filter the dataframe down to only include rows where there is an associated CXR\n",
    "CXRallCTA_notna = CXRallCTA.dropna(subset=['dicom'])\n",
    "len(CXRallCTA_notna)"
   ]
  },
  {
   "cell_type": "code",
   "execution_count": 17,
   "id": "2af579e7",
   "metadata": {},
   "outputs": [],
   "source": [
    "# Make a copy to work with datetime\n",
    "CXRtoallCTA = CXRallCTA_notna.copy()"
   ]
  },
  {
   "cell_type": "code",
   "execution_count": 18,
   "id": "f7510ac3",
   "metadata": {},
   "outputs": [],
   "source": [
    "# Ensure everything is in datetime format\n",
    "CXRtoallCTA['charttime'] = pd.to_datetime(CXRtoallCTA['charttime'])\n",
    "CXRtoallCTA['storetime'] = pd.to_datetime(CXRtoallCTA['storetime'])\n",
    "CXRtoallCTA['study_datetime'] = pd.to_datetime(CXRtoallCTA['study_datetime'])"
   ]
  },
  {
   "cell_type": "code",
   "execution_count": 19,
   "id": "2dba1a4c",
   "metadata": {},
   "outputs": [],
   "source": [
    "# Calculate time difference between CXR order time and CTA order time \n",
    "CXRtoallCTA['CXRtoCTA'] = CXRtoallCTA['study_datetime'] - CXRtoallCTA['charttime']"
   ]
  },
  {
   "cell_type": "code",
   "execution_count": 22,
   "id": "9eb75acd",
   "metadata": {},
   "outputs": [],
   "source": [
    "# Create a new column that is the time difference in hours\n",
    "CXRtoallCTA['time_elapsed_hours'] = CXRtoallCTA['CXRtoCTA'].dt.total_seconds()/3600"
   ]
  },
  {
   "cell_type": "code",
   "execution_count": 25,
   "id": "c983c864",
   "metadata": {},
   "outputs": [],
   "source": [
    "# Create a new column that evalutes to true if the time difference is within 24 hours\n",
    "CXRtoallCTA['within_24'] = abs(CXRtoallCTA['time_elapsed_hours']) <= 24"
   ]
  },
  {
   "cell_type": "code",
   "execution_count": 26,
   "id": "fc442fb6",
   "metadata": {},
   "outputs": [],
   "source": [
    "# Create a new column that evalutes to true if the time difference is 24 hours before and up to 48 hours after\n",
    "CXRtoallCTA['and_48_hours'] = (CXRtoallCTA['time_elapsed_hours'] >= -24) & (CXRtoallCTA['time_elapsed_hours'] <= 48)"
   ]
  },
  {
   "cell_type": "code",
   "execution_count": 28,
   "id": "f9d6873d",
   "metadata": {},
   "outputs": [
    {
     "name": "stdout",
     "output_type": "stream",
     "text": [
      "Number of True values in 'within_24' column: 7175\n"
     ]
    }
   ],
   "source": [
    "# How many CXRs are there within 24 hours? \n",
    "CXR_within_24h = CXRtoallCTA['within_24'].sum()\n",
    "print(\"Number of True values in 'within_24' column:\", CXR_within_24h)"
   ]
  },
  {
   "cell_type": "code",
   "execution_count": 29,
   "id": "d946bb09",
   "metadata": {},
   "outputs": [
    {
     "name": "stdout",
     "output_type": "stream",
     "text": [
      "Number of True values in 'and_48_hours' column: 8054\n"
     ]
    }
   ],
   "source": [
    "# How many CXRs are there within -24 hours and +48 hours?\n",
    "CXR_within_48h = CXRtoallCTA['and_48_hours'].sum()\n",
    "print(\"Number of True values in 'and_48_hours' column:\", CXR_within_48h)"
   ]
  },
  {
   "cell_type": "code",
   "execution_count": 33,
   "id": "2535de5c",
   "metadata": {},
   "outputs": [],
   "source": [
    "# Can we convert the amount of time between CXR to CTA to days so that we can see a histogram of the distribution\n",
    "CXRtoallCTA['time_elapsed_days'] = CXRtoallCTA['CXRtoCTA'].dt.days"
   ]
  },
  {
   "cell_type": "code",
   "execution_count": 34,
   "id": "54dbbd9b",
   "metadata": {},
   "outputs": [
    {
     "data": {
      "image/png": "[encoded data removed]",
      "text/plain": [
       "<Figure size 640x480 with 1 Axes>"
      ]
     },
     "metadata": {},
     "output_type": "display_data"
    }
   ],
   "source": [
    "# Define the range for x-axis ticks (-10 to +10 days)\n",
    "x_ticks_range = range(-10, 10)\n",
    "\n",
    "# Count the occurrences of each day within the specified range\n",
    "day_counts = CXRtoallCTA['time_elapsed_days'].value_counts().reindex(x_ticks_range, fill_value=0)\n",
    "\n",
    "# Plotting the bar graph\n",
    "plt.bar(day_counts.index, day_counts.values)\n",
    "\n",
    "# Adding labels and title\n",
    "plt.xlabel('Days')\n",
    "plt.ylabel('Count')\n",
    "plt.title('Distribution of Time Elapsed (Days) within -10 to +10 days')\n",
    "\n",
    "# Display the plot\n",
    "plt.show()"
   ]
  },
  {
   "cell_type": "code",
   "execution_count": 35,
   "id": "02d75308",
   "metadata": {},
   "outputs": [],
   "source": [
    "## Code below here deals with CTAs that are POSITIVE for PE only"
   ]
  },
  {
   "cell_type": "code",
   "execution_count": 36,
   "id": "c69f7a8a",
   "metadata": {},
   "outputs": [],
   "source": [
    "# Import the file of positive CTPAs only\n",
    "PosCTA = pd.read_csv(\"/PosPE.csv\")"
   ]
  },
  {
   "cell_type": "code",
   "execution_count": 38,
   "id": "40e39263",
   "metadata": {},
   "outputs": [
    {
     "data": {
      "text/plain": [
       "1531"
      ]
     },
     "execution_count": 38,
     "metadata": {},
     "output_type": "execute_result"
    }
   ],
   "source": [
    "len(PosCTA)"
   ]
  },
  {
   "cell_type": "code",
   "execution_count": 37,
   "id": "e492b1f5",
   "metadata": {},
   "outputs": [],
   "source": [
    "CXRposCTA = PosCTA.merge(CXR, on='subject_id', how='left')"
   ]
  },
  {
   "cell_type": "code",
   "execution_count": 39,
   "id": "74ed346a",
   "metadata": {},
   "outputs": [],
   "source": [
    "# Ensure everything is in datetime format\n",
    "CXRposCTA['charttime'] = pd.to_datetime(CXRposCTA['charttime'])\n",
    "CXRposCTA['storetime'] = pd.to_datetime(CXRposCTA['storetime'])\n",
    "CXRposCTA['study_datetime'] = pd.to_datetime(CXRposCTA['study_datetime'])"
   ]
  },
  {
   "cell_type": "code",
   "execution_count": 40,
   "id": "9206c410",
   "metadata": {},
   "outputs": [],
   "source": [
    "# Calculate time difference between CXR order time and CTA order time \n",
    "CXRposCTA['CXRtoCTA'] = CXRposCTA['study_datetime'] - CXRposCTA['charttime']"
   ]
  },
  {
   "cell_type": "code",
   "execution_count": 41,
   "id": "673f57f5",
   "metadata": {},
   "outputs": [],
   "source": [
    "# Create a new column that is the time difference in hours\n",
    "CXRposCTA['time_elapsed_hours'] = CXRposCTA['CXRtoCTA'].dt.total_seconds()/3600"
   ]
  },
  {
   "cell_type": "code",
   "execution_count": 42,
   "id": "d1ca37b9",
   "metadata": {},
   "outputs": [],
   "source": [
    "# Create a new column that evalutes to true if the time difference is within 24 hours\n",
    "CXRposCTA['within_24'] = abs(CXRposCTA['time_elapsed_hours']) <= 24"
   ]
  },
  {
   "cell_type": "code",
   "execution_count": 43,
   "id": "52ce3277",
   "metadata": {},
   "outputs": [],
   "source": [
    "# Create a new column that evalutes to true if the time difference is 24 hours before and up to 48 hours after\n",
    "CXRposCTA['and_48_hours'] = (CXRposCTA['time_elapsed_hours'] >= -24) & (CXRposCTA['time_elapsed_hours'] <= 48)"
   ]
  },
  {
   "cell_type": "code",
   "execution_count": 45,
   "id": "84795e5d",
   "metadata": {},
   "outputs": [],
   "source": [
    "# Create a dataframe that only includes CXRs that are within 24 hours of negative CTAs\n",
    "CXRposCTA24 = CXRposCTA[CXRposCTA['within_24']]"
   ]
  },
  {
   "cell_type": "code",
   "execution_count": 46,
   "id": "33f0e19c",
   "metadata": {},
   "outputs": [
    {
     "data": {
      "text/plain": [
       "668"
      ]
     },
     "execution_count": 46,
     "metadata": {},
     "output_type": "execute_result"
    }
   ],
   "source": [
    "len(CXRposCTA24)"
   ]
  },
  {
   "cell_type": "code",
   "execution_count": 50,
   "id": "294e240c",
   "metadata": {},
   "outputs": [],
   "source": [
    "# Filter down the dataframe further to only include viewposition AP or PA\n",
    "CXRposCTA24view = CXRposCTA24[(CXRposCTA24['VIEWPOSITION'] == 'AP') | (CXRposCTA24['VIEWPOSITION'] == 'PA')]"
   ]
  },
  {
   "cell_type": "code",
   "execution_count": 51,
   "id": "ea56ad25",
   "metadata": {},
   "outputs": [
    {
     "data": {
      "text/plain": [
       "471"
      ]
     },
     "execution_count": 51,
     "metadata": {},
     "output_type": "execute_result"
    }
   ],
   "source": [
    "len(CXRposCTA24view)"
   ]
  },
  {
   "cell_type": "code",
   "execution_count": 57,
   "id": "619101fe",
   "metadata": {},
   "outputs": [],
   "source": [
    "# Export for modeling\n",
    "CXRposCTA24view.to_csv('/CXRpos24.csv', index=False)"
   ]
  },
  {
   "cell_type": "code",
   "execution_count": 54,
   "id": "90c89ed0",
   "metadata": {},
   "outputs": [
    {
     "name": "stdout",
     "output_type": "stream",
     "text": [
      "Number of unique study IDs: 427\n"
     ]
    }
   ],
   "source": [
    "# How many unique values are there in study_id?\n",
    "pos24unique = CXRposCTA24view['study_id'].nunique()\n",
    "print(\"Number of unique study IDs:\", pos24unique)"
   ]
  },
  {
   "cell_type": "code",
   "execution_count": 47,
   "id": "63259144",
   "metadata": {},
   "outputs": [],
   "source": [
    "# Create a dataframe that only includes CXRs that are within -24h and +48h of negative CTAs\n",
    "CXRposCTA48 = CXRposCTA[CXRposCTA['and_48_hours']]"
   ]
  },
  {
   "cell_type": "code",
   "execution_count": 48,
   "id": "d723f37f",
   "metadata": {},
   "outputs": [
    {
     "data": {
      "text/plain": [
       "761"
      ]
     },
     "execution_count": 48,
     "metadata": {},
     "output_type": "execute_result"
    }
   ],
   "source": [
    "len(CXRposCTA48)"
   ]
  },
  {
   "cell_type": "code",
   "execution_count": 52,
   "id": "44af887a",
   "metadata": {},
   "outputs": [],
   "source": [
    "# Filter down the dataframe further to only include viewposition AP or PA\n",
    "CXRposCTA48view = CXRposCTA48[(CXRposCTA48['VIEWPOSITION'] == 'AP') | (CXRposCTA48['VIEWPOSITION'] == 'PA')]"
   ]
  },
  {
   "cell_type": "code",
   "execution_count": 53,
   "id": "b72edf63",
   "metadata": {},
   "outputs": [
    {
     "data": {
      "text/plain": [
       "560"
      ]
     },
     "execution_count": 53,
     "metadata": {},
     "output_type": "execute_result"
    }
   ],
   "source": [
    "len(CXRposCTA48view)"
   ]
  },
  {
   "cell_type": "code",
   "execution_count": 58,
   "id": "25ad6226",
   "metadata": {},
   "outputs": [],
   "source": [
    "# Export for modeling\n",
    "CXRposCTA48view.to_csv('/CXRpos48.csv', index=False)"
   ]
  },
  {
   "cell_type": "code",
   "execution_count": 56,
   "id": "1d735415",
   "metadata": {},
   "outputs": [
    {
     "name": "stdout",
     "output_type": "stream",
     "text": [
      "Number of unique study IDs: 510\n"
     ]
    }
   ],
   "source": [
    "# How many unique values are there in study_id?\n",
    "pos48unique = CXRposCTA48view['study_id'].nunique()\n",
    "print(\"Number of unique study IDs:\", pos48unique)"
   ]
  },
  {
   "cell_type": "code",
   "execution_count": 59,
   "id": "98c7bf41",
   "metadata": {},
   "outputs": [],
   "source": [
    "## Code below here deals with CTAs that are NEGATIVE for PE only"
   ]
  },
  {
   "cell_type": "code",
   "execution_count": 60,
   "id": "1a472298",
   "metadata": {},
   "outputs": [],
   "source": [
    "# Import the file of negative CTPAs only\n",
    "NegCTA = pd.read_csv(\"/NegPE.csv\")"
   ]
  },
  {
   "cell_type": "code",
   "execution_count": 69,
   "id": "20474a30",
   "metadata": {},
   "outputs": [
    {
     "data": {
      "text/plain": [
       "15886"
      ]
     },
     "execution_count": 69,
     "metadata": {},
     "output_type": "execute_result"
    }
   ],
   "source": [
    "len(NegCTA)"
   ]
  },
  {
   "cell_type": "code",
   "execution_count": 61,
   "id": "72f981b4",
   "metadata": {},
   "outputs": [],
   "source": [
    "CXRnegCTA = NegCTA.merge(CXR, on='subject_id', how='left')"
   ]
  },
  {
   "cell_type": "code",
   "execution_count": 62,
   "id": "5ea8d0ca",
   "metadata": {},
   "outputs": [],
   "source": [
    "# Ensure everything is in datetime format\n",
    "CXRnegCTA['charttime'] = pd.to_datetime(CXRnegCTA['charttime'])\n",
    "CXRnegCTA['storetime'] = pd.to_datetime(CXRnegCTA['storetime'])\n",
    "CXRnegCTA['study_datetime'] = pd.to_datetime(CXRnegCTA['study_datetime'])"
   ]
  },
  {
   "cell_type": "code",
   "execution_count": 63,
   "id": "9aaac1aa",
   "metadata": {},
   "outputs": [],
   "source": [
    "# Calculate time difference between CXR order time and CTA order time \n",
    "CXRnegCTA['CXRtoCTA'] = CXRnegCTA['study_datetime'] - CXRnegCTA['charttime']"
   ]
  },
  {
   "cell_type": "code",
   "execution_count": 64,
   "id": "63b2406e",
   "metadata": {},
   "outputs": [],
   "source": [
    "# Create a new column that is the time difference in hours\n",
    "CXRnegCTA['time_elapsed_hours'] = CXRnegCTA['CXRtoCTA'].dt.total_seconds()/3600"
   ]
  },
  {
   "cell_type": "code",
   "execution_count": 65,
   "id": "ba813731",
   "metadata": {},
   "outputs": [],
   "source": [
    "# Create a new column that evalutes to true if the time difference is within 24 hours\n",
    "CXRnegCTA['within_24'] = abs(CXRnegCTA['time_elapsed_hours']) <= 24"
   ]
  },
  {
   "cell_type": "code",
   "execution_count": 66,
   "id": "1fd626b6",
   "metadata": {},
   "outputs": [],
   "source": [
    "# Create a new column that evalutes to true if the time difference is 24 hours before and up to 48 hours after\n",
    "CXRnegCTA['and_48_hours'] = (CXRnegCTA['time_elapsed_hours'] >= -24) & (CXRnegCTA['time_elapsed_hours'] <= 48)"
   ]
  },
  {
   "cell_type": "code",
   "execution_count": 67,
   "id": "817fb4b9",
   "metadata": {},
   "outputs": [],
   "source": [
    "# Create a dataframe that only includes CXRs that are within 24 hours of negative CTAs\n",
    "CXRnegCTA24 = CXRnegCTA[CXRnegCTA['within_24']]"
   ]
  },
  {
   "cell_type": "code",
   "execution_count": 68,
   "id": "40d3bb06",
   "metadata": {},
   "outputs": [
    {
     "data": {
      "text/plain": [
       "6507"
      ]
     },
     "execution_count": 68,
     "metadata": {},
     "output_type": "execute_result"
    }
   ],
   "source": [
    "len(CXRnegCTA24)"
   ]
  },
  {
   "cell_type": "code",
   "execution_count": 70,
   "id": "d7b60d9a",
   "metadata": {},
   "outputs": [],
   "source": [
    "# Filter down the dataframe further to only include viewposition AP or PA\n",
    "CXRnegCTA24view = CXRnegCTA24[(CXRnegCTA24['VIEWPOSITION'] == 'AP') | (CXRnegCTA24['VIEWPOSITION'] == 'PA')]"
   ]
  },
  {
   "cell_type": "code",
   "execution_count": 71,
   "id": "ddafd3d7",
   "metadata": {},
   "outputs": [
    {
     "data": {
      "text/plain": [
       "4280"
      ]
     },
     "execution_count": 71,
     "metadata": {},
     "output_type": "execute_result"
    }
   ],
   "source": [
    "len(CXRnegCTA24view)"
   ]
  },
  {
   "cell_type": "code",
   "execution_count": 72,
   "id": "299e94df",
   "metadata": {},
   "outputs": [],
   "source": [
    "# Export for modeling\n",
    "CXRnegCTA24view.to_csv('/CXRneg24.csv', index=False)"
   ]
  },
  {
   "cell_type": "code",
   "execution_count": 73,
   "id": "177de3a4",
   "metadata": {},
   "outputs": [
    {
     "name": "stdout",
     "output_type": "stream",
     "text": [
      "Number of unique study IDs: 3890\n"
     ]
    }
   ],
   "source": [
    "# How many unique values are there in study_id?\n",
    "neg24unique = CXRnegCTA24view['study_id'].nunique()\n",
    "print(\"Number of unique study IDs:\", neg24unique)"
   ]
  },
  {
   "cell_type": "code",
   "execution_count": 74,
   "id": "08bfd15b",
   "metadata": {},
   "outputs": [],
   "source": [
    "# Create a dataframe that only includes CXRs that are within -24h and +48h of negative CTAs\n",
    "CXRnegCTA48 = CXRnegCTA[CXRnegCTA['and_48_hours']]"
   ]
  },
  {
   "cell_type": "code",
   "execution_count": 75,
   "id": "c4eb3f90",
   "metadata": {},
   "outputs": [
    {
     "data": {
      "text/plain": [
       "7293"
      ]
     },
     "execution_count": 75,
     "metadata": {},
     "output_type": "execute_result"
    }
   ],
   "source": [
    "len(CXRnegCTA48)"
   ]
  },
  {
   "cell_type": "code",
   "execution_count": 76,
   "id": "c5ec8e56",
   "metadata": {},
   "outputs": [],
   "source": [
    "# Filter each dataframe down to only include AP or PA CXRs\n",
    "CXRnegCTA48view = CXRnegCTA48[(CXRnegCTA48['VIEWPOSITION'] == 'AP') | (CXRnegCTA48['VIEWPOSITION'] == 'PA')]"
   ]
  },
  {
   "cell_type": "code",
   "execution_count": 77,
   "id": "7c140030",
   "metadata": {},
   "outputs": [
    {
     "data": {
      "text/plain": [
       "4988"
      ]
     },
     "execution_count": 77,
     "metadata": {},
     "output_type": "execute_result"
    }
   ],
   "source": [
    "len(CXRnegCTA48view)"
   ]
  },
  {
   "cell_type": "code",
   "execution_count": 78,
   "id": "4ff93172",
   "metadata": {},
   "outputs": [],
   "source": [
    "# Export for modeling\n",
    "CXRnegCTA48view.to_csv('/CXRneg48.csv', index=False)"
   ]
  },
  {
   "cell_type": "code",
   "execution_count": 79,
   "id": "7c053eb3",
   "metadata": {},
   "outputs": [
    {
     "name": "stdout",
     "output_type": "stream",
     "text": [
      "Number of unique study IDs: 4521\n"
     ]
    }
   ],
   "source": [
    "# How many unique values are there in study_id?\n",
    "neg48unique = CXRnegCTA48view['study_id'].nunique()\n",
    "print(\"Number of unique study IDs:\", neg48unique)"
   ]
  },
  {
   "cell_type": "code",
   "execution_count": null,
   "id": "fbceac39",
   "metadata": {},
   "outputs": [],
   "source": []
  }
 ],
 "metadata": {
  "kernelspec": {
   "display_name": "Python 3 (ipykernel)",
   "language": "python",
   "name": "python3"
  },
  "language_info": {
   "codemirror_mode": {
    "name": "ipython",
    "version": 3
   },
   "file_extension": ".py",
   "mimetype": "text/x-python",
   "name": "python",
   "nbconvert_exporter": "python",
   "pygments_lexer": "ipython3",
   "version": "3.9.13"
  }
 },
 "nbformat": 4,
 "nbformat_minor": 5
}
